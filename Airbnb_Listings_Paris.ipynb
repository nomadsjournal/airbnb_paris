{
 "cells": [
  {
   "cell_type": "markdown",
   "metadata": {},
   "source": [
    "# Overview"
   ]
  },
  {
   "cell_type": "markdown",
   "metadata": {},
   "source": [
    "## Motivation\n",
    "    Airbnb has been disrupting hospitality industry for a while. It boasts rich population of data from every major city in the world. As an avid traveller, I want to see how the the Airbnb listings are like in Paris.\n",
    "    \n",
    "## Dataset\n",
    "    The dataset consists of the Airbnb listings in Paris, with the listing description, host info, numbers of reviews, average scores, and property info (44758, 10). I will be looking at this dataset from different angles using machine learning tools such as clustering and NLP. \n",
    "    - Data Source: http://insideairbnb.com/get-the-data.html\n",
    "    \n",
    "## Goal\n",
    "    My goal is to see if there's any distinction between the superhosts and non-superhosts. First, I need to get to know the general population. Then, I will like to know the keywords that can help the hosts to get more bookings."
   ]
  },
  {
   "cell_type": "code",
   "execution_count": 1,
   "metadata": {},
   "outputs": [],
   "source": [
    "import pandas as pd\n",
    "import numpy as np\n",
    "import matplotlib.pyplot as plt\n",
    "import seaborn as sns\n",
    "%matplotlib inline\n",
    "\n",
    "from sklearn.model_selection import train_test_split"
   ]
  },
  {
   "cell_type": "markdown",
   "metadata": {},
   "source": [
    "# Data Exploration\n",
    "\n",
    "## from bird's eye view\n",
    "- Let's take a look at the dataset."
   ]
  },
  {
   "cell_type": "code",
   "execution_count": 212,
   "metadata": {},
   "outputs": [],
   "source": [
    "df=pd.read_csv('listings.csv', usecols=['id', 'name', 'description', 'host_is_superhost',  \n",
    "            'number_of_reviews', 'neighbourhood', 'property_type', 'room_type', \n",
    "            'review_scores_rating', 'reviews_per_month'])\n",
    "\n",
    "df=df.dropna()"
   ]
  },
  {
   "cell_type": "code",
   "execution_count": 213,
   "metadata": {
    "scrolled": true
   },
   "outputs": [
    {
     "data": {
      "text/plain": [
       "(44758, 10)"
      ]
     },
     "execution_count": 213,
     "metadata": {},
     "output_type": "execute_result"
    }
   ],
   "source": [
    "df.shape"
   ]
  },
  {
   "cell_type": "code",
   "execution_count": 214,
   "metadata": {
    "scrolled": true
   },
   "outputs": [
    {
     "data": {
      "text/html": [
       "<div>\n",
       "<style scoped>\n",
       "    .dataframe tbody tr th:only-of-type {\n",
       "        vertical-align: middle;\n",
       "    }\n",
       "\n",
       "    .dataframe tbody tr th {\n",
       "        vertical-align: top;\n",
       "    }\n",
       "\n",
       "    .dataframe thead th {\n",
       "        text-align: right;\n",
       "    }\n",
       "</style>\n",
       "<table border=\"1\" class=\"dataframe\">\n",
       "  <thead>\n",
       "    <tr style=\"text-align: right;\">\n",
       "      <th></th>\n",
       "      <th>id</th>\n",
       "      <th>name</th>\n",
       "      <th>description</th>\n",
       "      <th>host_is_superhost</th>\n",
       "      <th>neighbourhood</th>\n",
       "      <th>property_type</th>\n",
       "      <th>room_type</th>\n",
       "      <th>number_of_reviews</th>\n",
       "      <th>review_scores_rating</th>\n",
       "      <th>reviews_per_month</th>\n",
       "    </tr>\n",
       "  </thead>\n",
       "  <tbody>\n",
       "    <tr>\n",
       "      <th>0</th>\n",
       "      <td>3109</td>\n",
       "      <td>zen and calm</td>\n",
       "      <td>I bedroom appartment in Paris 14 Good restaura...</td>\n",
       "      <td>f</td>\n",
       "      <td>Alésia</td>\n",
       "      <td>Apartment</td>\n",
       "      <td>Entire home/apt</td>\n",
       "      <td>8</td>\n",
       "      <td>100.0</td>\n",
       "      <td>0.28</td>\n",
       "    </tr>\n",
       "    <tr>\n",
       "      <th>1</th>\n",
       "      <td>5396</td>\n",
       "      <td>Explore the heart of old Paris</td>\n",
       "      <td>Cozy, well-appointed and graciously designed s...</td>\n",
       "      <td>f</td>\n",
       "      <td>IV Arrondissement</td>\n",
       "      <td>Apartment</td>\n",
       "      <td>Entire home/apt</td>\n",
       "      <td>173</td>\n",
       "      <td>91.0</td>\n",
       "      <td>1.44</td>\n",
       "    </tr>\n",
       "  </tbody>\n",
       "</table>\n",
       "</div>"
      ],
      "text/plain": [
       "     id                            name  \\\n",
       "0  3109                    zen and calm   \n",
       "1  5396  Explore the heart of old Paris   \n",
       "\n",
       "                                         description host_is_superhost  \\\n",
       "0  I bedroom appartment in Paris 14 Good restaura...                 f   \n",
       "1  Cozy, well-appointed and graciously designed s...                 f   \n",
       "\n",
       "       neighbourhood property_type        room_type  number_of_reviews  \\\n",
       "0             Alésia     Apartment  Entire home/apt                  8   \n",
       "1  IV Arrondissement     Apartment  Entire home/apt                173   \n",
       "\n",
       "   review_scores_rating  reviews_per_month  \n",
       "0                 100.0               0.28  \n",
       "1                  91.0               1.44  "
      ]
     },
     "execution_count": 214,
     "metadata": {},
     "output_type": "execute_result"
    }
   ],
   "source": [
    "# this is how the dataset looks like.\n",
    "df.head(2)"
   ]
  },
  {
   "cell_type": "code",
   "execution_count": 215,
   "metadata": {
    "scrolled": true
   },
   "outputs": [
    {
     "data": {
      "text/plain": [
       "(6713, 10)"
      ]
     },
     "execution_count": 215,
     "metadata": {},
     "output_type": "execute_result"
    }
   ],
   "source": [
    "df[df.host_is_superhost=='t'].shape"
   ]
  },
  {
   "cell_type": "markdown",
   "metadata": {},
   "source": [
    "The superhost is about 15% of the entire population, making this dataset imbalanced. "
   ]
  },
  {
   "cell_type": "code",
   "execution_count": 216,
   "metadata": {
    "scrolled": false
   },
   "outputs": [
    {
     "data": {
      "text/plain": [
       "id                        int64\n",
       "name                     object\n",
       "description              object\n",
       "host_is_superhost        object\n",
       "neighbourhood            object\n",
       "property_type            object\n",
       "room_type                object\n",
       "number_of_reviews         int64\n",
       "review_scores_rating    float64\n",
       "reviews_per_month       float64\n",
       "dtype: object"
      ]
     },
     "execution_count": 216,
     "metadata": {},
     "output_type": "execute_result"
    }
   ],
   "source": [
    "df.dtypes"
   ]
  },
  {
   "cell_type": "markdown",
   "metadata": {},
   "source": [
    "### Data Visualization"
   ]
  },
  {
   "cell_type": "code",
   "execution_count": 217,
   "metadata": {},
   "outputs": [],
   "source": [
    "df.host_is_superhost=(df.host_is_superhost=='t').astype(int)"
   ]
  },
  {
   "cell_type": "code",
   "execution_count": 218,
   "metadata": {},
   "outputs": [
    {
     "data": {
      "text/html": [
       "<div>\n",
       "<style scoped>\n",
       "    .dataframe tbody tr th:only-of-type {\n",
       "        vertical-align: middle;\n",
       "    }\n",
       "\n",
       "    .dataframe tbody tr th {\n",
       "        vertical-align: top;\n",
       "    }\n",
       "\n",
       "    .dataframe thead th {\n",
       "        text-align: right;\n",
       "    }\n",
       "</style>\n",
       "<table border=\"1\" class=\"dataframe\">\n",
       "  <thead>\n",
       "    <tr style=\"text-align: right;\">\n",
       "      <th></th>\n",
       "      <th>id</th>\n",
       "      <th>name</th>\n",
       "      <th>description</th>\n",
       "      <th>neighbourhood</th>\n",
       "      <th>property_type</th>\n",
       "      <th>room_type</th>\n",
       "      <th>number_of_reviews</th>\n",
       "      <th>review_scores_rating</th>\n",
       "      <th>reviews_per_month</th>\n",
       "    </tr>\n",
       "    <tr>\n",
       "      <th>host_is_superhost</th>\n",
       "      <th></th>\n",
       "      <th></th>\n",
       "      <th></th>\n",
       "      <th></th>\n",
       "      <th></th>\n",
       "      <th></th>\n",
       "      <th></th>\n",
       "      <th></th>\n",
       "      <th></th>\n",
       "    </tr>\n",
       "  </thead>\n",
       "  <tbody>\n",
       "    <tr>\n",
       "      <th>0</th>\n",
       "      <td>38045</td>\n",
       "      <td>38045</td>\n",
       "      <td>38045</td>\n",
       "      <td>38045</td>\n",
       "      <td>38045</td>\n",
       "      <td>38045</td>\n",
       "      <td>38045</td>\n",
       "      <td>38045</td>\n",
       "      <td>38045</td>\n",
       "    </tr>\n",
       "    <tr>\n",
       "      <th>1</th>\n",
       "      <td>6713</td>\n",
       "      <td>6713</td>\n",
       "      <td>6713</td>\n",
       "      <td>6713</td>\n",
       "      <td>6713</td>\n",
       "      <td>6713</td>\n",
       "      <td>6713</td>\n",
       "      <td>6713</td>\n",
       "      <td>6713</td>\n",
       "    </tr>\n",
       "  </tbody>\n",
       "</table>\n",
       "</div>"
      ],
      "text/plain": [
       "                      id   name  description  neighbourhood  property_type  \\\n",
       "host_is_superhost                                                            \n",
       "0                  38045  38045        38045          38045          38045   \n",
       "1                   6713   6713         6713           6713           6713   \n",
       "\n",
       "                   room_type  number_of_reviews  review_scores_rating  \\\n",
       "host_is_superhost                                                       \n",
       "0                      38045              38045                 38045   \n",
       "1                       6713               6713                  6713   \n",
       "\n",
       "                   reviews_per_month  \n",
       "host_is_superhost                     \n",
       "0                              38045  \n",
       "1                               6713  "
      ]
     },
     "execution_count": 218,
     "metadata": {},
     "output_type": "execute_result"
    }
   ],
   "source": [
    "df.groupby(by='host_is_superhost').count()"
   ]
  },
  {
   "cell_type": "code",
   "execution_count": 219,
   "metadata": {},
   "outputs": [
    {
     "data": {
      "text/plain": [
       "0    I bedroom appartment in Paris 14 Good restaura...\n",
       "1    Cozy, well-appointed and graciously designed s...\n",
       "2    VERY CONVENIENT, WITH THE BEST LOCATION ! PLEA...\n",
       "3    Really nice flat located in the 20th district ...\n",
       "5    Make your stay in Paris a perfect experience. ...\n",
       "Name: description, dtype: object"
      ]
     },
     "execution_count": 219,
     "metadata": {},
     "output_type": "execute_result"
    }
   ],
   "source": [
    "df.description.head()"
   ]
  },
  {
   "cell_type": "markdown",
   "metadata": {},
   "source": [
    "#### Top Neighborhoods"
   ]
  },
  {
   "cell_type": "code",
   "execution_count": 240,
   "metadata": {},
   "outputs": [
    {
     "data": {
      "image/png": "[encoded data removed]",
      "text/plain": [
       "<Figure size 720x360 with 1 Axes>"
      ]
     },
     "metadata": {
      "needs_background": "light"
     },
     "output_type": "display_data"
    }
   ],
   "source": [
    "plt.figure(figsize=(10, 5))\n",
    "df.neighbourhood.value_counts().head(15).plot(kind='bar')\n",
    "plt.title('15 top neighborhood in Paris')\n",
    "\n",
    "plt.xticks(rotation=60)\n",
    "plt.subplots_adjust(bottom=0.15)\n",
    "plt.tight_layout(h_pad=1.0)\n",
    "plt.show()"
   ]
  },
  {
   "cell_type": "markdown",
   "metadata": {},
   "source": [
    "#### Top Property Types"
   ]
  },
  {
   "cell_type": "code",
   "execution_count": 11,
   "metadata": {},
   "outputs": [
    {
     "data": {
      "image/png": "[encoded data removed]",
      "text/plain": [
       "<Figure size 720x360 with 1 Axes>"
      ]
     },
     "metadata": {
      "needs_background": "light"
     },
     "output_type": "display_data"
    }
   ],
   "source": [
    "plt.figure(figsize=(10, 5))\n",
    "df.property_type.value_counts().head(10).plot(kind='bar')\n",
    "\n",
    "plt.xticks(rotation=25)\n",
    "plt.title('10 Property Types in Paris')\n",
    "plt.show()"
   ]
  },
  {
   "cell_type": "code",
   "execution_count": 12,
   "metadata": {
    "scrolled": true
   },
   "outputs": [
    {
     "data": {
      "text/html": [
       "<div>\n",
       "<style scoped>\n",
       "    .dataframe tbody tr th:only-of-type {\n",
       "        vertical-align: middle;\n",
       "    }\n",
       "\n",
       "    .dataframe tbody tr th {\n",
       "        vertical-align: top;\n",
       "    }\n",
       "\n",
       "    .dataframe thead th {\n",
       "        text-align: right;\n",
       "    }\n",
       "</style>\n",
       "<table border=\"1\" class=\"dataframe\">\n",
       "  <thead>\n",
       "    <tr style=\"text-align: right;\">\n",
       "      <th></th>\n",
       "      <th>id</th>\n",
       "      <th>name</th>\n",
       "      <th>description</th>\n",
       "      <th>host_is_superhost</th>\n",
       "      <th>neighbourhood</th>\n",
       "      <th>property_type</th>\n",
       "      <th>number_of_reviews</th>\n",
       "      <th>review_scores_rating</th>\n",
       "      <th>reviews_per_month</th>\n",
       "    </tr>\n",
       "    <tr>\n",
       "      <th>room_type</th>\n",
       "      <th></th>\n",
       "      <th></th>\n",
       "      <th></th>\n",
       "      <th></th>\n",
       "      <th></th>\n",
       "      <th></th>\n",
       "      <th></th>\n",
       "      <th></th>\n",
       "      <th></th>\n",
       "    </tr>\n",
       "  </thead>\n",
       "  <tbody>\n",
       "    <tr>\n",
       "      <th>Entire home/apt</th>\n",
       "      <td>39013</td>\n",
       "      <td>39013</td>\n",
       "      <td>39013</td>\n",
       "      <td>39013</td>\n",
       "      <td>39013</td>\n",
       "      <td>39013</td>\n",
       "      <td>39013</td>\n",
       "      <td>39013</td>\n",
       "      <td>39013</td>\n",
       "    </tr>\n",
       "    <tr>\n",
       "      <th>Private room</th>\n",
       "      <td>5420</td>\n",
       "      <td>5420</td>\n",
       "      <td>5420</td>\n",
       "      <td>5420</td>\n",
       "      <td>5420</td>\n",
       "      <td>5420</td>\n",
       "      <td>5420</td>\n",
       "      <td>5420</td>\n",
       "      <td>5420</td>\n",
       "    </tr>\n",
       "    <tr>\n",
       "      <th>Shared room</th>\n",
       "      <td>325</td>\n",
       "      <td>325</td>\n",
       "      <td>325</td>\n",
       "      <td>325</td>\n",
       "      <td>325</td>\n",
       "      <td>325</td>\n",
       "      <td>325</td>\n",
       "      <td>325</td>\n",
       "      <td>325</td>\n",
       "    </tr>\n",
       "  </tbody>\n",
       "</table>\n",
       "</div>"
      ],
      "text/plain": [
       "                    id   name  description  host_is_superhost  neighbourhood  \\\n",
       "room_type                                                                      \n",
       "Entire home/apt  39013  39013        39013              39013          39013   \n",
       "Private room      5420   5420         5420               5420           5420   \n",
       "Shared room        325    325          325                325            325   \n",
       "\n",
       "                 property_type  number_of_reviews  review_scores_rating  \\\n",
       "room_type                                                                 \n",
       "Entire home/apt          39013              39013                 39013   \n",
       "Private room              5420               5420                  5420   \n",
       "Shared room                325                325                   325   \n",
       "\n",
       "                 reviews_per_month  \n",
       "room_type                           \n",
       "Entire home/apt              39013  \n",
       "Private room                  5420  \n",
       "Shared room                    325  "
      ]
     },
     "execution_count": 12,
     "metadata": {},
     "output_type": "execute_result"
    }
   ],
   "source": [
    "df.groupby(by='room_type').count().sort_values(by='id', ascending=False)"
   ]
  },
  {
   "cell_type": "markdown",
   "metadata": {},
   "source": [
    "## Prepare the data"
   ]
  },
  {
   "cell_type": "code",
   "execution_count": 13,
   "metadata": {},
   "outputs": [],
   "source": [
    "# Choose top 3 property types.\n",
    "top_properties = ['Apartment','Condominium','Loft']\n",
    "df=df[df.property_type.isin(top_properties)]"
   ]
  },
  {
   "cell_type": "code",
   "execution_count": 14,
   "metadata": {},
   "outputs": [],
   "source": [
    "neighbourhood = pd.get_dummies (df.neighbourhood)\n",
    "property_type = pd.get_dummies(df.property_type)\n",
    "room_type = pd.get_dummies(df.room_type)"
   ]
  },
  {
   "cell_type": "code",
   "execution_count": 15,
   "metadata": {},
   "outputs": [],
   "source": [
    "categories = ['neighbourhood', 'property_type', 'room_type']\n",
    "df=df.drop(columns=categories)"
   ]
  },
  {
   "cell_type": "code",
   "execution_count": 16,
   "metadata": {},
   "outputs": [],
   "source": [
    "df=pd.concat([df, neighbourhood, property_type, room_type],axis=1)"
   ]
  },
  {
   "cell_type": "code",
   "execution_count": 17,
   "metadata": {},
   "outputs": [
    {
     "data": {
      "text/html": [
       "<div>\n",
       "<style scoped>\n",
       "    .dataframe tbody tr th:only-of-type {\n",
       "        vertical-align: middle;\n",
       "    }\n",
       "\n",
       "    .dataframe tbody tr th {\n",
       "        vertical-align: top;\n",
       "    }\n",
       "\n",
       "    .dataframe thead th {\n",
       "        text-align: right;\n",
       "    }\n",
       "</style>\n",
       "<table border=\"1\" class=\"dataframe\">\n",
       "  <thead>\n",
       "    <tr style=\"text-align: right;\">\n",
       "      <th></th>\n",
       "      <th>id</th>\n",
       "      <th>name</th>\n",
       "      <th>description</th>\n",
       "      <th>host_is_superhost</th>\n",
       "      <th>number_of_reviews</th>\n",
       "      <th>review_scores_rating</th>\n",
       "      <th>reviews_per_month</th>\n",
       "      <th>Alésia</th>\n",
       "      <th>Austerlitz</th>\n",
       "      <th>Auteuil</th>\n",
       "      <th>...</th>\n",
       "      <th>XVI Arrondissement</th>\n",
       "      <th>XVII Arrondissement</th>\n",
       "      <th>XVIII Arrondissement</th>\n",
       "      <th>XX Arrondissement</th>\n",
       "      <th>Apartment</th>\n",
       "      <th>Condominium</th>\n",
       "      <th>Loft</th>\n",
       "      <th>Entire home/apt</th>\n",
       "      <th>Private room</th>\n",
       "      <th>Shared room</th>\n",
       "    </tr>\n",
       "  </thead>\n",
       "  <tbody>\n",
       "    <tr>\n",
       "      <th>0</th>\n",
       "      <td>3109</td>\n",
       "      <td>zen and calm</td>\n",
       "      <td>I bedroom appartment in Paris 14 Good restaura...</td>\n",
       "      <td>0</td>\n",
       "      <td>8</td>\n",
       "      <td>100.0</td>\n",
       "      <td>0.28</td>\n",
       "      <td>1</td>\n",
       "      <td>0</td>\n",
       "      <td>0</td>\n",
       "      <td>...</td>\n",
       "      <td>0</td>\n",
       "      <td>0</td>\n",
       "      <td>0</td>\n",
       "      <td>0</td>\n",
       "      <td>1</td>\n",
       "      <td>0</td>\n",
       "      <td>0</td>\n",
       "      <td>1</td>\n",
       "      <td>0</td>\n",
       "      <td>0</td>\n",
       "    </tr>\n",
       "    <tr>\n",
       "      <th>1</th>\n",
       "      <td>5396</td>\n",
       "      <td>Explore the heart of old Paris</td>\n",
       "      <td>Cozy, well-appointed and graciously designed s...</td>\n",
       "      <td>0</td>\n",
       "      <td>173</td>\n",
       "      <td>91.0</td>\n",
       "      <td>1.44</td>\n",
       "      <td>0</td>\n",
       "      <td>0</td>\n",
       "      <td>0</td>\n",
       "      <td>...</td>\n",
       "      <td>0</td>\n",
       "      <td>0</td>\n",
       "      <td>0</td>\n",
       "      <td>0</td>\n",
       "      <td>1</td>\n",
       "      <td>0</td>\n",
       "      <td>0</td>\n",
       "      <td>1</td>\n",
       "      <td>0</td>\n",
       "      <td>0</td>\n",
       "    </tr>\n",
       "  </tbody>\n",
       "</table>\n",
       "<p>2 rows × 76 columns</p>\n",
       "</div>"
      ],
      "text/plain": [
       "     id                            name  \\\n",
       "0  3109                    zen and calm   \n",
       "1  5396  Explore the heart of old Paris   \n",
       "\n",
       "                                         description  host_is_superhost  \\\n",
       "0  I bedroom appartment in Paris 14 Good restaura...                  0   \n",
       "1  Cozy, well-appointed and graciously designed s...                  0   \n",
       "\n",
       "   number_of_reviews  review_scores_rating  reviews_per_month  Alésia  \\\n",
       "0                  8                 100.0               0.28       1   \n",
       "1                173                  91.0               1.44       0   \n",
       "\n",
       "   Austerlitz  Auteuil     ...       XVI Arrondissement  XVII Arrondissement  \\\n",
       "0           0        0     ...                        0                    0   \n",
       "1           0        0     ...                        0                    0   \n",
       "\n",
       "   XVIII Arrondissement  XX Arrondissement  Apartment  Condominium  Loft  \\\n",
       "0                     0                  0          1            0     0   \n",
       "1                     0                  0          1            0     0   \n",
       "\n",
       "   Entire home/apt  Private room  Shared room  \n",
       "0                1             0            0  \n",
       "1                1             0            0  \n",
       "\n",
       "[2 rows x 76 columns]"
      ]
     },
     "execution_count": 17,
     "metadata": {},
     "output_type": "execute_result"
    }
   ],
   "source": [
    "df.head(2)"
   ]
  },
  {
   "cell_type": "markdown",
   "metadata": {},
   "source": [
    "# Cluster what the Airbnb listings are like in Paris."
   ]
  },
  {
   "cell_type": "code",
   "execution_count": 18,
   "metadata": {},
   "outputs": [],
   "source": [
    "from sklearn.cluster import KMeans\n",
    "from sklearn.preprocessing import normalize\n",
    "from sklearn.decomposition import PCA\n",
    "from sklearn.cluster import MiniBatchKMeans\n",
    "from sklearn.cluster import MeanShift, estimate_bandwidth\n",
    "\n",
    "from sklearn import metrics\n",
    "from sklearn.metrics import pairwise_distances"
   ]
  },
  {
   "cell_type": "code",
   "execution_count": 19,
   "metadata": {},
   "outputs": [],
   "source": [
    "scores=df.iloc[:, 3:]"
   ]
  },
  {
   "cell_type": "code",
   "execution_count": 20,
   "metadata": {},
   "outputs": [],
   "source": [
    "super_host=df[df['host_is_superhost']==1]\n",
    "super_host=super_host.iloc[:,4:]"
   ]
  },
  {
   "cell_type": "code",
   "execution_count": 21,
   "metadata": {},
   "outputs": [
    {
     "data": {
      "text/html": [
       "<div>\n",
       "<style scoped>\n",
       "    .dataframe tbody tr th:only-of-type {\n",
       "        vertical-align: middle;\n",
       "    }\n",
       "\n",
       "    .dataframe tbody tr th {\n",
       "        vertical-align: top;\n",
       "    }\n",
       "\n",
       "    .dataframe thead th {\n",
       "        text-align: right;\n",
       "    }\n",
       "</style>\n",
       "<table border=\"1\" class=\"dataframe\">\n",
       "  <thead>\n",
       "    <tr style=\"text-align: right;\">\n",
       "      <th></th>\n",
       "      <th>number_of_reviews</th>\n",
       "      <th>review_scores_rating</th>\n",
       "      <th>reviews_per_month</th>\n",
       "      <th>Alésia</th>\n",
       "      <th>Austerlitz</th>\n",
       "      <th>Auteuil</th>\n",
       "      <th>Bastille</th>\n",
       "      <th>Batignolles</th>\n",
       "      <th>Bercy</th>\n",
       "      <th>Buttes-Chaumont - Belleville</th>\n",
       "      <th>...</th>\n",
       "      <th>XVI Arrondissement</th>\n",
       "      <th>XVII Arrondissement</th>\n",
       "      <th>XVIII Arrondissement</th>\n",
       "      <th>XX Arrondissement</th>\n",
       "      <th>Apartment</th>\n",
       "      <th>Condominium</th>\n",
       "      <th>Loft</th>\n",
       "      <th>Entire home/apt</th>\n",
       "      <th>Private room</th>\n",
       "      <th>Shared room</th>\n",
       "    </tr>\n",
       "  </thead>\n",
       "  <tbody>\n",
       "    <tr>\n",
       "      <th>5</th>\n",
       "      <td>17</td>\n",
       "      <td>99.0</td>\n",
       "      <td>0.23</td>\n",
       "      <td>0</td>\n",
       "      <td>0</td>\n",
       "      <td>0</td>\n",
       "      <td>0</td>\n",
       "      <td>0</td>\n",
       "      <td>0</td>\n",
       "      <td>0</td>\n",
       "      <td>...</td>\n",
       "      <td>0</td>\n",
       "      <td>0</td>\n",
       "      <td>0</td>\n",
       "      <td>0</td>\n",
       "      <td>1</td>\n",
       "      <td>0</td>\n",
       "      <td>0</td>\n",
       "      <td>1</td>\n",
       "      <td>0</td>\n",
       "      <td>0</td>\n",
       "    </tr>\n",
       "    <tr>\n",
       "      <th>6</th>\n",
       "      <td>42</td>\n",
       "      <td>96.0</td>\n",
       "      <td>0.37</td>\n",
       "      <td>0</td>\n",
       "      <td>0</td>\n",
       "      <td>0</td>\n",
       "      <td>0</td>\n",
       "      <td>0</td>\n",
       "      <td>0</td>\n",
       "      <td>0</td>\n",
       "      <td>...</td>\n",
       "      <td>0</td>\n",
       "      <td>0</td>\n",
       "      <td>0</td>\n",
       "      <td>0</td>\n",
       "      <td>1</td>\n",
       "      <td>0</td>\n",
       "      <td>0</td>\n",
       "      <td>1</td>\n",
       "      <td>0</td>\n",
       "      <td>0</td>\n",
       "    </tr>\n",
       "  </tbody>\n",
       "</table>\n",
       "<p>2 rows × 72 columns</p>\n",
       "</div>"
      ],
      "text/plain": [
       "   number_of_reviews  review_scores_rating  reviews_per_month  Alésia  \\\n",
       "5                 17                  99.0               0.23       0   \n",
       "6                 42                  96.0               0.37       0   \n",
       "\n",
       "   Austerlitz  Auteuil  Bastille  Batignolles  Bercy  \\\n",
       "5           0        0         0            0      0   \n",
       "6           0        0         0            0      0   \n",
       "\n",
       "   Buttes-Chaumont - Belleville     ...       XVI Arrondissement  \\\n",
       "5                             0     ...                        0   \n",
       "6                             0     ...                        0   \n",
       "\n",
       "   XVII Arrondissement  XVIII Arrondissement  XX Arrondissement  Apartment  \\\n",
       "5                    0                     0                  0          1   \n",
       "6                    0                     0                  0          1   \n",
       "\n",
       "   Condominium  Loft  Entire home/apt  Private room  Shared room  \n",
       "5            0     0                1             0            0  \n",
       "6            0     0                1             0            0  \n",
       "\n",
       "[2 rows x 72 columns]"
      ]
     },
     "execution_count": 21,
     "metadata": {},
     "output_type": "execute_result"
    }
   ],
   "source": [
    "super_host.head(2)"
   ]
  },
  {
   "cell_type": "markdown",
   "metadata": {},
   "source": [
    "## K-Means Clustering\n",
    "\n",
    "### function to find the optimal k"
   ]
  },
  {
   "cell_type": "code",
   "execution_count": 21,
   "metadata": {},
   "outputs": [],
   "source": [
    "from scipy.spatial.distance import cdist\n",
    "\n",
    "distortions = []\n",
    "K = range(1,10)\n",
    "\n",
    "def find_k (table):\n",
    "    for k in K:\n",
    "        kmeanModel = KMeans(n_clusters=k).fit(table)\n",
    "        kmeanModel.fit(table)\n",
    "        distortions.append(sum(np.min(cdist(table, \n",
    "            kmeanModel.cluster_centers_, 'euclidean'), axis=1)) / table.shape[0])\n",
    "    plt.plot(K, distortions, 'bx-')\n",
    "    plt.xlabel('k')\n",
    "    plt.ylabel('Distortion')\n",
    "    plt.title('The Elbow Method showing the optimal k')\n",
    "    plt.show()"
   ]
  },
  {
   "cell_type": "markdown",
   "metadata": {},
   "source": [
    "### From the entire population"
   ]
  },
  {
   "cell_type": "code",
   "execution_count": 22,
   "metadata": {},
   "outputs": [
    {
     "data": {
      "image/png": "[encoded data removed]",
      "text/plain": [
       "<Figure size 432x288 with 1 Axes>"
      ]
     },
     "metadata": {
      "needs_background": "light"
     },
     "output_type": "display_data"
    }
   ],
   "source": [
    "find_k(scores)"
   ]
  },
  {
   "cell_type": "code",
   "execution_count": 22,
   "metadata": {},
   "outputs": [
    {
     "name": "stdout",
     "output_type": "stream",
     "text": [
      "0.6639093161362085\n"
     ]
    }
   ],
   "source": [
    "X_norm = normalize(scores)\n",
    "km = KMeans(n_clusters=3)\n",
    "km_pred = km.fit_predict(X_norm)\n",
    "\n",
    "print(metrics.silhouette_score(X_norm, km.labels_, metric='euclidean'))"
   ]
  },
  {
   "cell_type": "code",
   "execution_count": 23,
   "metadata": {
    "scrolled": true
   },
   "outputs": [
    {
     "data": {
      "text/html": [
       "<div>\n",
       "<style scoped>\n",
       "    .dataframe tbody tr th:only-of-type {\n",
       "        vertical-align: middle;\n",
       "    }\n",
       "\n",
       "    .dataframe tbody tr th {\n",
       "        vertical-align: top;\n",
       "    }\n",
       "\n",
       "    .dataframe thead th {\n",
       "        text-align: right;\n",
       "    }\n",
       "</style>\n",
       "<table border=\"1\" class=\"dataframe\">\n",
       "  <thead>\n",
       "    <tr style=\"text-align: right;\">\n",
       "      <th></th>\n",
       "      <th>host_is_superhost</th>\n",
       "      <th>number_of_reviews</th>\n",
       "      <th>review_scores_rating</th>\n",
       "      <th>reviews_per_month</th>\n",
       "      <th>Alésia</th>\n",
       "      <th>Austerlitz</th>\n",
       "      <th>Auteuil</th>\n",
       "      <th>Bastille</th>\n",
       "      <th>Batignolles</th>\n",
       "      <th>Bercy</th>\n",
       "      <th>...</th>\n",
       "      <th>XVI Arrondissement</th>\n",
       "      <th>XVII Arrondissement</th>\n",
       "      <th>XVIII Arrondissement</th>\n",
       "      <th>XX Arrondissement</th>\n",
       "      <th>Apartment</th>\n",
       "      <th>Condominium</th>\n",
       "      <th>Loft</th>\n",
       "      <th>Entire home/apt</th>\n",
       "      <th>Private room</th>\n",
       "      <th>Shared room</th>\n",
       "    </tr>\n",
       "    <tr>\n",
       "      <th>km_pred</th>\n",
       "      <th></th>\n",
       "      <th></th>\n",
       "      <th></th>\n",
       "      <th></th>\n",
       "      <th></th>\n",
       "      <th></th>\n",
       "      <th></th>\n",
       "      <th></th>\n",
       "      <th></th>\n",
       "      <th></th>\n",
       "      <th></th>\n",
       "      <th></th>\n",
       "      <th></th>\n",
       "      <th></th>\n",
       "      <th></th>\n",
       "      <th></th>\n",
       "      <th></th>\n",
       "      <th></th>\n",
       "      <th></th>\n",
       "      <th></th>\n",
       "      <th></th>\n",
       "    </tr>\n",
       "  </thead>\n",
       "  <tbody>\n",
       "    <tr>\n",
       "      <th>0</th>\n",
       "      <td>0.305117</td>\n",
       "      <td>38.857417</td>\n",
       "      <td>93.417719</td>\n",
       "      <td>1.678266</td>\n",
       "      <td>0.018598</td>\n",
       "      <td>0.001127</td>\n",
       "      <td>0.007101</td>\n",
       "      <td>0.024008</td>\n",
       "      <td>0.016682</td>\n",
       "      <td>0.000225</td>\n",
       "      <td>...</td>\n",
       "      <td>0.021754</td>\n",
       "      <td>0.032800</td>\n",
       "      <td>0.054892</td>\n",
       "      <td>0.024910</td>\n",
       "      <td>0.937782</td>\n",
       "      <td>0.030884</td>\n",
       "      <td>0.031335</td>\n",
       "      <td>0.891682</td>\n",
       "      <td>0.098399</td>\n",
       "      <td>0.009919</td>\n",
       "    </tr>\n",
       "    <tr>\n",
       "      <th>1</th>\n",
       "      <td>0.332958</td>\n",
       "      <td>134.331831</td>\n",
       "      <td>92.787042</td>\n",
       "      <td>3.145487</td>\n",
       "      <td>0.012113</td>\n",
       "      <td>0.000282</td>\n",
       "      <td>0.005915</td>\n",
       "      <td>0.024507</td>\n",
       "      <td>0.011549</td>\n",
       "      <td>0.000000</td>\n",
       "      <td>...</td>\n",
       "      <td>0.024225</td>\n",
       "      <td>0.020563</td>\n",
       "      <td>0.047042</td>\n",
       "      <td>0.014366</td>\n",
       "      <td>0.927887</td>\n",
       "      <td>0.027324</td>\n",
       "      <td>0.044789</td>\n",
       "      <td>0.836338</td>\n",
       "      <td>0.155211</td>\n",
       "      <td>0.008451</td>\n",
       "    </tr>\n",
       "    <tr>\n",
       "      <th>2</th>\n",
       "      <td>0.080818</td>\n",
       "      <td>7.417026</td>\n",
       "      <td>92.840834</td>\n",
       "      <td>0.722551</td>\n",
       "      <td>0.018205</td>\n",
       "      <td>0.000658</td>\n",
       "      <td>0.007637</td>\n",
       "      <td>0.023143</td>\n",
       "      <td>0.021101</td>\n",
       "      <td>0.000296</td>\n",
       "      <td>...</td>\n",
       "      <td>0.022320</td>\n",
       "      <td>0.037528</td>\n",
       "      <td>0.063667</td>\n",
       "      <td>0.037199</td>\n",
       "      <td>0.950719</td>\n",
       "      <td>0.029990</td>\n",
       "      <td>0.019291</td>\n",
       "      <td>0.897554</td>\n",
       "      <td>0.096883</td>\n",
       "      <td>0.005563</td>\n",
       "    </tr>\n",
       "  </tbody>\n",
       "</table>\n",
       "<p>3 rows × 73 columns</p>\n",
       "</div>"
      ],
      "text/plain": [
       "         host_is_superhost  number_of_reviews  review_scores_rating  \\\n",
       "km_pred                                                               \n",
       "0                 0.305117          38.857417             93.417719   \n",
       "1                 0.332958         134.331831             92.787042   \n",
       "2                 0.080818           7.417026             92.840834   \n",
       "\n",
       "         reviews_per_month    Alésia  Austerlitz   Auteuil  Bastille  \\\n",
       "km_pred                                                                \n",
       "0                 1.678266  0.018598    0.001127  0.007101  0.024008   \n",
       "1                 3.145487  0.012113    0.000282  0.005915  0.024507   \n",
       "2                 0.722551  0.018205    0.000658  0.007637  0.023143   \n",
       "\n",
       "         Batignolles     Bercy     ...       XVI Arrondissement  \\\n",
       "km_pred                            ...                            \n",
       "0           0.016682  0.000225     ...                 0.021754   \n",
       "1           0.011549  0.000000     ...                 0.024225   \n",
       "2           0.021101  0.000296     ...                 0.022320   \n",
       "\n",
       "         XVII Arrondissement  XVIII Arrondissement  XX Arrondissement  \\\n",
       "km_pred                                                                 \n",
       "0                   0.032800              0.054892           0.024910   \n",
       "1                   0.020563              0.047042           0.014366   \n",
       "2                   0.037528              0.063667           0.037199   \n",
       "\n",
       "         Apartment  Condominium      Loft  Entire home/apt  Private room  \\\n",
       "km_pred                                                                    \n",
       "0         0.937782     0.030884  0.031335         0.891682      0.098399   \n",
       "1         0.927887     0.027324  0.044789         0.836338      0.155211   \n",
       "2         0.950719     0.029990  0.019291         0.897554      0.096883   \n",
       "\n",
       "         Shared room  \n",
       "km_pred               \n",
       "0           0.009919  \n",
       "1           0.008451  \n",
       "2           0.005563  \n",
       "\n",
       "[3 rows x 73 columns]"
      ]
     },
     "execution_count": 23,
     "metadata": {},
     "output_type": "execute_result"
    }
   ],
   "source": [
    "scores['km_pred']=km_pred\n",
    "scores.groupby(by='km_pred').mean()"
   ]
  },
  {
   "cell_type": "code",
   "execution_count": 24,
   "metadata": {},
   "outputs": [
    {
     "data": {
      "text/html": [
       "<div>\n",
       "<style scoped>\n",
       "    .dataframe tbody tr th:only-of-type {\n",
       "        vertical-align: middle;\n",
       "    }\n",
       "\n",
       "    .dataframe tbody tr th {\n",
       "        vertical-align: top;\n",
       "    }\n",
       "\n",
       "    .dataframe thead th {\n",
       "        text-align: right;\n",
       "    }\n",
       "</style>\n",
       "<table border=\"1\" class=\"dataframe\">\n",
       "  <thead>\n",
       "    <tr style=\"text-align: right;\">\n",
       "      <th></th>\n",
       "      <th>host_is_superhost</th>\n",
       "      <th>number_of_reviews</th>\n",
       "      <th>review_scores_rating</th>\n",
       "      <th>reviews_per_month</th>\n",
       "      <th>Alésia</th>\n",
       "      <th>Austerlitz</th>\n",
       "      <th>Auteuil</th>\n",
       "      <th>Bastille</th>\n",
       "      <th>Batignolles</th>\n",
       "      <th>Bercy</th>\n",
       "      <th>...</th>\n",
       "      <th>XVI Arrondissement</th>\n",
       "      <th>XVII Arrondissement</th>\n",
       "      <th>XVIII Arrondissement</th>\n",
       "      <th>XX Arrondissement</th>\n",
       "      <th>Apartment</th>\n",
       "      <th>Condominium</th>\n",
       "      <th>Loft</th>\n",
       "      <th>Entire home/apt</th>\n",
       "      <th>Private room</th>\n",
       "      <th>Shared room</th>\n",
       "    </tr>\n",
       "    <tr>\n",
       "      <th>km_pred</th>\n",
       "      <th></th>\n",
       "      <th></th>\n",
       "      <th></th>\n",
       "      <th></th>\n",
       "      <th></th>\n",
       "      <th></th>\n",
       "      <th></th>\n",
       "      <th></th>\n",
       "      <th></th>\n",
       "      <th></th>\n",
       "      <th></th>\n",
       "      <th></th>\n",
       "      <th></th>\n",
       "      <th></th>\n",
       "      <th></th>\n",
       "      <th></th>\n",
       "      <th></th>\n",
       "      <th></th>\n",
       "      <th></th>\n",
       "      <th></th>\n",
       "      <th></th>\n",
       "    </tr>\n",
       "  </thead>\n",
       "  <tbody>\n",
       "    <tr>\n",
       "      <th>0</th>\n",
       "      <td>8872</td>\n",
       "      <td>8872</td>\n",
       "      <td>8872</td>\n",
       "      <td>8872</td>\n",
       "      <td>8872</td>\n",
       "      <td>8872</td>\n",
       "      <td>8872</td>\n",
       "      <td>8872</td>\n",
       "      <td>8872</td>\n",
       "      <td>8872</td>\n",
       "      <td>...</td>\n",
       "      <td>8872</td>\n",
       "      <td>8872</td>\n",
       "      <td>8872</td>\n",
       "      <td>8872</td>\n",
       "      <td>8872</td>\n",
       "      <td>8872</td>\n",
       "      <td>8872</td>\n",
       "      <td>8872</td>\n",
       "      <td>8872</td>\n",
       "      <td>8872</td>\n",
       "    </tr>\n",
       "    <tr>\n",
       "      <th>1</th>\n",
       "      <td>3550</td>\n",
       "      <td>3550</td>\n",
       "      <td>3550</td>\n",
       "      <td>3550</td>\n",
       "      <td>3550</td>\n",
       "      <td>3550</td>\n",
       "      <td>3550</td>\n",
       "      <td>3550</td>\n",
       "      <td>3550</td>\n",
       "      <td>3550</td>\n",
       "      <td>...</td>\n",
       "      <td>3550</td>\n",
       "      <td>3550</td>\n",
       "      <td>3550</td>\n",
       "      <td>3550</td>\n",
       "      <td>3550</td>\n",
       "      <td>3550</td>\n",
       "      <td>3550</td>\n",
       "      <td>3550</td>\n",
       "      <td>3550</td>\n",
       "      <td>3550</td>\n",
       "    </tr>\n",
       "    <tr>\n",
       "      <th>2</th>\n",
       "      <td>30377</td>\n",
       "      <td>30377</td>\n",
       "      <td>30377</td>\n",
       "      <td>30377</td>\n",
       "      <td>30377</td>\n",
       "      <td>30377</td>\n",
       "      <td>30377</td>\n",
       "      <td>30377</td>\n",
       "      <td>30377</td>\n",
       "      <td>30377</td>\n",
       "      <td>...</td>\n",
       "      <td>30377</td>\n",
       "      <td>30377</td>\n",
       "      <td>30377</td>\n",
       "      <td>30377</td>\n",
       "      <td>30377</td>\n",
       "      <td>30377</td>\n",
       "      <td>30377</td>\n",
       "      <td>30377</td>\n",
       "      <td>30377</td>\n",
       "      <td>30377</td>\n",
       "    </tr>\n",
       "  </tbody>\n",
       "</table>\n",
       "<p>3 rows × 73 columns</p>\n",
       "</div>"
      ],
      "text/plain": [
       "         host_is_superhost  number_of_reviews  review_scores_rating  \\\n",
       "km_pred                                                               \n",
       "0                     8872               8872                  8872   \n",
       "1                     3550               3550                  3550   \n",
       "2                    30377              30377                 30377   \n",
       "\n",
       "         reviews_per_month  Alésia  Austerlitz  Auteuil  Bastille  \\\n",
       "km_pred                                                             \n",
       "0                     8872    8872        8872     8872      8872   \n",
       "1                     3550    3550        3550     3550      3550   \n",
       "2                    30377   30377       30377    30377     30377   \n",
       "\n",
       "         Batignolles  Bercy     ...       XVI Arrondissement  \\\n",
       "km_pred                         ...                            \n",
       "0               8872   8872     ...                     8872   \n",
       "1               3550   3550     ...                     3550   \n",
       "2              30377  30377     ...                    30377   \n",
       "\n",
       "         XVII Arrondissement  XVIII Arrondissement  XX Arrondissement  \\\n",
       "km_pred                                                                 \n",
       "0                       8872                  8872               8872   \n",
       "1                       3550                  3550               3550   \n",
       "2                      30377                 30377              30377   \n",
       "\n",
       "         Apartment  Condominium   Loft  Entire home/apt  Private room  \\\n",
       "km_pred                                                                 \n",
       "0             8872         8872   8872             8872          8872   \n",
       "1             3550         3550   3550             3550          3550   \n",
       "2            30377        30377  30377            30377         30377   \n",
       "\n",
       "         Shared room  \n",
       "km_pred               \n",
       "0               8872  \n",
       "1               3550  \n",
       "2              30377  \n",
       "\n",
       "[3 rows x 73 columns]"
      ]
     },
     "execution_count": 24,
     "metadata": {},
     "output_type": "execute_result"
    }
   ],
   "source": [
    "scores.groupby(by='km_pred').count()"
   ]
  },
  {
   "cell_type": "markdown",
   "metadata": {},
   "source": [
    "We see that the K-means divided the hosts based on the `number_of_reviews` and `reviews_per_month`."
   ]
  },
  {
   "cell_type": "markdown",
   "metadata": {},
   "source": [
    "### See Super-hosts"
   ]
  },
  {
   "cell_type": "code",
   "execution_count": 25,
   "metadata": {},
   "outputs": [
    {
     "data": {
      "image/png": "[encoded data removed]",
      "text/plain": [
       "<Figure size 432x288 with 1 Axes>"
      ]
     },
     "metadata": {
      "needs_background": "light"
     },
     "output_type": "display_data"
    }
   ],
   "source": [
    "distortions = []\n",
    "\n",
    "find_k(super_host)"
   ]
  },
  {
   "cell_type": "code",
   "execution_count": 25,
   "metadata": {},
   "outputs": [
    {
     "name": "stdout",
     "output_type": "stream",
     "text": [
      "0.5922786145076747\n"
     ]
    }
   ],
   "source": [
    "X_norm = normalize(super_host)\n",
    "km = KMeans(n_clusters=3)\n",
    "km_pred_sh = km.fit_predict(super_host)\n",
    "\n",
    "print(metrics.silhouette_score(X_norm, km.labels_, metric='euclidean'))"
   ]
  },
  {
   "cell_type": "code",
   "execution_count": 26,
   "metadata": {
    "scrolled": true
   },
   "outputs": [
    {
     "data": {
      "text/plain": [
       "(6344, 72)"
      ]
     },
     "execution_count": 26,
     "metadata": {},
     "output_type": "execute_result"
    }
   ],
   "source": [
    "super_host.shape"
   ]
  },
  {
   "cell_type": "markdown",
   "metadata": {},
   "source": [
    "## Mean Shift"
   ]
  },
  {
   "cell_type": "code",
   "execution_count": 27,
   "metadata": {},
   "outputs": [
    {
     "name": "stdout",
     "output_type": "stream",
     "text": [
      "Number of estimated clusters: 4\n",
      "0.8120609336086226\n"
     ]
    }
   ],
   "source": [
    "bandwidth = estimate_bandwidth(super_host, quantile=0.6, \n",
    "                               n_samples=100)\n",
    "\n",
    "# Declare and fit the model.\n",
    "ms = MeanShift(bandwidth=bandwidth, bin_seeding=True)\n",
    "ms.fit(super_host)\n",
    "\n",
    "# Extract cluster assignments for each data point.\n",
    "labels = ms.labels_\n",
    "\n",
    "# Coordinates of the cluster centers.\n",
    "cluster_centers = ms.cluster_centers_\n",
    "\n",
    "# Count our clusters.\n",
    "n_clusters_ = len(np.unique(labels))\n",
    "\n",
    "print(\"Number of estimated clusters: {}\".format(n_clusters_))\n",
    "print(metrics.silhouette_score(super_host, labels, metric='euclidean'))"
   ]
  },
  {
   "cell_type": "code",
   "execution_count": 28,
   "metadata": {},
   "outputs": [],
   "source": [
    "super_host['ms_score']=labels\n",
    "super_host['km_pred'] = km_pred_sh"
   ]
  },
  {
   "cell_type": "code",
   "execution_count": 30,
   "metadata": {
    "scrolled": false
   },
   "outputs": [
    {
     "data": {
      "text/html": [
       "<div>\n",
       "<style scoped>\n",
       "    .dataframe tbody tr th:only-of-type {\n",
       "        vertical-align: middle;\n",
       "    }\n",
       "\n",
       "    .dataframe tbody tr th {\n",
       "        vertical-align: top;\n",
       "    }\n",
       "\n",
       "    .dataframe thead th {\n",
       "        text-align: right;\n",
       "    }\n",
       "</style>\n",
       "<table border=\"1\" class=\"dataframe\">\n",
       "  <thead>\n",
       "    <tr style=\"text-align: right;\">\n",
       "      <th></th>\n",
       "      <th>number_of_reviews</th>\n",
       "      <th>review_scores_rating</th>\n",
       "      <th>reviews_per_month</th>\n",
       "      <th>Alésia</th>\n",
       "      <th>Austerlitz</th>\n",
       "      <th>Auteuil</th>\n",
       "      <th>Bastille</th>\n",
       "      <th>Batignolles</th>\n",
       "      <th>Bercy</th>\n",
       "      <th>Buttes-Chaumont - Belleville</th>\n",
       "      <th>...</th>\n",
       "      <th>XVII Arrondissement</th>\n",
       "      <th>XVIII Arrondissement</th>\n",
       "      <th>XX Arrondissement</th>\n",
       "      <th>Apartment</th>\n",
       "      <th>Condominium</th>\n",
       "      <th>Loft</th>\n",
       "      <th>Entire home/apt</th>\n",
       "      <th>Private room</th>\n",
       "      <th>Shared room</th>\n",
       "      <th>km_pred</th>\n",
       "    </tr>\n",
       "    <tr>\n",
       "      <th>ms_score</th>\n",
       "      <th></th>\n",
       "      <th></th>\n",
       "      <th></th>\n",
       "      <th></th>\n",
       "      <th></th>\n",
       "      <th></th>\n",
       "      <th></th>\n",
       "      <th></th>\n",
       "      <th></th>\n",
       "      <th></th>\n",
       "      <th></th>\n",
       "      <th></th>\n",
       "      <th></th>\n",
       "      <th></th>\n",
       "      <th></th>\n",
       "      <th></th>\n",
       "      <th></th>\n",
       "      <th></th>\n",
       "      <th></th>\n",
       "      <th></th>\n",
       "      <th></th>\n",
       "    </tr>\n",
       "  </thead>\n",
       "  <tbody>\n",
       "    <tr>\n",
       "      <th>0</th>\n",
       "      <td>44.39361</td>\n",
       "      <td>96.933706</td>\n",
       "      <td>1.774192</td>\n",
       "      <td>0.018371</td>\n",
       "      <td>0.000639</td>\n",
       "      <td>0.007188</td>\n",
       "      <td>0.024601</td>\n",
       "      <td>0.014537</td>\n",
       "      <td>0.000319</td>\n",
       "      <td>0.026358</td>\n",
       "      <td>...</td>\n",
       "      <td>0.033546</td>\n",
       "      <td>0.050958</td>\n",
       "      <td>0.023642</td>\n",
       "      <td>0.918211</td>\n",
       "      <td>0.042492</td>\n",
       "      <td>0.039297</td>\n",
       "      <td>0.872364</td>\n",
       "      <td>0.119968</td>\n",
       "      <td>0.007668</td>\n",
       "      <td>0.436581</td>\n",
       "    </tr>\n",
       "    <tr>\n",
       "      <th>1</th>\n",
       "      <td>312.00000</td>\n",
       "      <td>95.987654</td>\n",
       "      <td>5.398642</td>\n",
       "      <td>0.000000</td>\n",
       "      <td>0.012346</td>\n",
       "      <td>0.000000</td>\n",
       "      <td>0.012346</td>\n",
       "      <td>0.000000</td>\n",
       "      <td>0.000000</td>\n",
       "      <td>0.000000</td>\n",
       "      <td>...</td>\n",
       "      <td>0.024691</td>\n",
       "      <td>0.061728</td>\n",
       "      <td>0.024691</td>\n",
       "      <td>0.950617</td>\n",
       "      <td>0.012346</td>\n",
       "      <td>0.037037</td>\n",
       "      <td>0.728395</td>\n",
       "      <td>0.271605</td>\n",
       "      <td>0.000000</td>\n",
       "      <td>1.000000</td>\n",
       "    </tr>\n",
       "    <tr>\n",
       "      <th>2</th>\n",
       "      <td>677.00000</td>\n",
       "      <td>95.500000</td>\n",
       "      <td>9.125000</td>\n",
       "      <td>0.000000</td>\n",
       "      <td>0.000000</td>\n",
       "      <td>0.000000</td>\n",
       "      <td>0.000000</td>\n",
       "      <td>0.000000</td>\n",
       "      <td>0.000000</td>\n",
       "      <td>0.000000</td>\n",
       "      <td>...</td>\n",
       "      <td>0.000000</td>\n",
       "      <td>0.000000</td>\n",
       "      <td>0.000000</td>\n",
       "      <td>1.000000</td>\n",
       "      <td>0.000000</td>\n",
       "      <td>0.000000</td>\n",
       "      <td>0.000000</td>\n",
       "      <td>1.000000</td>\n",
       "      <td>0.000000</td>\n",
       "      <td>1.000000</td>\n",
       "    </tr>\n",
       "    <tr>\n",
       "      <th>3</th>\n",
       "      <td>783.00000</td>\n",
       "      <td>94.000000</td>\n",
       "      <td>9.610000</td>\n",
       "      <td>0.000000</td>\n",
       "      <td>0.000000</td>\n",
       "      <td>0.000000</td>\n",
       "      <td>0.000000</td>\n",
       "      <td>0.000000</td>\n",
       "      <td>0.000000</td>\n",
       "      <td>0.000000</td>\n",
       "      <td>...</td>\n",
       "      <td>0.000000</td>\n",
       "      <td>0.000000</td>\n",
       "      <td>0.000000</td>\n",
       "      <td>1.000000</td>\n",
       "      <td>0.000000</td>\n",
       "      <td>0.000000</td>\n",
       "      <td>0.000000</td>\n",
       "      <td>1.000000</td>\n",
       "      <td>0.000000</td>\n",
       "      <td>1.000000</td>\n",
       "    </tr>\n",
       "  </tbody>\n",
       "</table>\n",
       "<p>4 rows × 73 columns</p>\n",
       "</div>"
      ],
      "text/plain": [
       "          number_of_reviews  review_scores_rating  reviews_per_month  \\\n",
       "ms_score                                                               \n",
       "0                  44.39361             96.933706           1.774192   \n",
       "1                 312.00000             95.987654           5.398642   \n",
       "2                 677.00000             95.500000           9.125000   \n",
       "3                 783.00000             94.000000           9.610000   \n",
       "\n",
       "            Alésia  Austerlitz   Auteuil  Bastille  Batignolles     Bercy  \\\n",
       "ms_score                                                                    \n",
       "0         0.018371    0.000639  0.007188  0.024601     0.014537  0.000319   \n",
       "1         0.000000    0.012346  0.000000  0.012346     0.000000  0.000000   \n",
       "2         0.000000    0.000000  0.000000  0.000000     0.000000  0.000000   \n",
       "3         0.000000    0.000000  0.000000  0.000000     0.000000  0.000000   \n",
       "\n",
       "          Buttes-Chaumont - Belleville    ...     XVII Arrondissement  \\\n",
       "ms_score                                  ...                           \n",
       "0                             0.026358    ...                0.033546   \n",
       "1                             0.000000    ...                0.024691   \n",
       "2                             0.000000    ...                0.000000   \n",
       "3                             0.000000    ...                0.000000   \n",
       "\n",
       "          XVIII Arrondissement  XX Arrondissement  Apartment  Condominium  \\\n",
       "ms_score                                                                    \n",
       "0                     0.050958           0.023642   0.918211     0.042492   \n",
       "1                     0.061728           0.024691   0.950617     0.012346   \n",
       "2                     0.000000           0.000000   1.000000     0.000000   \n",
       "3                     0.000000           0.000000   1.000000     0.000000   \n",
       "\n",
       "              Loft  Entire home/apt  Private room  Shared room   km_pred  \n",
       "ms_score                                                                  \n",
       "0         0.039297         0.872364      0.119968     0.007668  0.436581  \n",
       "1         0.037037         0.728395      0.271605     0.000000  1.000000  \n",
       "2         0.000000         0.000000      1.000000     0.000000  1.000000  \n",
       "3         0.000000         0.000000      1.000000     0.000000  1.000000  \n",
       "\n",
       "[4 rows x 73 columns]"
      ]
     },
     "execution_count": 30,
     "metadata": {},
     "output_type": "execute_result"
    }
   ],
   "source": [
    "super_host.groupby(by='ms_score').mean()"
   ]
  },
  {
   "cell_type": "code",
   "execution_count": 31,
   "metadata": {
    "scrolled": true
   },
   "outputs": [
    {
     "data": {
      "text/html": [
       "<div>\n",
       "<style scoped>\n",
       "    .dataframe tbody tr th:only-of-type {\n",
       "        vertical-align: middle;\n",
       "    }\n",
       "\n",
       "    .dataframe tbody tr th {\n",
       "        vertical-align: top;\n",
       "    }\n",
       "\n",
       "    .dataframe thead th {\n",
       "        text-align: right;\n",
       "    }\n",
       "</style>\n",
       "<table border=\"1\" class=\"dataframe\">\n",
       "  <thead>\n",
       "    <tr style=\"text-align: right;\">\n",
       "      <th></th>\n",
       "      <th>number_of_reviews</th>\n",
       "      <th>review_scores_rating</th>\n",
       "      <th>reviews_per_month</th>\n",
       "      <th>Alésia</th>\n",
       "      <th>Austerlitz</th>\n",
       "      <th>Auteuil</th>\n",
       "      <th>Bastille</th>\n",
       "      <th>Batignolles</th>\n",
       "      <th>Bercy</th>\n",
       "      <th>Buttes-Chaumont - Belleville</th>\n",
       "      <th>...</th>\n",
       "      <th>XVII Arrondissement</th>\n",
       "      <th>XVIII Arrondissement</th>\n",
       "      <th>XX Arrondissement</th>\n",
       "      <th>Apartment</th>\n",
       "      <th>Condominium</th>\n",
       "      <th>Loft</th>\n",
       "      <th>Entire home/apt</th>\n",
       "      <th>Private room</th>\n",
       "      <th>Shared room</th>\n",
       "      <th>km_pred</th>\n",
       "    </tr>\n",
       "    <tr>\n",
       "      <th>ms_score</th>\n",
       "      <th></th>\n",
       "      <th></th>\n",
       "      <th></th>\n",
       "      <th></th>\n",
       "      <th></th>\n",
       "      <th></th>\n",
       "      <th></th>\n",
       "      <th></th>\n",
       "      <th></th>\n",
       "      <th></th>\n",
       "      <th></th>\n",
       "      <th></th>\n",
       "      <th></th>\n",
       "      <th></th>\n",
       "      <th></th>\n",
       "      <th></th>\n",
       "      <th></th>\n",
       "      <th></th>\n",
       "      <th></th>\n",
       "      <th></th>\n",
       "      <th></th>\n",
       "    </tr>\n",
       "  </thead>\n",
       "  <tbody>\n",
       "    <tr>\n",
       "      <th>0</th>\n",
       "      <td>6260</td>\n",
       "      <td>6260</td>\n",
       "      <td>6260</td>\n",
       "      <td>6260</td>\n",
       "      <td>6260</td>\n",
       "      <td>6260</td>\n",
       "      <td>6260</td>\n",
       "      <td>6260</td>\n",
       "      <td>6260</td>\n",
       "      <td>6260</td>\n",
       "      <td>...</td>\n",
       "      <td>6260</td>\n",
       "      <td>6260</td>\n",
       "      <td>6260</td>\n",
       "      <td>6260</td>\n",
       "      <td>6260</td>\n",
       "      <td>6260</td>\n",
       "      <td>6260</td>\n",
       "      <td>6260</td>\n",
       "      <td>6260</td>\n",
       "      <td>6260</td>\n",
       "    </tr>\n",
       "    <tr>\n",
       "      <th>1</th>\n",
       "      <td>81</td>\n",
       "      <td>81</td>\n",
       "      <td>81</td>\n",
       "      <td>81</td>\n",
       "      <td>81</td>\n",
       "      <td>81</td>\n",
       "      <td>81</td>\n",
       "      <td>81</td>\n",
       "      <td>81</td>\n",
       "      <td>81</td>\n",
       "      <td>...</td>\n",
       "      <td>81</td>\n",
       "      <td>81</td>\n",
       "      <td>81</td>\n",
       "      <td>81</td>\n",
       "      <td>81</td>\n",
       "      <td>81</td>\n",
       "      <td>81</td>\n",
       "      <td>81</td>\n",
       "      <td>81</td>\n",
       "      <td>81</td>\n",
       "    </tr>\n",
       "    <tr>\n",
       "      <th>2</th>\n",
       "      <td>2</td>\n",
       "      <td>2</td>\n",
       "      <td>2</td>\n",
       "      <td>2</td>\n",
       "      <td>2</td>\n",
       "      <td>2</td>\n",
       "      <td>2</td>\n",
       "      <td>2</td>\n",
       "      <td>2</td>\n",
       "      <td>2</td>\n",
       "      <td>...</td>\n",
       "      <td>2</td>\n",
       "      <td>2</td>\n",
       "      <td>2</td>\n",
       "      <td>2</td>\n",
       "      <td>2</td>\n",
       "      <td>2</td>\n",
       "      <td>2</td>\n",
       "      <td>2</td>\n",
       "      <td>2</td>\n",
       "      <td>2</td>\n",
       "    </tr>\n",
       "    <tr>\n",
       "      <th>3</th>\n",
       "      <td>1</td>\n",
       "      <td>1</td>\n",
       "      <td>1</td>\n",
       "      <td>1</td>\n",
       "      <td>1</td>\n",
       "      <td>1</td>\n",
       "      <td>1</td>\n",
       "      <td>1</td>\n",
       "      <td>1</td>\n",
       "      <td>1</td>\n",
       "      <td>...</td>\n",
       "      <td>1</td>\n",
       "      <td>1</td>\n",
       "      <td>1</td>\n",
       "      <td>1</td>\n",
       "      <td>1</td>\n",
       "      <td>1</td>\n",
       "      <td>1</td>\n",
       "      <td>1</td>\n",
       "      <td>1</td>\n",
       "      <td>1</td>\n",
       "    </tr>\n",
       "  </tbody>\n",
       "</table>\n",
       "<p>4 rows × 73 columns</p>\n",
       "</div>"
      ],
      "text/plain": [
       "          number_of_reviews  review_scores_rating  reviews_per_month  Alésia  \\\n",
       "ms_score                                                                       \n",
       "0                      6260                  6260               6260    6260   \n",
       "1                        81                    81                 81      81   \n",
       "2                         2                     2                  2       2   \n",
       "3                         1                     1                  1       1   \n",
       "\n",
       "          Austerlitz  Auteuil  Bastille  Batignolles  Bercy  \\\n",
       "ms_score                                                      \n",
       "0               6260     6260      6260         6260   6260   \n",
       "1                 81       81        81           81     81   \n",
       "2                  2        2         2            2      2   \n",
       "3                  1        1         1            1      1   \n",
       "\n",
       "          Buttes-Chaumont - Belleville   ...     XVII Arrondissement  \\\n",
       "ms_score                                 ...                           \n",
       "0                                 6260   ...                    6260   \n",
       "1                                   81   ...                      81   \n",
       "2                                    2   ...                       2   \n",
       "3                                    1   ...                       1   \n",
       "\n",
       "          XVIII Arrondissement  XX Arrondissement  Apartment  Condominium  \\\n",
       "ms_score                                                                    \n",
       "0                         6260               6260       6260         6260   \n",
       "1                           81                 81         81           81   \n",
       "2                            2                  2          2            2   \n",
       "3                            1                  1          1            1   \n",
       "\n",
       "          Loft  Entire home/apt  Private room  Shared room  km_pred  \n",
       "ms_score                                                             \n",
       "0         6260             6260          6260         6260     6260  \n",
       "1           81               81            81           81       81  \n",
       "2            2                2             2            2        2  \n",
       "3            1                1             1            1        1  \n",
       "\n",
       "[4 rows x 73 columns]"
      ]
     },
     "execution_count": 31,
     "metadata": {},
     "output_type": "execute_result"
    }
   ],
   "source": [
    "super_host.groupby(by='ms_score').count()"
   ]
  },
  {
   "cell_type": "markdown",
   "metadata": {},
   "source": [
    "\n",
    "- It seems like the `review_scores_rating` isn't significant when it comes to superhost clustering. However, there is a clear distinction in `number_of_reviews` and `reviews_per_month` among clusters.\n"
   ]
  },
  {
   "cell_type": "code",
   "execution_count": 32,
   "metadata": {},
   "outputs": [
    {
     "data": {
      "text/plain": [
       "Text(0.5, 1.0, 'Superhost Clusters')"
      ]
     },
     "execution_count": 32,
     "metadata": {},
     "output_type": "execute_result"
    },
    {
     "data": {
      "image/png": "[encoded data removed]",
      "text/plain": [
       "<Figure size 720x360 with 1 Axes>"
      ]
     },
     "metadata": {
      "needs_background": "light"
     },
     "output_type": "display_data"
    }
   ],
   "source": [
    "plt.figure(figsize=(10, 5))\n",
    "sns.scatterplot(x='reviews_per_month', y='review_scores_rating', \n",
    "                hue='ms_score', data=super_host)\n",
    "plt.ylim(78, 100)\n",
    "plt.xlim(-0.1, 15)\n",
    "plt.title('Superhost Clusters')"
   ]
  },
  {
   "cell_type": "markdown",
   "metadata": {},
   "source": [
    "## Final Cluster \n",
    "\n",
    "What really differentiates superhosts from the other is the `number_of_reviews` and `reviews_per_month`. However, there are power hosts that aren't classified as \"Superhosts\", but still show the high numbers of reviews. Therefore I will be grouping the hosts in four main segments:\n",
    "\n",
    "1. Superhost with 4 or more `reviews_per_month` \n",
    "2. Superhost with less than 4 `reviews_per_month`\n",
    "3. Non-superhost more than 3 `reviews_per_month`\n",
    "4. the rest who can do better..."
   ]
  },
  {
   "cell_type": "code",
   "execution_count": 33,
   "metadata": {},
   "outputs": [],
   "source": [
    "# Create a final cluster column. \n",
    "df['host_cluster']=0"
   ]
  },
  {
   "cell_type": "code",
   "execution_count": 34,
   "metadata": {},
   "outputs": [
    {
     "name": "stderr",
     "output_type": "stream",
     "text": [
      "/anaconda3/lib/python3.7/site-packages/pandas/core/indexing.py:189: SettingWithCopyWarning: \n",
      "A value is trying to be set on a copy of a slice from a DataFrame\n",
      "\n",
      "See the caveats in the documentation: http://pandas.pydata.org/pandas-docs/stable/indexing.html#indexing-view-versus-copy\n",
      "  self._setitem_with_indexer(indexer, value)\n"
     ]
    }
   ],
   "source": [
    "df['host_cluster'].loc[(df['host_is_superhost']==1) & (df['reviews_per_month']>=4)]=3\n",
    "df['host_cluster'].loc[(df['host_is_superhost']==1) & (df['host_cluster']==0)]=2\n",
    "df['host_cluster'].loc[(df['host_is_superhost']==0) & (df['reviews_per_month']>3) &\n",
    "                      (df['review_scores_rating']>80)]=1"
   ]
  },
  {
   "cell_type": "code",
   "execution_count": 35,
   "metadata": {
    "scrolled": true
   },
   "outputs": [
    {
     "data": {
      "text/html": [
       "<div>\n",
       "<style scoped>\n",
       "    .dataframe tbody tr th:only-of-type {\n",
       "        vertical-align: middle;\n",
       "    }\n",
       "\n",
       "    .dataframe tbody tr th {\n",
       "        vertical-align: top;\n",
       "    }\n",
       "\n",
       "    .dataframe thead th {\n",
       "        text-align: right;\n",
       "    }\n",
       "</style>\n",
       "<table border=\"1\" class=\"dataframe\">\n",
       "  <thead>\n",
       "    <tr style=\"text-align: right;\">\n",
       "      <th></th>\n",
       "      <th>id</th>\n",
       "      <th>name</th>\n",
       "      <th>description</th>\n",
       "      <th>host_is_superhost</th>\n",
       "      <th>number_of_reviews</th>\n",
       "      <th>review_scores_rating</th>\n",
       "      <th>reviews_per_month</th>\n",
       "      <th>Alésia</th>\n",
       "      <th>Austerlitz</th>\n",
       "      <th>Auteuil</th>\n",
       "      <th>...</th>\n",
       "      <th>XVI Arrondissement</th>\n",
       "      <th>XVII Arrondissement</th>\n",
       "      <th>XVIII Arrondissement</th>\n",
       "      <th>XX Arrondissement</th>\n",
       "      <th>Apartment</th>\n",
       "      <th>Condominium</th>\n",
       "      <th>Loft</th>\n",
       "      <th>Entire home/apt</th>\n",
       "      <th>Private room</th>\n",
       "      <th>Shared room</th>\n",
       "    </tr>\n",
       "    <tr>\n",
       "      <th>host_cluster</th>\n",
       "      <th></th>\n",
       "      <th></th>\n",
       "      <th></th>\n",
       "      <th></th>\n",
       "      <th></th>\n",
       "      <th></th>\n",
       "      <th></th>\n",
       "      <th></th>\n",
       "      <th></th>\n",
       "      <th></th>\n",
       "      <th></th>\n",
       "      <th></th>\n",
       "      <th></th>\n",
       "      <th></th>\n",
       "      <th></th>\n",
       "      <th></th>\n",
       "      <th></th>\n",
       "      <th></th>\n",
       "      <th></th>\n",
       "      <th></th>\n",
       "      <th></th>\n",
       "    </tr>\n",
       "  </thead>\n",
       "  <tbody>\n",
       "    <tr>\n",
       "      <th>0</th>\n",
       "      <td>33805</td>\n",
       "      <td>33805</td>\n",
       "      <td>33805</td>\n",
       "      <td>33805</td>\n",
       "      <td>33805</td>\n",
       "      <td>33805</td>\n",
       "      <td>33805</td>\n",
       "      <td>33805</td>\n",
       "      <td>33805</td>\n",
       "      <td>33805</td>\n",
       "      <td>...</td>\n",
       "      <td>33805</td>\n",
       "      <td>33805</td>\n",
       "      <td>33805</td>\n",
       "      <td>33805</td>\n",
       "      <td>33805</td>\n",
       "      <td>33805</td>\n",
       "      <td>33805</td>\n",
       "      <td>33805</td>\n",
       "      <td>33805</td>\n",
       "      <td>33805</td>\n",
       "    </tr>\n",
       "    <tr>\n",
       "      <th>1</th>\n",
       "      <td>2650</td>\n",
       "      <td>2650</td>\n",
       "      <td>2650</td>\n",
       "      <td>2650</td>\n",
       "      <td>2650</td>\n",
       "      <td>2650</td>\n",
       "      <td>2650</td>\n",
       "      <td>2650</td>\n",
       "      <td>2650</td>\n",
       "      <td>2650</td>\n",
       "      <td>...</td>\n",
       "      <td>2650</td>\n",
       "      <td>2650</td>\n",
       "      <td>2650</td>\n",
       "      <td>2650</td>\n",
       "      <td>2650</td>\n",
       "      <td>2650</td>\n",
       "      <td>2650</td>\n",
       "      <td>2650</td>\n",
       "      <td>2650</td>\n",
       "      <td>2650</td>\n",
       "    </tr>\n",
       "    <tr>\n",
       "      <th>2</th>\n",
       "      <td>5802</td>\n",
       "      <td>5802</td>\n",
       "      <td>5802</td>\n",
       "      <td>5802</td>\n",
       "      <td>5802</td>\n",
       "      <td>5802</td>\n",
       "      <td>5802</td>\n",
       "      <td>5802</td>\n",
       "      <td>5802</td>\n",
       "      <td>5802</td>\n",
       "      <td>...</td>\n",
       "      <td>5802</td>\n",
       "      <td>5802</td>\n",
       "      <td>5802</td>\n",
       "      <td>5802</td>\n",
       "      <td>5802</td>\n",
       "      <td>5802</td>\n",
       "      <td>5802</td>\n",
       "      <td>5802</td>\n",
       "      <td>5802</td>\n",
       "      <td>5802</td>\n",
       "    </tr>\n",
       "    <tr>\n",
       "      <th>3</th>\n",
       "      <td>542</td>\n",
       "      <td>542</td>\n",
       "      <td>542</td>\n",
       "      <td>542</td>\n",
       "      <td>542</td>\n",
       "      <td>542</td>\n",
       "      <td>542</td>\n",
       "      <td>542</td>\n",
       "      <td>542</td>\n",
       "      <td>542</td>\n",
       "      <td>...</td>\n",
       "      <td>542</td>\n",
       "      <td>542</td>\n",
       "      <td>542</td>\n",
       "      <td>542</td>\n",
       "      <td>542</td>\n",
       "      <td>542</td>\n",
       "      <td>542</td>\n",
       "      <td>542</td>\n",
       "      <td>542</td>\n",
       "      <td>542</td>\n",
       "    </tr>\n",
       "  </tbody>\n",
       "</table>\n",
       "<p>4 rows × 76 columns</p>\n",
       "</div>"
      ],
      "text/plain": [
       "                 id   name  description  host_is_superhost  number_of_reviews  \\\n",
       "host_cluster                                                                    \n",
       "0             33805  33805        33805              33805              33805   \n",
       "1              2650   2650         2650               2650               2650   \n",
       "2              5802   5802         5802               5802               5802   \n",
       "3               542    542          542                542                542   \n",
       "\n",
       "              review_scores_rating  reviews_per_month  Alésia  Austerlitz  \\\n",
       "host_cluster                                                                \n",
       "0                            33805              33805   33805       33805   \n",
       "1                             2650               2650    2650        2650   \n",
       "2                             5802               5802    5802        5802   \n",
       "3                              542                542     542         542   \n",
       "\n",
       "              Auteuil     ...       XVI Arrondissement  XVII Arrondissement  \\\n",
       "host_cluster              ...                                                 \n",
       "0               33805     ...                    33805                33805   \n",
       "1                2650     ...                     2650                 2650   \n",
       "2                5802     ...                     5802                 5802   \n",
       "3                 542     ...                      542                  542   \n",
       "\n",
       "              XVIII Arrondissement  XX Arrondissement  Apartment  Condominium  \\\n",
       "host_cluster                                                                    \n",
       "0                            33805              33805      33805        33805   \n",
       "1                             2650               2650       2650         2650   \n",
       "2                             5802               5802       5802         5802   \n",
       "3                              542                542        542          542   \n",
       "\n",
       "               Loft  Entire home/apt  Private room  Shared room  \n",
       "host_cluster                                                     \n",
       "0             33805            33805         33805        33805  \n",
       "1              2650             2650          2650         2650  \n",
       "2              5802             5802          5802         5802  \n",
       "3               542              542           542          542  \n",
       "\n",
       "[4 rows x 76 columns]"
      ]
     },
     "execution_count": 35,
     "metadata": {},
     "output_type": "execute_result"
    }
   ],
   "source": [
    "df.groupby(by='host_cluster').count()"
   ]
  },
  {
   "cell_type": "code",
   "execution_count": 36,
   "metadata": {},
   "outputs": [
    {
     "data": {
      "text/html": [
       "<div>\n",
       "<style scoped>\n",
       "    .dataframe tbody tr th:only-of-type {\n",
       "        vertical-align: middle;\n",
       "    }\n",
       "\n",
       "    .dataframe tbody tr th {\n",
       "        vertical-align: top;\n",
       "    }\n",
       "\n",
       "    .dataframe thead th {\n",
       "        text-align: right;\n",
       "    }\n",
       "</style>\n",
       "<table border=\"1\" class=\"dataframe\">\n",
       "  <thead>\n",
       "    <tr style=\"text-align: right;\">\n",
       "      <th></th>\n",
       "      <th>id</th>\n",
       "      <th>host_is_superhost</th>\n",
       "      <th>number_of_reviews</th>\n",
       "      <th>review_scores_rating</th>\n",
       "      <th>reviews_per_month</th>\n",
       "      <th>Alésia</th>\n",
       "      <th>Austerlitz</th>\n",
       "      <th>Auteuil</th>\n",
       "      <th>Bastille</th>\n",
       "      <th>Batignolles</th>\n",
       "      <th>...</th>\n",
       "      <th>XVI Arrondissement</th>\n",
       "      <th>XVII Arrondissement</th>\n",
       "      <th>XVIII Arrondissement</th>\n",
       "      <th>XX Arrondissement</th>\n",
       "      <th>Apartment</th>\n",
       "      <th>Condominium</th>\n",
       "      <th>Loft</th>\n",
       "      <th>Entire home/apt</th>\n",
       "      <th>Private room</th>\n",
       "      <th>Shared room</th>\n",
       "    </tr>\n",
       "    <tr>\n",
       "      <th>host_cluster</th>\n",
       "      <th></th>\n",
       "      <th></th>\n",
       "      <th></th>\n",
       "      <th></th>\n",
       "      <th></th>\n",
       "      <th></th>\n",
       "      <th></th>\n",
       "      <th></th>\n",
       "      <th></th>\n",
       "      <th></th>\n",
       "      <th></th>\n",
       "      <th></th>\n",
       "      <th></th>\n",
       "      <th></th>\n",
       "      <th></th>\n",
       "      <th></th>\n",
       "      <th></th>\n",
       "      <th></th>\n",
       "      <th></th>\n",
       "      <th></th>\n",
       "      <th></th>\n",
       "    </tr>\n",
       "  </thead>\n",
       "  <tbody>\n",
       "    <tr>\n",
       "      <th>0</th>\n",
       "      <td>1.643376e+07</td>\n",
       "      <td>0.0</td>\n",
       "      <td>15.582369</td>\n",
       "      <td>92.281822</td>\n",
       "      <td>0.723242</td>\n",
       "      <td>0.017690</td>\n",
       "      <td>0.000651</td>\n",
       "      <td>0.007514</td>\n",
       "      <td>0.023014</td>\n",
       "      <td>0.020855</td>\n",
       "      <td>...</td>\n",
       "      <td>0.021831</td>\n",
       "      <td>0.036415</td>\n",
       "      <td>0.063038</td>\n",
       "      <td>0.035616</td>\n",
       "      <td>0.951664</td>\n",
       "      <td>0.027511</td>\n",
       "      <td>0.020825</td>\n",
       "      <td>0.898772</td>\n",
       "      <td>0.095252</td>\n",
       "      <td>0.005975</td>\n",
       "    </tr>\n",
       "    <tr>\n",
       "      <th>1</th>\n",
       "      <td>2.232492e+07</td>\n",
       "      <td>0.0</td>\n",
       "      <td>81.076604</td>\n",
       "      <td>92.064151</td>\n",
       "      <td>4.522343</td>\n",
       "      <td>0.018113</td>\n",
       "      <td>0.001509</td>\n",
       "      <td>0.006415</td>\n",
       "      <td>0.026415</td>\n",
       "      <td>0.012830</td>\n",
       "      <td>...</td>\n",
       "      <td>0.026038</td>\n",
       "      <td>0.023019</td>\n",
       "      <td>0.050189</td>\n",
       "      <td>0.018113</td>\n",
       "      <td>0.941509</td>\n",
       "      <td>0.032075</td>\n",
       "      <td>0.026415</td>\n",
       "      <td>0.846038</td>\n",
       "      <td>0.140000</td>\n",
       "      <td>0.013962</td>\n",
       "    </tr>\n",
       "    <tr>\n",
       "      <th>2</th>\n",
       "      <td>1.498354e+07</td>\n",
       "      <td>1.0</td>\n",
       "      <td>41.951051</td>\n",
       "      <td>96.919511</td>\n",
       "      <td>1.478735</td>\n",
       "      <td>0.018442</td>\n",
       "      <td>0.000689</td>\n",
       "      <td>0.007411</td>\n",
       "      <td>0.024647</td>\n",
       "      <td>0.014133</td>\n",
       "      <td>...</td>\n",
       "      <td>0.023268</td>\n",
       "      <td>0.033264</td>\n",
       "      <td>0.051534</td>\n",
       "      <td>0.024474</td>\n",
       "      <td>0.920200</td>\n",
       "      <td>0.040848</td>\n",
       "      <td>0.038952</td>\n",
       "      <td>0.879352</td>\n",
       "      <td>0.114443</td>\n",
       "      <td>0.006205</td>\n",
       "    </tr>\n",
       "    <tr>\n",
       "      <th>3</th>\n",
       "      <td>2.070982e+07</td>\n",
       "      <td>1.0</td>\n",
       "      <td>114.230627</td>\n",
       "      <td>96.933579</td>\n",
       "      <td>5.520240</td>\n",
       "      <td>0.014760</td>\n",
       "      <td>0.001845</td>\n",
       "      <td>0.003690</td>\n",
       "      <td>0.022140</td>\n",
       "      <td>0.016605</td>\n",
       "      <td>...</td>\n",
       "      <td>0.027675</td>\n",
       "      <td>0.035055</td>\n",
       "      <td>0.046125</td>\n",
       "      <td>0.014760</td>\n",
       "      <td>0.902214</td>\n",
       "      <td>0.055351</td>\n",
       "      <td>0.042435</td>\n",
       "      <td>0.771218</td>\n",
       "      <td>0.206642</td>\n",
       "      <td>0.022140</td>\n",
       "    </tr>\n",
       "  </tbody>\n",
       "</table>\n",
       "<p>4 rows × 74 columns</p>\n",
       "</div>"
      ],
      "text/plain": [
       "                        id  host_is_superhost  number_of_reviews  \\\n",
       "host_cluster                                                       \n",
       "0             1.643376e+07                0.0          15.582369   \n",
       "1             2.232492e+07                0.0          81.076604   \n",
       "2             1.498354e+07                1.0          41.951051   \n",
       "3             2.070982e+07                1.0         114.230627   \n",
       "\n",
       "              review_scores_rating  reviews_per_month    Alésia  Austerlitz  \\\n",
       "host_cluster                                                                  \n",
       "0                        92.281822           0.723242  0.017690    0.000651   \n",
       "1                        92.064151           4.522343  0.018113    0.001509   \n",
       "2                        96.919511           1.478735  0.018442    0.000689   \n",
       "3                        96.933579           5.520240  0.014760    0.001845   \n",
       "\n",
       "               Auteuil  Bastille  Batignolles     ...       \\\n",
       "host_cluster                                      ...        \n",
       "0             0.007514  0.023014     0.020855     ...        \n",
       "1             0.006415  0.026415     0.012830     ...        \n",
       "2             0.007411  0.024647     0.014133     ...        \n",
       "3             0.003690  0.022140     0.016605     ...        \n",
       "\n",
       "              XVI Arrondissement  XVII Arrondissement  XVIII Arrondissement  \\\n",
       "host_cluster                                                                  \n",
       "0                       0.021831             0.036415              0.063038   \n",
       "1                       0.026038             0.023019              0.050189   \n",
       "2                       0.023268             0.033264              0.051534   \n",
       "3                       0.027675             0.035055              0.046125   \n",
       "\n",
       "              XX Arrondissement  Apartment  Condominium      Loft  \\\n",
       "host_cluster                                                        \n",
       "0                      0.035616   0.951664     0.027511  0.020825   \n",
       "1                      0.018113   0.941509     0.032075  0.026415   \n",
       "2                      0.024474   0.920200     0.040848  0.038952   \n",
       "3                      0.014760   0.902214     0.055351  0.042435   \n",
       "\n",
       "              Entire home/apt  Private room  Shared room  \n",
       "host_cluster                                              \n",
       "0                    0.898772      0.095252     0.005975  \n",
       "1                    0.846038      0.140000     0.013962  \n",
       "2                    0.879352      0.114443     0.006205  \n",
       "3                    0.771218      0.206642     0.022140  \n",
       "\n",
       "[4 rows x 74 columns]"
      ]
     },
     "execution_count": 36,
     "metadata": {},
     "output_type": "execute_result"
    }
   ],
   "source": [
    "df.groupby(by='host_cluster').mean()"
   ]
  },
  {
   "cell_type": "code",
   "execution_count": 49,
   "metadata": {
    "scrolled": true
   },
   "outputs": [
    {
     "data": {
      "text/plain": [
       "count    42799.000000\n",
       "mean         1.121638\n",
       "std          1.344862\n",
       "min          0.000000\n",
       "25%          0.230000\n",
       "50%          0.630000\n",
       "75%          1.500000\n",
       "max         23.080000\n",
       "Name: reviews_per_month, dtype: float64"
      ]
     },
     "execution_count": 49,
     "metadata": {},
     "output_type": "execute_result"
    }
   ],
   "source": [
    "df.reviews_per_month.describe()"
   ]
  },
  {
   "cell_type": "code",
   "execution_count": 50,
   "metadata": {},
   "outputs": [
    {
     "data": {
      "text/plain": [
       "count    42799.000000\n",
       "mean        92.955957\n",
       "std          8.216463\n",
       "min         20.000000\n",
       "25%         90.000000\n",
       "50%         95.000000\n",
       "75%         99.000000\n",
       "max        100.000000\n",
       "Name: review_scores_rating, dtype: float64"
      ]
     },
     "execution_count": 50,
     "metadata": {},
     "output_type": "execute_result"
    }
   ],
   "source": [
    "df.review_scores_rating.describe()"
   ]
  },
  {
   "cell_type": "markdown",
   "metadata": {},
   "source": [
    "### Final Clusters Visualization"
   ]
  },
  {
   "cell_type": "code",
   "execution_count": 37,
   "metadata": {},
   "outputs": [
    {
     "data": {
      "text/plain": [
       "Text(0.5, 1.0, 'Airbnb Hosts in Paris Clusters')"
      ]
     },
     "execution_count": 37,
     "metadata": {},
     "output_type": "execute_result"
    },
    {
     "data": {
      "image/png": "[encoded data removed]",
      "text/plain": [
       "<Figure size 936x360 with 1 Axes>"
      ]
     },
     "metadata": {
      "needs_background": "light"
     },
     "output_type": "display_data"
    }
   ],
   "source": [
    "plt.figure(figsize=(13, 5))\n",
    "sns.scatterplot(x='reviews_per_month', y='review_scores_rating', \n",
    "                hue='host_cluster', data=df)\n",
    "\n",
    "plt.ylim(65, 102)\n",
    "plt.xlim(-0.1, 15)\n",
    "plt.title('Airbnb Hosts in Paris Clusters')"
   ]
  },
  {
   "cell_type": "markdown",
   "metadata": {},
   "source": [
    "Superhosts definitely tend to have hight reviews and scores. However, there are some outliers with fallen scores and reviews per month."
   ]
  },
  {
   "cell_type": "markdown",
   "metadata": {},
   "source": [
    "# Analyze the text in description\n",
    "\n",
    "## Explore and clean up the text"
   ]
  },
  {
   "cell_type": "code",
   "execution_count": 38,
   "metadata": {},
   "outputs": [],
   "source": [
    "import re\n",
    "import nltk\n",
    "import spacy"
   ]
  },
  {
   "cell_type": "code",
   "execution_count": 39,
   "metadata": {},
   "outputs": [],
   "source": [
    "df['description']=df['description'].str.lower()\n",
    "df['description']=df['description'].map(lambda x: re.sub(r'[\\[].,*\\&?!\\@\\\"-[\\]]', '', x))\n",
    "df['description']=df['description'].str.replace(r'[^0-9a-zA-Z]', ' ')"
   ]
  },
  {
   "cell_type": "code",
   "execution_count": 40,
   "metadata": {},
   "outputs": [
    {
     "data": {
      "text/plain": [
       "0     i bedroom appartment in paris 14 good restaura...\n",
       "1     cozy  well appointed and graciously designed s...\n",
       "2     very convenient  with the best location   plea...\n",
       "3     really nice flat located in the 20th district ...\n",
       "5     make your stay in paris a perfect experience  ...\n",
       "6     long term rental available  the studio is situ...\n",
       "7     long term rental 12 months    9 months for stu...\n",
       "8     very close to place de la concorde and madelei...\n",
       "9     description the apartment is located in the we...\n",
       "10    num ro d enregistrement ville de paris  phone ...\n",
       "Name: description, dtype: object"
      ]
     },
     "execution_count": 40,
     "metadata": {},
     "output_type": "execute_result"
    }
   ],
   "source": [
    "df['description'].head(10)\n",
    "# when I run vectorizer, it will seprate french/english\n",
    "# doc_frequency can be smaller due to having two languages"
   ]
  },
  {
   "cell_type": "markdown",
   "metadata": {},
   "source": [
    "## CountVectorizer\n",
    "- Find the most frequent words"
   ]
  },
  {
   "cell_type": "code",
   "execution_count": 41,
   "metadata": {},
   "outputs": [],
   "source": [
    "from sklearn.feature_extraction.text import CountVectorizer\n",
    "\n",
    "cv=CountVectorizer(max_df=0.70,stop_words='english', max_features=10000)\n",
    "word_count_vector=cv.fit_transform(df['description'])"
   ]
  },
  {
   "cell_type": "code",
   "execution_count": 42,
   "metadata": {
    "scrolled": true
   },
   "outputs": [
    {
     "name": "stdout",
     "output_type": "stream",
     "text": [
      "[('et', 80172), ('paris', 48077), ('la', 45273), ('apartment', 39382), ('le', 37296), ('du', 32388), ('est', 31133), ('appartement', 28701), ('une', 28692), ('avec', 28295), ('room', 27576), ('des', 25877), ('les', 24601), ('pour', 22150), ('bed', 21713), ('vous', 21550), ('dans', 21224), ('minutes', 20695), ('located', 20241), ('kitchen', 19811), ('en', 19649), ('tr', 19647), ('au', 19364), ('restaurants', 18361), ('quartier', 18079), ('place', 17305), ('living', 16962), ('flat', 16153), ('floor', 16124), ('metro', 15957)]\n"
     ]
    }
   ],
   "source": [
    "word_freqs = zip(cv.get_feature_names(), word_count_vector.sum(axis=0).tolist()[0])    \n",
    "# sort from largest to smallest\n",
    "print (sorted(word_freqs, key=lambda x: -x[1])[:30])"
   ]
  },
  {
   "cell_type": "code",
   "execution_count": 43,
   "metadata": {},
   "outputs": [],
   "source": [
    "# Add more stop-words\n",
    "from sklearn.feature_extraction import text\n",
    "\n",
    "df_stop_words = text.ENGLISH_STOP_WORDS.union([\"et\", \"paris\", \"la\", \"apartment\", \n",
    "                    'le', 'du', 'est', 'appartement', 'une', 'avec', 'des', 'les',\n",
    "                    'pour', 'vous', 'dans','en','tr', 'au', 'il', 'sur', 'room', 'chambre' ])"
   ]
  },
  {
   "cell_type": "code",
   "execution_count": 44,
   "metadata": {},
   "outputs": [
    {
     "name": "stdout",
     "output_type": "stream",
     "text": [
      "[('bed', 21713), ('minutes', 20695), ('located', 20241), ('kitchen', 19811), ('restaurants', 18361), ('quartier', 18079), ('place', 17305), ('living', 16962), ('flat', 16153), ('floor', 16124), ('metro', 15957), ('tro', 15758), ('studio', 15026), ('bedroom', 14768), ('bathroom', 14065), ('double', 12984), ('situ', 12652), ('equipped', 12449), ('walk', 12184), ('rue', 12025), ('calme', 11990), ('area', 11846), ('cuisine', 11841), ('min', 11552), ('quiet', 11266), ('lit', 10800), ('machine', 10729), ('10', 10701), ('bus', 10537), ('ligne', 10537)]\n"
     ]
    }
   ],
   "source": [
    "cv=CountVectorizer(max_df=0.70,stop_words=df_stop_words, max_features=10000)\n",
    "word_count_vector=cv.fit_transform(df['description'])\n",
    "\n",
    "word_freqs = zip(cv.get_feature_names(), word_count_vector.sum(axis=0).tolist()[0])    \n",
    "# sort from largest to smallest\n",
    "print (sorted(word_freqs, key=lambda x: -x[1])[:30])"
   ]
  },
  {
   "cell_type": "code",
   "execution_count": 45,
   "metadata": {
    "scrolled": false
   },
   "outputs": [
    {
     "name": "stdout",
     "output_type": "stream",
     "text": [
      "[('bed', 3499), ('located', 3285), ('kitchen', 3244), ('restaurants', 3061), ('floor', 3059), ('minutes', 3023), ('place', 2938), ('living', 2770), ('flat', 2657), ('bedroom', 2554), ('quartier', 2520), ('metro', 2472), ('bathroom', 2445), ('quiet', 2226), ('studio', 2182), ('building', 2135), ('tro', 2103), ('walk', 2076), ('equipped', 2034), ('area', 2004), ('double', 2000), ('rue', 1922), ('large', 1829), ('bus', 1819), ('fully', 1805), ('calme', 1796), ('situ', 1745), ('close', 1687), ('machine', 1656), ('cuisine', 1653)]\n"
     ]
    }
   ],
   "source": [
    "super_host_desc = df.loc[df['host_is_superhost']==1]['description']\n",
    "\n",
    "word_count_vector=cv.transform(super_host_desc)\n",
    "\n",
    "word_freqs = zip(cv.get_feature_names(), word_count_vector.sum(axis=0).tolist()[0])    \n",
    "# sort from largest to smallest\n",
    "print (sorted(word_freqs, key=lambda x: -x[1])[:30])"
   ]
  },
  {
   "cell_type": "markdown",
   "metadata": {},
   "source": [
    "Above you see the most commonly used words in the superhosts' descriptions. Here, you can derive more meaningful keywords such as:\n",
    "- restaurants\n",
    "- metro\n",
    "- **quiet**\n",
    "- calme\n",
    "- machine (which machines?)\n",
    "- located & close: convenient locations"
   ]
  },
  {
   "cell_type": "markdown",
   "metadata": {},
   "source": [
    "### Bigram"
   ]
  },
  {
   "cell_type": "code",
   "execution_count": 54,
   "metadata": {},
   "outputs": [
    {
     "name": "stdout",
     "output_type": "stream",
     "text": [
      "fully equipped 6591\n",
      "salle bain 6418\n",
      "double bed 5980\n",
      "sofa bed 5217\n",
      "washing machine 5017\n",
      "eiffel tower 4733\n",
      "equipped kitchen 4511\n",
      "pi ces 4363\n",
      "floor elevator 4343\n",
      "id al 4183\n",
      "notre dame 4178\n",
      "agr able 4014\n",
      "10 minutes 3959\n",
      "minutes walk 3816\n",
      "hidden airbnb 3209\n",
      "bars restaurants 3181\n",
      "restaurants bars 3181\n",
      "sacr coeur 3118\n",
      "champs elys 3090\n",
      "tour eiffel 2916\n"
     ]
    }
   ],
   "source": [
    "def get_top_n_bigram(corpus, n=None):\n",
    "    vec = CountVectorizer(ngram_range=(2, 2), stop_words=df_stop_words).fit(corpus)\n",
    "    bag_of_words = vec.transform(corpus)\n",
    "    sum_words = bag_of_words.sum(axis=0) \n",
    "    words_freq = [(word, sum_words[0, idx]) for word, idx in vec.vocabulary_.items()]\n",
    "    words_freq =sorted(words_freq, key = lambda x: x[1], reverse=True)\n",
    "    return words_freq[:n]\n",
    "\n",
    "common_words = get_top_n_bigram(df['description'], 20)\n",
    "for word, freq in common_words:\n",
    "    print(word, freq)\n",
    "bigram_df = pd.DataFrame(common_words, columns = ['ReviewText' , 'count'])"
   ]
  },
  {
   "cell_type": "code",
   "execution_count": 63,
   "metadata": {},
   "outputs": [
    {
     "name": "stdout",
     "output_type": "stream",
     "text": [
      "fully equipped 6591\n",
      "salle bain 6418\n",
      "double bed 5980\n",
      "sofa bed 5217\n",
      "washing machine 5017\n",
      "eiffel tower 4733\n",
      "equipped kitchen 4511\n",
      "pi ces 4363\n",
      "floor elevator 4343\n",
      "id al 4183\n",
      "notre dame 4178\n",
      "agr able 4014\n",
      "10 minutes 3959\n",
      "minutes walk 3816\n",
      "hidden airbnb 3209\n",
      "bars restaurants 3181\n",
      "restaurants bars 3181\n",
      "sacr coeur 3118\n",
      "champs elys 3090\n",
      "tour eiffel 2916\n"
     ]
    }
   ],
   "source": [
    "sh_common_words = get_top_n_bigram(super_host_desc, 20)\n",
    "for word, freq in common_words:\n",
    "    print(word, freq)\n",
    "bigram_df['super_host'] = sh_common_words"
   ]
  },
  {
   "cell_type": "markdown",
   "metadata": {},
   "source": [
    "### Keywords: amenity and key attractions"
   ]
  },
  {
   "cell_type": "code",
   "execution_count": 66,
   "metadata": {
    "scrolled": true
   },
   "outputs": [
    {
     "data": {
      "text/html": [
       "<div>\n",
       "<style scoped>\n",
       "    .dataframe tbody tr th:only-of-type {\n",
       "        vertical-align: middle;\n",
       "    }\n",
       "\n",
       "    .dataframe tbody tr th {\n",
       "        vertical-align: top;\n",
       "    }\n",
       "\n",
       "    .dataframe thead th {\n",
       "        text-align: right;\n",
       "    }\n",
       "</style>\n",
       "<table border=\"1\" class=\"dataframe\">\n",
       "  <thead>\n",
       "    <tr style=\"text-align: right;\">\n",
       "      <th></th>\n",
       "      <th>ReviewText</th>\n",
       "      <th>count</th>\n",
       "      <th>super_host</th>\n",
       "    </tr>\n",
       "  </thead>\n",
       "  <tbody>\n",
       "    <tr>\n",
       "      <th>0</th>\n",
       "      <td>fully equipped</td>\n",
       "      <td>6591</td>\n",
       "      <td>(fully equipped, 1130)</td>\n",
       "    </tr>\n",
       "    <tr>\n",
       "      <th>1</th>\n",
       "      <td>salle bain</td>\n",
       "      <td>6418</td>\n",
       "      <td>(salle bain, 853)</td>\n",
       "    </tr>\n",
       "    <tr>\n",
       "      <th>2</th>\n",
       "      <td>double bed</td>\n",
       "      <td>5980</td>\n",
       "      <td>(double bed, 848)</td>\n",
       "    </tr>\n",
       "    <tr>\n",
       "      <th>3</th>\n",
       "      <td>sofa bed</td>\n",
       "      <td>5217</td>\n",
       "      <td>(eiffel tower, 831)</td>\n",
       "    </tr>\n",
       "    <tr>\n",
       "      <th>4</th>\n",
       "      <td>washing machine</td>\n",
       "      <td>5017</td>\n",
       "      <td>(notre dame, 787)</td>\n",
       "    </tr>\n",
       "    <tr>\n",
       "      <th>5</th>\n",
       "      <td>eiffel tower</td>\n",
       "      <td>4733</td>\n",
       "      <td>(washing machine, 771)</td>\n",
       "    </tr>\n",
       "    <tr>\n",
       "      <th>6</th>\n",
       "      <td>equipped kitchen</td>\n",
       "      <td>4511</td>\n",
       "      <td>(sofa bed, 750)</td>\n",
       "    </tr>\n",
       "    <tr>\n",
       "      <th>7</th>\n",
       "      <td>pi ces</td>\n",
       "      <td>4363</td>\n",
       "      <td>(floor elevator, 686)</td>\n",
       "    </tr>\n",
       "    <tr>\n",
       "      <th>8</th>\n",
       "      <td>floor elevator</td>\n",
       "      <td>4343</td>\n",
       "      <td>(equipped kitchen, 680)</td>\n",
       "    </tr>\n",
       "    <tr>\n",
       "      <th>9</th>\n",
       "      <td>id al</td>\n",
       "      <td>4183</td>\n",
       "      <td>(pi ces, 644)</td>\n",
       "    </tr>\n",
       "  </tbody>\n",
       "</table>\n",
       "</div>"
      ],
      "text/plain": [
       "         ReviewText  count               super_host\n",
       "0    fully equipped   6591   (fully equipped, 1130)\n",
       "1        salle bain   6418        (salle bain, 853)\n",
       "2        double bed   5980        (double bed, 848)\n",
       "3          sofa bed   5217      (eiffel tower, 831)\n",
       "4   washing machine   5017        (notre dame, 787)\n",
       "5      eiffel tower   4733   (washing machine, 771)\n",
       "6  equipped kitchen   4511          (sofa bed, 750)\n",
       "7            pi ces   4363    (floor elevator, 686)\n",
       "8    floor elevator   4343  (equipped kitchen, 680)\n",
       "9             id al   4183            (pi ces, 644)"
      ]
     },
     "execution_count": 66,
     "metadata": {},
     "output_type": "execute_result"
    }
   ],
   "source": [
    "bigram_df.head(10)"
   ]
  },
  {
   "cell_type": "markdown",
   "metadata": {},
   "source": [
    "We see that as for super-hosts, the keywords for the key attractions appear more frequently. We also see that amenities such as washing machine, elevator, and equipped kitchen are key selling points. "
   ]
  },
  {
   "cell_type": "markdown",
   "metadata": {},
   "source": [
    "## TF-idf & LSA"
   ]
  },
  {
   "cell_type": "code",
   "execution_count": 67,
   "metadata": {},
   "outputs": [],
   "source": [
    "# HOLD OUT 25% of the data\n",
    "\n",
    "X = df['description']\n",
    "y = df['host_is_superhost']\n",
    "X_train, X_test, y_train, y_test = train_test_split (X, y, \n",
    "                                    test_size = 0.25, random_state = 10)"
   ]
  },
  {
   "cell_type": "code",
   "execution_count": 68,
   "metadata": {},
   "outputs": [
    {
     "data": {
      "text/plain": [
       "(32099,)"
      ]
     },
     "execution_count": 68,
     "metadata": {},
     "output_type": "execute_result"
    }
   ],
   "source": [
    "X_train.shape"
   ]
  },
  {
   "cell_type": "code",
   "execution_count": 69,
   "metadata": {},
   "outputs": [],
   "source": [
    "from sklearn.feature_extraction.text import TfidfVectorizer\n",
    "\n",
    "vectorizer = TfidfVectorizer(max_df=0.6, min_df=10, \n",
    "                             stop_words=df_stop_words, \n",
    "                             use_idf=True,\n",
    "                             norm=u'l2', \n",
    "                             smooth_idf=True #Adds 1 to all document frequencies, as if an extra document existed that used every word once.  Prevents divide-by-zero errors\n",
    "                            )"
   ]
  },
  {
   "cell_type": "code",
   "execution_count": 70,
   "metadata": {},
   "outputs": [
    {
     "name": "stdout",
     "output_type": "stream",
     "text": [
      "Number of features: 8496\n"
     ]
    }
   ],
   "source": [
    "desc_tfidf_train=vectorizer.fit_transform(X_train)\n",
    "desc_tfidf_test=vectorizer.transform(X_test)\n",
    "\n",
    "print(\"Number of features: %d\" % desc_tfidf_train.get_shape()[1])"
   ]
  },
  {
   "cell_type": "code",
   "execution_count": 71,
   "metadata": {
    "scrolled": false
   },
   "outputs": [
    {
     "name": "stdout",
     "output_type": "stream",
     "text": [
      "Percent variance captured by all components: 79.0483637492515\n"
     ]
    }
   ],
   "source": [
    "# Downsize features using LSA.\n",
    "\n",
    "from sklearn.decomposition import TruncatedSVD\n",
    "from sklearn.pipeline import make_pipeline\n",
    "from sklearn.preprocessing import Normalizer\n",
    "\n",
    "svd= TruncatedSVD(2000)\n",
    "lsa = make_pipeline(svd, Normalizer(copy=False))\n",
    "\n",
    "desc_lsa_train = lsa.fit_transform(desc_tfidf_train)\n",
    "desc_lsa_test = lsa.transform(desc_tfidf_test)\n",
    "\n",
    "\n",
    "variance_explained=svd.explained_variance_ratio_\n",
    "total_variance = variance_explained.sum()\n",
    "print(\"Percent variance captured by all components:\",total_variance*100)"
   ]
  },
  {
   "cell_type": "code",
   "execution_count": 221,
   "metadata": {},
   "outputs": [
    {
     "name": "stdout",
     "output_type": "stream",
     "text": [
      "Component 0:\n",
      "description\n",
      "nice large studio very bright and central  in a very pleasant district  10 minutes of bastille   10 minutes of republic  subway at the bottom of the building  lot of restaurants and shop 30 m2 large studio light in a very nice area  10 minutes walk from the place de la bastille and 10 minutes from the republic square  in close proximity of the  marais  and  ile saint louis   the flat  includes an entrance  a kitchen with electric hob  oven  fridge  freezer  toaster and washing machine laundry  a large bright room with a double bed and a sofa  bathroom with bath and dressing room   view of the tree lined street  very good bakery just opposite  wifi internet  the studio is located on the 4th floor in a building with elevator  the metro is at the foot of the building  metro  saint ambrose  line 9 metro  richard lenoir  line 5 many restaurants and shops are at 5 minutes walk  many nearby attractions    le marais   place des vosges is beautiful     canal saint martin   place de la bastille     0.421968\n",
      "lovely 2 rooms flat  fully equipped at the 1st floor in a hausmanian typical parisian building at the heart of montmarmatre for 2 to 4 persons 1 room with a double bed and 1 living room with a couch which open into a double bed  beautiful 2 rooms  flat located at the heart of montmartre  it s a perfect space for 2 to 4 persons  the flat is located in a quiet street at the 1st floor of a nice and typical parisian building with wooden floor  beautiful moldings and two old fireplace    the flat is very nice  it includes a linving room with a sofa convertible into a double bed  a bedroom with a double bed  a bathroom and a fully equipped kitchen  i love to cook so you will have everything you need  based at 2 minutes away from metro   lamarck caulincourt    you are at 5 minutes away from abesses and at 10 minutes by walk from the   sacr  c ur    internet  wifi  tv  washing machine  micro waves  nespresso machine  what else  i m available by e mail or by phone  i will be glad to help you pl    0.417021\n",
      "welcome to my large apartment near montmartre  15 minutes walk from sacr  coeur  for 4 people  one bedroom with double bed   one sofa bed      you will enjoy a beautiful modern apartment with fully equipped kitchen  bathroom with large shower  large bedroom     all in a lively neighborhood  quiet and residential at a time  apartment ideally located on the 2nd floor with elevator and close to many shops  great parisian stay in forecast     my apartment is on the 2nd floor with elevator  you will have a large modern and fully equipped kitchen  hotplates  oven  microwave  dishwasher  tassimo coffee machine  teapot  toaster       a cozy and comfortable living room with a sofa bed and tv   a large bedroom with very comfortable double bed and storage  a bathroom very elegant and classy  redone with walk in shower  heated towel rail and washing machine   separate wc  all in a secure building and a great neighborhood  travellers will have access to all the accomodation     i am very responsive    0.416778\n",
      "charming parisian style flat  26m2  with two rooms and it fits 4 persons very comfortably  on 6th floor with liftop and amazing view   nice livingroom with sofa bed   fully equipped kitchen with microwave owen and all the accessories  beautiful bedroom for 2 people  bathroom with wc  shower  bathtub and washing machine  all beds are provided with sheets as well as towels in bathroom  the flat has its internet wi fi connection  located in rue sedaine  3 minutes to voltaire metro station  in a charming neighborhood of the 11th district  mostly residential  safe and quiet with food shops  markets  and many restaurants  when arriving from paris gare de lyon the flat is located less than 15 minutes away by foot or one metro station  line 1   many metro stations are also nearby  lin  website hidden by airbnb  1   there is also a velib station  just down the building   the exciting bastille and r publique squares are both close  and you can easly walk to the super fashion marais and place de     0.411180\n",
      "hi    my place is a modern and quiet studio with a large terrasse in front of a large park with a beautiful view of the eiffel tower     the flat is located on the 17th area of paris in the eco district in  les batignolles   this is a very trendy area of paris perfect to chill out and have a view to the  real paris   les batignolles is full of good restaurants  art gallery  wine bar  littles shops and farmers  organic market   close to everything  15 minutes walk to montmartre  sacr s coeur and le moulin rouge   10 minutes on metro to les champs elys es and les galeries lafayettes   the closest metro stations  3 minutes walk  are   borchant  line 13   rome  line 2  and is also a lot a bus and velib station if you feel like to rent a bike    fully and bright equipped studio on 4st floor  southern exposure    large living room and open kitchen  with everything you need     bathroom with towels fully equipped      linen    fully equipped kitchen    washing machine   bbq   internet   wifi     0.410366\n",
      "spacious one bedroom flat in the heart of paris  ideal location  place de la bastille and the center of the marais are at 10 minute walk away  has a large bedroom and a living room with very comfortable sofa bed  fully equipped kitchen  bathroom with shower and separate wc  ideal for a family or two couples  the kitchen is fully equipped  microwave oven  two electric cooking rings  fridge  dishwasher  etc  the studio is equipped with a television and wifi  the sofa bed is 140 cm wide  airbnbservices takes care of our house as well as your reception  very dynamic neighborhood close to the apartment   place de la bastille  place de la r publique in the heart of the famous marais district where shops are open 7 7 days  many shops and supermarkets  many of the nearby bars and restaurants are recommended in the great guides  metro line 8  stop saint s bastien froissart   a 10 minutes walk   place de la r publique  lines 3  5  8  9 et 11  and place de la bastille  lines 1  5 et 8        norm    0.410097\n",
      "appartement de 2 pi ces au centre de paris  id alement situ    2 minutes du canal saint martin et   5 minutes de la place de la r publique  le quartier est tr s agr able et tr s vivant  plein de commerces de proximit   de bars et de restaurants  2 room appartement in the heart of paris  ideally located 2 minutes away from canal saint martin and 5 minutes away from place de la r publique  the neighbourhood is very pleasant and lively  full of local stores  bars and restaurants  l appartement de 2 pi ces comprend une grande chambre avec lit double  un grand salon  une cuisine ouverte et une salle de bain  lumineux et calme  l appartement est  galement tr s bien  quip   wifi  t l vision  lave linge   2 room appartment with a large bedroom  double bed   a large living room  an open kitchen and a bathroom  very bright and calm  the appartment is also very well furnished  wifi  tv  washing machine  je serai l  en personne pour vous remettre les cl s  vous faire visiter l appartement et r pon    0.406258\n",
      "this luxury flat is located at few minutes from place de la bastille  it has been renovated in and can accommodate up to 4 people  the area is full of restaurants  shops  and local stores  it s the ideal place to discover paris  this apartment of 51sqm is located on the 4th floor  without elevator  of a residential building  this apartment is fully furnished with new furniture and all that you need to make your stay comfortable  it is composed by     large living room with bar  dining table and sofa bed  140x200cm    an open kitchen fully equipped  fridge  oven  microwave  induction hobs  toaster  kettle        a room with a double bed  140x200cm    bathroom with shower and toilets   many storage   tv and high speed  internet  wifi    sheets and towels provided you will have full access to the flat  you will feel at home  the apartment is located in a very lively area of the 12th district  very close from place de la bastille  the area is full of restaurants  coffee shops  fashionable     0.399298\n",
      "this luxury flat is located at few minutes from place de la bastille  it has been renovated  and can accommodate up to 4 people  the area is full of restaurants  shops  and local stores  it s the ideal place to discover paris  this apartment of 50sqm is located on the 2nd floor  without elevator  of a residential building  this apartment is fully furnished with new furniture and all that you need to make your stay comfortable  it is composed by     large living room with bar  dining table and sofa bed  140x200cm    an open kitchen fully equipped  fridge  oven  microwave  induction hobs  toaster  kettle        a room with a double bed  140x200cm    bathroom with shower and toilets   many storage   tv and high speed  internet  wifi    sheets and towels provided you will have full access to the flat  you will feel at home  the apartment is located in a very lively area of the 12th district  very close from place de la bastille  the area is full of restaurants  coffee shops  fashionable sh    0.395775\n",
      "beautiful 45 m2 flat  fully renovated in 2016 in parisian style  it includes a sunny living room with a fully equipped open plan kitchen   a quiet bedroom on the courtyard  and a bathroom with toilet  wifi in the flat  located in the historic center of paris in a tipically parisian district named saint georges and rue des martyrs  just near by restaurants  theaters and shopping areas  montmartre  sacr  coeur  op ra at 10 15 min by walk  very quiet street in a lively neighbourhood  bus and metro  parisian style charming flat  entirely renovated in 2016  very quiet location  sunny living room with open plan kitchen fully equipped  one very silent bedroom overlooking the courtyard  with a double bed  one bathroom with shower and toilet  wifi in the flat  buses and metro are nearby  full apartment subway  at 5 min by walk   line 12  station saint georges  leading to madeleine church  champs elys es  orsay museum  saint germain des pr s  parc des expositions at porte de versailles  bus at 2    0.395266\n",
      "Name: 0, dtype: float64\n",
      "Component 1:\n",
      "description\n",
      "l appartement se situe dans le 19 me arrondissement de paris  dans un quartier calme et agr able    deux pas de la ligne de m tro 11  au 1er  tage  avec ascenseur   avec vue sur cour  c est un grand studio de 38m   avec un rideau entre la chambre   le salon   quip  d un lit double et d un canap  lit  d une cuisine toute  quip e  y compris lave vaisselle   d une salle de bain avec une cabine de douche   lavabo et de toilettes s par es  le linge de maison est fourni  l appartement est tr s agr able   vivre  calme  clair et donnant sur une jolie cour int rieure  acc s   tout l appartement  veuillez noter que l appartement n est pas  quip  en wifi  je suis   votre disposition avant et pendant votre s jour pour r pondre   vos questions et pour vous conseiller des choses   faire dans le quartier  quartier calme et agr able   vivre    proximit  de tous commerces utiles  un march  presque chaque jour de la semaine  place des f tes ou t l graphe   proche du quartier jourdain  du parc de bellevi    0.417753\n",
      "2 pi ces de charme au c ur du quartier de la butte aux cailles  tout pr s du parc montsouris et de la place d italie  tr s bien desservi par la ligne 6 du m tro et plusieurs lignes de bus  67 57 62 fonctionnant tard le soir  mon petit appartement est parfait pour 2 personnes  id al pour un s jour   paris  tr s bien situ   dans un quartier authentique   la fois anim  et calme avec un v ritable cachet  l appartement est lumineux et tr s agr able  il se trouve au 3  me  tage sans ascenseur d un immeuble haussmannien   deux pas de tous les  commerces  il se compose d une entr e desservant une  petite cuisine bien  quip e  une jolie chambre claire avec lit double  literie d excellente qualit   et un beau salon ou la banquette peut servir de lit pour 1 personne si besoin  la salle d eau est petite mais la douche est large et confortable  les toilettes sont s par s  vous aurez acc s   la totalit  de l appartement  je fournis le linge de lit  le linge de toilette et un vrai petit d jeuner comp    0.410474\n",
      "charmant appartement de 42m2  situ    montmartre    deux pas du march  saint pierre  du quartier des abbesses et du sacr  coeur  emplacement id al   nombreux commerces  caf s et restaurants  logement parfait pour les couples et les voyageurs en solo  id al pour d couvrir un paris authentique  au pied du m tro lamarck caulaincourt  ligne 12   l appartement est traversant et lumineux avec une vue au 3 me  tage de la rue darwin  tr s calme  peu de passage    il dispose d une grande pi ce   vivre avec bow window   salle   manger  d une cuisine  quip e  frigo  lave vaisselle  bouilloire  grille pain etc     et d une chambre compos e d un lit double et de nombreux rangements  salle de bain et toilettes s par s  tout le logement disponible par t l phone   mail    hidden by airbnb   l appartement est situ    montmartre  un quartier id al et typique de paris  transports au pied de l appartement   acc s direct au m tro ligne 12    20 m tres de l immeuble   acc s ligne 80 bus    10 m tres de l im    0.406970\n",
      "joli appartement de 50 m  situ  au 3 me  tage d une r sidence calme  la grande baie vitr e rend l ensemble tr s lumineux  quartier central et tr s anim    bars  restaurants et tous commerces au pied de l immeuble   4 lignes de m tro   500 m tres  id al pour les couples de passage qui recherchent un petit havre de paix en plein centre de la capitale    l appartement comporte     une petite entr e    une cuisine toute  quip e  four  lave vaisselle  micro onde  r frig rateur  semi ouverte sur le salon    une chambre avec lit double    une salle de bain  avec lave linge et s che linge     wc s par  de la salle de bain    et un grand balcon donnant sur jardin int rieur  le logement entier est   vous    je suis enti rement disponible pour  changer avant  pendant et apr s votre s jour  n h sitez pas   me solliciter   commerces  bars  restaurants  tout ce dont vous auriez besoin se trouve a moins d une minute   pied dans le quartier  une ligne de bus en bas de l immeuble  quatre lignes de m tr    0.404574\n",
      "charmant 2 pi ces  quartier des batignolles    10 min   pied de la place de clichy  quartier vivant  immeuble calme    proximit  du m tro et commerces  deux pi ces de 35 m2  situ  au 2 me  tage sans ascensceur  l appartement est situ  dans un immeuble calme et donne sur la cour  id al pour un couple ou une personne seule  je vis dans l appartement la majorit  de l ann e donc mes affaires personnelles sont pr sentes  vous pouvez utiliser ce qui est laiss    disposition  caf   th    pices etc      le logement est compos  d une pi ce   vivre  d une chambre  d une cuisine petite mais fonctionnelle   et je pr f re pr venir  la salle de bain est plut t exigu e  les voyageurs disposent de tout l appartement  le linge de lit et le linge de toilette est fourni                                                                                                                                                                                                                                                   0.392823\n",
      "soyez les bienvenus dans mon charmant deux pi ces  tr s lumineux  dans un quartier tr s agr able  vivant  et   proximit  des activit s  nombreux transports en commun  tr s joli deux pi ces  au sixi me  tage  lumineux   cuisine  quip e  table de repas coin salon avec canap   la chambre est s par e  au calme  avec un vrai lit deux places  tout le logement est accessible   salon avec cuisine ouverte  chambre  salle de bain avec wc tout d pend de mes imp ratifs  mais si je ne suis pas   paris  un ami est toujours pr sent   proximit  quartier populaire  tr s vivant  nombreux bars et restaurants  a deux pas du parc de belleville  du cimeti re du p re lachaise  le centre de paris est accessible en 15 minutes  un march  deux fois par semaine au pied de l immeuble  deux lignes de m tro   moins de cinq minutes   nombreux bus   velib  autolib                                                                                                                                                                 0.392029\n",
      "agr able deux pi ces dans une petite copropri t   au deuxi me  tage sans ascenseur  tr s lumineux dans une rue tr s calme proche de tout commerce  vous y serez comme chez vous   vous disposerez du logement entier  1 chambre avec 1 lit double et 1 salon avec un canap  lit 2 places une petite cuisine et une salle de bain refaites toutes les deux r cemment compl tent ce logement  le logement entier est   votre disposition  je me ferai une joie de vous accueillir et je reste   votre enti re disposition si besoin  je vous donnerai mes adresses favorites dans le quartier    proche de montmartre  cet appartement lumineux vous permettra de passer un agr able s jour  beaucoup de commerces sont   proximit    boulangerie  grandes surfaces comme carrefour  monoprix ou naturalia  un jardin d enfants se trouve juste   c t   l appartement est situ  proche du m tro guy m quet sur la ligne 13 qui dessert paris du nord au sud vous avez aussi la ligne de bus 31 qui vous relie d un c t    la gare de l est    0.390585\n",
      "2 pi ces de 40m  tout confort situ  m tro voltaire ou charonne  ligne 9  au 4e  tage sans ascenseur  il se compose d une entr e avec toilettes  d une cuisine  quip e  d un salon avec canap  lit  d une chambre avec lit 2 places et d une salle de bain  deux pi ces compos  d une entr e avec toilettes s par es  d une grande cuisine enti rement  quip e  four  four micro onde  plaques   induction  senseo  d un petit salon avec canap  lit  120 cm  et t l vision  d une petite chambre avec lit double  140 cm  et d une salle de bain  acc s par la chambre  avec douche  lavabo et machine   laver   proche du m tro  200m des stations voltaire et charonne sur la ligne 9  500m de philippe auguste sur la ligne 2    l appartement est situ  au 4e  tage sans ascenseur parisien depuis 7 ans  je n h siterai pas   vous conseiller pour votre s jour en fonction de vos envies  quartier vivant  place l on blum et rue de la roquette   200 m tres   vous trouverez   deux pas du logement     restaurants pour tous le    0.389959\n",
      "appartement compl tement refait   neuf par un architecte et situ    quelques m tres du quartier tr s commer ants des batignolles et de montmartre  17eme paris   immeuble tr s silencieux et agr able  parfaitement situ  pour visiter paris  vous appr cierez l appartement pour sa luminosit   son calme  son charme ainsi que le quartier vivant   anim   pr s du march   et des commerces de proximit   il est parfait pour les couples  les voyageurs en solo et les voyageurs d affaires  45m2  2 pi ces  au 2 me  tage  sans ascenseur  id al 2 pers   spacieux et tr s lumineux  expos  plein sud  avec vue d gag e et calme  donnant sur cour dans la chambre    un canap  lit se trouve dans le salon et peut accueillir une ou deux personne s  suppl mentaire s   les voyageurs ont acc s   tout l appartement  chambre avec lit douillet 2 places  et placards de rangement dans le dressing mis   disposition  sdb avec douche   l italienne  s che cheveux  wc s par s  cuisine enti rement  quip e  ouverte sur salon  l    0.389560\n",
      "je vous accueille dans un studio de 13m   lumineux et bien situ   parfait pour vos escapades   paris  au quatri me  tage avec ascenseur   partir du premier  tage  tous les voyageurs sont les bienvenus    en logeant chez moi  vous serez situ s dans un quartier anim  et tr s bien desservi par tous les transports  le studio est situ    10 minutes   pieds de la place de la bastille et de la gare de lyon  et   20 m tres de la ligne 8 de m tro et des lignes de bus 86  61  n16 et n34  mon studio  de 13m  est compos  d une pi ce principale et d une salle de bain s par e  le canap  lit est deux places  petit bonus pour l  t   je n ai pas la climatisation  mais un ventilateur tr s puissant   vous aurez acc s   une cuisine fonctionnelle  avec des plaques vitro c ramiques   la salle de bain est spacieuse  avec une grande douche et de la pression d eau  je ne serai pas pr sente pendant votre s jour  mais disponible pour vous conseiller les bonnes adresses du quartier  et en cas de probl me  le quar    0.385764\n",
      "Name: 1, dtype: float64\n",
      "Component 2:\n",
      "description\n",
      "beautiful apartment  both comfortable  warm and spacious  it will be perfect for a couple stay  located in the 10th arr  you will be in a dynamic and very pleasant neighborhood  via the transports you will be able to join the districts of    republic  shops  restaurants  cafes    bastille  opera   the marais  place des vosges    montmartre  sacred heart  as well as many tourist sites    garnier opera   louvre museum   eiffel tower   notre dame de paris cathedral superb bright apartment of 32m2 on the 4th floor without elevator  in a pleasant building  you will be conquered by this well appointed accommodation  access to the apartment via a beautiful and spacious common room which gives access to a bedroom with double bed  a shower room and a well equipped kitchen  oven  washing machine   only guests will have access to the apartment during their rental  to make your stay even better during my absence  i entrusted the management of my apartment to an airbnb concierge who will be very ni    0.454133\n",
      "beautiful apartment  both comfortable  warm and spacious  it will be perfect for a couple stay  located in the 18th arr  you will be in a dynamic and very pleasant neighborhood  via the transports you will be able to join the districts of    saint lazare   its shops  restaurants and cafes   pigalle   its moulin rouge   montmartre   his sacred heart   the marais   the place des vosges as well as many tourist sites    concord   louvre museum   the tuileries superb bright and modern apartment of 59m2 on the 5th floor with elevator  in a pleasant building  you will be conquered by this well appointed accommodation  access the apartment via a beautiful common room which gives access to a bedroom with double bed  a beautiful modern shower room and a fully equipped kitchen  only guests will have access to the apartment during their rental  to make your stay even better during my absence  i entrusted the management of my apartment to an airbnb concierge who will be very nice with you  i is wit    0.453470\n",
      "beautiful apartment  both comfortable  warm and spacious  it will be perfect for a couple stay  located in the 11th arr  you will be in a dynamic and very pleasant neighborhood  on foot or via transport you can reach the districts of    bastille  its opera   its shops   the marais with its famous place des vosges   montmartre   the sacred heart   saint michel   notre dame cathedral as well as many tourist sites    garnier opera   louvre museum superb bright apartment of 34m2 on the 2nd floor without elevator  in a pleasant building  you will be conquered by this well appointed accommodation  access to the apartment via a beautiful common room with sofa bed  which gives access to a bedroom with double bed  a bathroom and a well equipped kitchen  only guests will have access to the apartment during their rental  to make your stay even better during my absence  i entrusted the management of my apartment to an airbnb concierge who will be very caring for you  it is with them that you will     0.453062\n",
      "beautiful apartment  both comfortable  warm and spacious  it will be perfect for a couple stay  located in the 3rd arr  you will be in a dynamic and very pleasant neighborhood  via the transports you will be able to join the districts of    ch telet  shops  restaurants  cafes     the marais  place des vosges    montmartre  sacred heart    saint michel  cathedral notre dame of paris  as well as many tourist sites    garnier opera   louvre museum   eiffel tower superb bright apartment of 34m2 on the 4th floor without elevator  in a pleasant building  you will be conquered by this well appointed accommodation  access to the apartment via a beautiful common room with sofa bed  which gives access to a bedroom with double bed  a shower room and a well equipped kitchen  only guests will have access to the apartment during their rental  to make your stay even better during my absence  i entrusted the management of my apartment to an airbnb concierge who will be very nice with you  i is with th    0.452915\n",
      "beautiful apartment  both comfortable  warm and spacious  it will be perfect for a couple stay  located in the 11th arr  you will be in a dynamic and very pleasant neighborhood  via the transports you will be able to join the districts of    republic   its shops  restaurants and cafes   the marais   its famous place des vosges   montmartre   his sacred heart as well as many tourist sites    garnier opera   louvre museum   the tuileries   notre dame cathedral cozy apartment of 30m2 on the 2nd floor without elevator  in a pleasant building  you will be conquered by this well appointed accommodation  access the apartment via a beautiful common room that gives access to a bedroom with double bed  a bathroom and a well equipped kitchen  only guests will have access to the apartment during their rental  to make your stay even better during my absence  i entrusted the management of my apartment to an airbnb concierge who will be very nice with you  i is with them that you will interact mainly    0.452841\n",
      "beautiful apartment  both comfortable  warm and spacious  it will be perfect for a couple stay located in the 11th arr  you will be in a dynamic and very pleasant area on foot or via transport you can reach the districts    republic  shops  restaurants    the marais   the place des vosges   montmartre   the sacred heart   pigalle   its moulin rouge as well as many tourist sites    garnier opera   louvre museum   notre dame de paris cathedral superb comfortable apartment of 45m2 on the 1st floor with elevator  in a pleasant building  you will be conquered by this well appointed accommodation  access to the apartment via a beautiful common room with sofa bed  which gives access to a bedroom with double bed  a bathroom and a well equipped kitchen  only guests will have access to the apartment during their rental  to make your stay even better during my absence  i entrusted the management of my apartment to an airbnb concierge who will be very nice with you  i is with them that you will in    0.452503\n",
      "beautiful apartment  both comfortable  warm and spacious  it will be perfect for a couple stay  located in the 18th arr  you will be in a dynamic and very pleasant neighborhood  via the transports you will be able to join the districts of   saint lazare   its shops  restaurants and cafes  pigalle   its moulin rouge   montmartre   his sacred heart as well as many tourist sites   garnier opera   louvre museum   the tuileries   place des vosges   notre dame cathedral superb cozy apartment of 35m2 on the 5th floor without elevator  in a pleasant building  you will be conquered by this well appointed accommodation  access to the apartment via a beautiful common room consisting of a sofa bed  which gives access to a bedroom with double bed  a bathroom and a beautiful well equipped kitchen  only guests will have access to the apartment during their rental  to make your stay even better during my absence  i entrusted the management of my apartment to an airbnb concierge who will be very nice w    0.452386\n",
      "beautiful apartment  both comfortable  bright and spacious  it will be perfect for a couple stay  located in the 18th arr  you will be in a dynamic and very pleasant neighborhood  via the transports you will be able to join the districts of    saint lazare   its shops  restaurants and cafes   pigalle   its famous moulin rouge   montmartre   his sacred heart as well as many tourist sites    notre dame de paris cathedral   louvre museum   the tuileries   concorde superb bright and warm apartment of 33m2 on the 1st floor without elevator  in a pleasant building  you will be conquered by this well appointed accommodation  access the apartment via a beautiful common room consisting of a bed  which gives access to a bedroom with double bed  a shower room and a well equipped kitchen  only guests will have access to the apartment during their rental  to make your stay even better during my absence  i entrusted the management of my apartment to an airbnb concierge who will be very nice with you    0.451325\n",
      "beautiful apartment  both comfortable  warm and spacious  it will be perfect for a couple stay  located in the 3rd arr  you will be in a dynamic and very pleasant neighborhood  via the transports you will be able to join the districts of    republic   its shops  restaurants and cafes   the marais   its famous place des vosges   montmartre   his sacred heart   saint michel   his cathedral as well as many tourist sites    garnier opera   louvre museum   the tuileries superb cozy apartment of 30m2 on the 4th floor without elevator  in a pleasant building  you will be conquered by this well appointed accommodation  access the apartment via a beautiful common room that gives access to a bedroom with double bed  a bathroom and a well equipped kitchen  only guests will have access to the apartment during their rental  to make your stay even better during my absence  i entrusted the management of my apartment to an airbnb concierge who will be very nice with you  i is with them that you will i    0.451183\n",
      "beautiful apartment  both comfortable  warm and spacious  it will be perfect for a couple stay  located in the 11th arr  you will be in a dynamic and very pleasant neighborhood  via the transports you will be able to join the districts of    republic  shops  restaurants  cafes    bastille  opera   the marais  place des vosges    montmartre  sacred heart  as well as many tourist sites    garnier opera   louvre museum   eiffel tower   notre dame de paris cathedral superb bright apartment of 52m2 on the 4th floor without elevator  in a pleasant building  you will be conquered by this well appointed accommodation  access the apartment via a beautiful common room that gives access to a bedroom with double bed  a shower room and a well equipped kitchen  only guests will have access to the apartment during their rental  to make your stay even better during my absence  i entrusted the management of my apartment to an airbnb concierge who will be very nice with you  i is with them that you will    0.450637\n",
      "Name: 2, dtype: float64\n"
     ]
    }
   ],
   "source": [
    "#Looking at what sorts of paragraphs our solution considers similar, for the first five identified topics\n",
    "paras_by_component=pd.DataFrame(desc_lsa_train,index=X_train)\n",
    "for i in range(3):\n",
    "    print('Component {}:'.format(i))\n",
    "    print(paras_by_component.loc[:,i].sort_values(ascending=False)[0:10])\n"
   ]
  },
  {
   "cell_type": "code",
   "execution_count": 73,
   "metadata": {},
   "outputs": [],
   "source": [
    "paras_by_component['super_host']=df['host_is_superhost']"
   ]
  },
  {
   "cell_type": "code",
   "execution_count": null,
   "metadata": {},
   "outputs": [],
   "source": [
    "plt.figure(figsize(10,5))\n",
    "sns.scatterplot(x='reviews_per_month', y='review_scores_rating', \n",
    "                hue='host_cluster', data=df)\n",
    "\n",
    "plt.ylim(65, 102)\n",
    "plt.xlim(-0.1, 15)\n",
    "plt.title('Airbnb Hosts in Paris Clusters')"
   ]
  },
  {
   "cell_type": "markdown",
   "metadata": {
    "scrolled": true
   },
   "source": [
    "We see that LSA nicely separated French and English descriptions. Also, you see the similarity of the descriptions among each component. "
   ]
  },
  {
   "cell_type": "markdown",
   "metadata": {},
   "source": [
    "# NLP Modeling\n",
    "\n",
    "- See if the models can predict whether a host is superhost by using `description`."
   ]
  },
  {
   "cell_type": "code",
   "execution_count": 75,
   "metadata": {},
   "outputs": [],
   "source": [
    "from sklearn import ensemble\n",
    "from sklearn.linear_model import LogisticRegression\n",
    "from sklearn import linear_model\n",
    "from sklearn.metrics import confusion_matrix"
   ]
  },
  {
   "cell_type": "markdown",
   "metadata": {},
   "source": [
    "## Random Forest"
   ]
  },
  {
   "cell_type": "code",
   "execution_count": 76,
   "metadata": {},
   "outputs": [
    {
     "data": {
      "text/plain": [
       "<32099x8496 sparse matrix of type '<class 'numpy.float64'>'\n",
       "\twith 1937075 stored elements in Compressed Sparse Row format>"
      ]
     },
     "execution_count": 76,
     "metadata": {},
     "output_type": "execute_result"
    }
   ],
   "source": [
    "desc_tfidf_train"
   ]
  },
  {
   "cell_type": "code",
   "execution_count": 77,
   "metadata": {},
   "outputs": [
    {
     "name": "stderr",
     "output_type": "stream",
     "text": [
      "/anaconda3/lib/python3.7/site-packages/sklearn/ensemble/forest.py:246: FutureWarning:\n",
      "\n",
      "The default value of n_estimators will change from 10 in version 0.20 to 100 in 0.22.\n",
      "\n"
     ]
    },
    {
     "name": "stdout",
     "output_type": "stream",
     "text": [
      "Training set score for tf-idf: 0.9752951805352191\n",
      "\n",
      "Test set score for tf-idf: 0.858411214953271\n",
      "\n",
      "Crosstab for tf-idf:\n",
      " Predicted      0   1    All\n",
      "True                       \n",
      "0           9137  25   9162\n",
      "1           1490  48   1538\n",
      "All        10627  73  10700\n"
     ]
    }
   ],
   "source": [
    "rfc = ensemble.RandomForestClassifier()\n",
    "\n",
    "tfidf_rfc_train = rfc.fit(desc_tfidf_train, y_train)\n",
    "\n",
    "print('Training set score for tf-idf:', rfc.score(desc_tfidf_train, y_train))\n",
    "y_pred=rfc.predict(desc_tfidf_test)\n",
    "\n",
    "print('\\nTest set score for tf-idf:', rfc.score(desc_tfidf_test, y_test))\n",
    "print('\\nCrosstab for tf-idf:\\n', pd.crosstab(y_test, y_pred,rownames=['True'], \n",
    "                                            colnames=['Predicted'], margins=True))\n"
   ]
  },
  {
   "cell_type": "code",
   "execution_count": 78,
   "metadata": {},
   "outputs": [
    {
     "name": "stdout",
     "output_type": "stream",
     "text": [
      "Type 1 Error:\n",
      "0.0031652477624972714\n",
      "\n",
      "Type 2 Error:\n",
      "0.9700910273081924\n"
     ]
    }
   ],
   "source": [
    "print('Type 1 Error:')\n",
    "print(29/9162)\n",
    "\n",
    "print('\\nType 2 Error:')\n",
    "print(1492/1538)"
   ]
  },
  {
   "cell_type": "code",
   "execution_count": 79,
   "metadata": {},
   "outputs": [
    {
     "name": "stdout",
     "output_type": "stream",
     "text": [
      "Training set score for tf-idf: 0.9757936384311038\n",
      "\n",
      "Test set score for lsa: 0.8544859813084112\n",
      "\n",
      "Crosstab for lsa:\n",
      " Predicted      0   1    All\n",
      "True                       \n",
      "0           9113  49   9162\n",
      "1           1508  30   1538\n",
      "All        10621  79  10700\n"
     ]
    }
   ],
   "source": [
    "lsa_rfc_train = rfc.fit(desc_lsa_train, y_train)\n",
    "\n",
    "print('Training set score for tf-idf:', rfc.score(desc_lsa_train, y_train))\n",
    "print('\\nTest set score for lsa:', rfc.score(desc_lsa_test, y_test))\n",
    "\n",
    "y_pred=rfc.predict(desc_lsa_test)\n",
    "print('\\nCrosstab for lsa:\\n', pd.crosstab(y_test, y_pred,rownames=['True'], \n",
    "                                            colnames=['Predicted'], margins=True))"
   ]
  },
  {
   "cell_type": "markdown",
   "metadata": {},
   "source": [
    "## Logistic Regression"
   ]
  },
  {
   "cell_type": "code",
   "execution_count": 80,
   "metadata": {},
   "outputs": [
    {
     "name": "stderr",
     "output_type": "stream",
     "text": [
      "/anaconda3/lib/python3.7/site-packages/sklearn/linear_model/logistic.py:433: FutureWarning:\n",
      "\n",
      "Default solver will be changed to 'lbfgs' in 0.22. Specify a solver to silence this warning.\n",
      "\n"
     ]
    },
    {
     "name": "stdout",
     "output_type": "stream",
     "text": [
      "Training set score for tf-idf: 0.8551668276270289\n",
      "\n",
      "Test set score for lsa: 0.855981308411215\n",
      "\n",
      "Crosstab for tf-idf:\n",
      " Predicted      0   1    All\n",
      "True                       \n",
      "0           9139  23   9162\n",
      "1           1518  20   1538\n",
      "All        10657  43  10700\n"
     ]
    }
   ],
   "source": [
    "lr = LogisticRegression(C=1)\n",
    "\n",
    "tfidf_lr_train = lr.fit(desc_tfidf_train, y_train)\n",
    "\n",
    "print('Training set score for tf-idf:', lr.score(desc_tfidf_train, y_train))\n",
    "print('\\nTest set score for lsa:', lr.score(desc_tfidf_test, y_test))\n",
    "\n",
    "y_pred=lr.predict(desc_tfidf_test)\n",
    "print('\\nCrosstab for tf-idf:\\n', pd.crosstab(y_test, y_pred,rownames=['True'], \n",
    "                                            colnames=['Predicted'], margins=True))\n"
   ]
  },
  {
   "cell_type": "code",
   "execution_count": 81,
   "metadata": {},
   "outputs": [
    {
     "name": "stdout",
     "output_type": "stream",
     "text": [
      "Training set score for tf-idf: 0.8539518365058102\n",
      "\n",
      "Test set score for lsa: 0.8554205607476636\n",
      "\n",
      "Crosstab for lsa:\n",
      " Predicted      0   1    All\n",
      "True                       \n",
      "0           9115  47   9162\n",
      "1           1500  38   1538\n",
      "All        10615  85  10700\n"
     ]
    }
   ],
   "source": [
    "lsa_lr_train = lr.fit(desc_lsa_train, y_train)\n",
    "\n",
    "print('Training set score for tf-idf:', lr.score(desc_lsa_train, y_train))\n",
    "print('\\nTest set score for lsa:', lr.score(desc_lsa_test, y_test))\n",
    "\n",
    "y_pred=lr.predict(desc_lsa_test)\n",
    "print('\\nCrosstab for lsa:\\n', pd.crosstab(y_test, y_pred,rownames=['True'], \n",
    "                                            colnames=['Predicted'], margins=True))"
   ]
  },
  {
   "cell_type": "markdown",
   "metadata": {},
   "source": [
    "## Gradient Descent"
   ]
  },
  {
   "cell_type": "code",
   "execution_count": 82,
   "metadata": {},
   "outputs": [
    {
     "name": "stdout",
     "output_type": "stream",
     "text": [
      "Training set score for tf-idf: 0.8502757095236612\n",
      "\n",
      "Test set score for lsa: 0.8562616822429907\n",
      "\n",
      "Crosstab for tf-idf:\n",
      " Predicted      0    All\n",
      "True                   \n",
      "0           9162   9162\n",
      "1           1538   1538\n",
      "All        10700  10700\n"
     ]
    }
   ],
   "source": [
    "clf = linear_model.SGDClassifier(max_iter=1000, tol=1e-3)\n",
    "\n",
    "tfidf_clf_train = clf.fit(desc_tfidf_train, y_train)\n",
    "\n",
    "print('Training set score for tf-idf:', clf.score(desc_tfidf_train, y_train))\n",
    "print('\\nTest set score for lsa:', clf.score(desc_tfidf_test, y_test))\n",
    "\n",
    "y_pred=clf.predict(desc_tfidf_test)\n",
    "print('\\nCrosstab for tf-idf:\\n', pd.crosstab(y_test, y_pred,rownames=['True'], \n",
    "                                            colnames=['Predicted'], margins=True))"
   ]
  },
  {
   "cell_type": "code",
   "execution_count": 83,
   "metadata": {
    "scrolled": true
   },
   "outputs": [
    {
     "name": "stdout",
     "output_type": "stream",
     "text": [
      "Training set score for tf-idf: 0.8502757095236612\n",
      "\n",
      "Test set score for lsa: 0.8562616822429907\n",
      "\n",
      "Crosstab for lsa:\n",
      " Predicted      0    All\n",
      "True                   \n",
      "0           9162   9162\n",
      "1           1538   1538\n",
      "All        10700  10700\n"
     ]
    }
   ],
   "source": [
    "lsa_clf_train = clf.fit(desc_lsa_train, y_train)\n",
    "\n",
    "print('Training set score for tf-idf:', clf.score(desc_lsa_train, y_train))\n",
    "print('\\nTest set score for lsa:', clf.score(desc_lsa_test, y_test))\n",
    "\n",
    "y_pred=clf.predict(desc_lsa_test)\n",
    "print('\\nCrosstab for lsa:\\n', pd.crosstab(y_test, y_pred, rownames=['True'], \n",
    "                                            colnames=['Predicted'], margins=True))"
   ]
  },
  {
   "cell_type": "markdown",
   "metadata": {},
   "source": [
    "# More Feature Engineering - *Improve Models*"
   ]
  },
  {
   "cell_type": "markdown",
   "metadata": {},
   "source": [
    "## Add more features"
   ]
  },
  {
   "cell_type": "code",
   "execution_count": 154,
   "metadata": {},
   "outputs": [],
   "source": [
    "tfidf_train_df = pd.DataFrame(desc_tfidf_train.toarray(), \n",
    "                              columns=vectorizer.get_feature_names())\n",
    "tfidf_test_df = pd.DataFrame(desc_tfidf_test.toarray(), \n",
    "                              columns=vectorizer.get_feature_names())"
   ]
  },
  {
   "cell_type": "code",
   "execution_count": 155,
   "metadata": {},
   "outputs": [
    {
     "data": {
      "text/html": [
       "<div>\n",
       "<style scoped>\n",
       "    .dataframe tbody tr th:only-of-type {\n",
       "        vertical-align: middle;\n",
       "    }\n",
       "\n",
       "    .dataframe tbody tr th {\n",
       "        vertical-align: top;\n",
       "    }\n",
       "\n",
       "    .dataframe thead th {\n",
       "        text-align: right;\n",
       "    }\n",
       "</style>\n",
       "<table border=\"1\" class=\"dataframe\">\n",
       "  <thead>\n",
       "    <tr style=\"text-align: right;\">\n",
       "      <th></th>\n",
       "      <th>00</th>\n",
       "      <th>000</th>\n",
       "      <th>00am</th>\n",
       "      <th>00pm</th>\n",
       "      <th>02</th>\n",
       "      <th>05</th>\n",
       "      <th>08</th>\n",
       "      <th>09</th>\n",
       "      <th>10</th>\n",
       "      <th>100</th>\n",
       "      <th>...</th>\n",
       "      <th>zara</th>\n",
       "      <th>zen</th>\n",
       "      <th>zenith</th>\n",
       "      <th>zero</th>\n",
       "      <th>zinc</th>\n",
       "      <th>zola</th>\n",
       "      <th>zona</th>\n",
       "      <th>zone</th>\n",
       "      <th>zones</th>\n",
       "      <th>zoo</th>\n",
       "    </tr>\n",
       "  </thead>\n",
       "  <tbody>\n",
       "    <tr>\n",
       "      <th>0</th>\n",
       "      <td>0.0</td>\n",
       "      <td>0.0</td>\n",
       "      <td>0.0</td>\n",
       "      <td>0.0</td>\n",
       "      <td>0.0</td>\n",
       "      <td>0.0</td>\n",
       "      <td>0.0</td>\n",
       "      <td>0.0</td>\n",
       "      <td>0.000000</td>\n",
       "      <td>0.0</td>\n",
       "      <td>...</td>\n",
       "      <td>0.0</td>\n",
       "      <td>0.0</td>\n",
       "      <td>0.0</td>\n",
       "      <td>0.0</td>\n",
       "      <td>0.0</td>\n",
       "      <td>0.0</td>\n",
       "      <td>0.0</td>\n",
       "      <td>0.0</td>\n",
       "      <td>0.0</td>\n",
       "      <td>0.0</td>\n",
       "    </tr>\n",
       "    <tr>\n",
       "      <th>1</th>\n",
       "      <td>0.0</td>\n",
       "      <td>0.0</td>\n",
       "      <td>0.0</td>\n",
       "      <td>0.0</td>\n",
       "      <td>0.0</td>\n",
       "      <td>0.0</td>\n",
       "      <td>0.0</td>\n",
       "      <td>0.0</td>\n",
       "      <td>0.049578</td>\n",
       "      <td>0.0</td>\n",
       "      <td>...</td>\n",
       "      <td>0.0</td>\n",
       "      <td>0.0</td>\n",
       "      <td>0.0</td>\n",
       "      <td>0.0</td>\n",
       "      <td>0.0</td>\n",
       "      <td>0.0</td>\n",
       "      <td>0.0</td>\n",
       "      <td>0.0</td>\n",
       "      <td>0.0</td>\n",
       "      <td>0.0</td>\n",
       "    </tr>\n",
       "    <tr>\n",
       "      <th>2</th>\n",
       "      <td>0.0</td>\n",
       "      <td>0.0</td>\n",
       "      <td>0.0</td>\n",
       "      <td>0.0</td>\n",
       "      <td>0.0</td>\n",
       "      <td>0.0</td>\n",
       "      <td>0.0</td>\n",
       "      <td>0.0</td>\n",
       "      <td>0.000000</td>\n",
       "      <td>0.0</td>\n",
       "      <td>...</td>\n",
       "      <td>0.0</td>\n",
       "      <td>0.0</td>\n",
       "      <td>0.0</td>\n",
       "      <td>0.0</td>\n",
       "      <td>0.0</td>\n",
       "      <td>0.0</td>\n",
       "      <td>0.0</td>\n",
       "      <td>0.0</td>\n",
       "      <td>0.0</td>\n",
       "      <td>0.0</td>\n",
       "    </tr>\n",
       "    <tr>\n",
       "      <th>3</th>\n",
       "      <td>0.0</td>\n",
       "      <td>0.0</td>\n",
       "      <td>0.0</td>\n",
       "      <td>0.0</td>\n",
       "      <td>0.0</td>\n",
       "      <td>0.0</td>\n",
       "      <td>0.0</td>\n",
       "      <td>0.0</td>\n",
       "      <td>0.049516</td>\n",
       "      <td>0.0</td>\n",
       "      <td>...</td>\n",
       "      <td>0.0</td>\n",
       "      <td>0.0</td>\n",
       "      <td>0.0</td>\n",
       "      <td>0.0</td>\n",
       "      <td>0.0</td>\n",
       "      <td>0.0</td>\n",
       "      <td>0.0</td>\n",
       "      <td>0.0</td>\n",
       "      <td>0.0</td>\n",
       "      <td>0.0</td>\n",
       "    </tr>\n",
       "    <tr>\n",
       "      <th>4</th>\n",
       "      <td>0.0</td>\n",
       "      <td>0.0</td>\n",
       "      <td>0.0</td>\n",
       "      <td>0.0</td>\n",
       "      <td>0.0</td>\n",
       "      <td>0.0</td>\n",
       "      <td>0.0</td>\n",
       "      <td>0.0</td>\n",
       "      <td>0.169690</td>\n",
       "      <td>0.0</td>\n",
       "      <td>...</td>\n",
       "      <td>0.0</td>\n",
       "      <td>0.0</td>\n",
       "      <td>0.0</td>\n",
       "      <td>0.0</td>\n",
       "      <td>0.0</td>\n",
       "      <td>0.0</td>\n",
       "      <td>0.0</td>\n",
       "      <td>0.0</td>\n",
       "      <td>0.0</td>\n",
       "      <td>0.0</td>\n",
       "    </tr>\n",
       "  </tbody>\n",
       "</table>\n",
       "<p>5 rows × 8496 columns</p>\n",
       "</div>"
      ],
      "text/plain": [
       "    00  000  00am  00pm   02   05   08   09        10  100 ...   zara  zen  \\\n",
       "0  0.0  0.0   0.0   0.0  0.0  0.0  0.0  0.0  0.000000  0.0 ...    0.0  0.0   \n",
       "1  0.0  0.0   0.0   0.0  0.0  0.0  0.0  0.0  0.049578  0.0 ...    0.0  0.0   \n",
       "2  0.0  0.0   0.0   0.0  0.0  0.0  0.0  0.0  0.000000  0.0 ...    0.0  0.0   \n",
       "3  0.0  0.0   0.0   0.0  0.0  0.0  0.0  0.0  0.049516  0.0 ...    0.0  0.0   \n",
       "4  0.0  0.0   0.0   0.0  0.0  0.0  0.0  0.0  0.169690  0.0 ...    0.0  0.0   \n",
       "\n",
       "   zenith  zero  zinc  zola  zona  zone  zones  zoo  \n",
       "0     0.0   0.0   0.0   0.0   0.0   0.0    0.0  0.0  \n",
       "1     0.0   0.0   0.0   0.0   0.0   0.0    0.0  0.0  \n",
       "2     0.0   0.0   0.0   0.0   0.0   0.0    0.0  0.0  \n",
       "3     0.0   0.0   0.0   0.0   0.0   0.0    0.0  0.0  \n",
       "4     0.0   0.0   0.0   0.0   0.0   0.0    0.0  0.0  \n",
       "\n",
       "[5 rows x 8496 columns]"
      ]
     },
     "execution_count": 155,
     "metadata": {},
     "output_type": "execute_result"
    }
   ],
   "source": [
    "tfidf_train_df.head()"
   ]
  },
  {
   "cell_type": "code",
   "execution_count": 73,
   "metadata": {},
   "outputs": [
    {
     "data": {
      "text/plain": [
       "(32099, 8496)"
      ]
     },
     "execution_count": 73,
     "metadata": {},
     "output_type": "execute_result"
    }
   ],
   "source": [
    "tfidf_train_df.shape"
   ]
  },
  {
   "cell_type": "code",
   "execution_count": 156,
   "metadata": {},
   "outputs": [],
   "source": [
    "# try without LSA\n",
    "X_train_feature = pd.concat([neighbourhood, tfidf_train_df], \n",
    "                            axis=1, join_axes=[X_train.index])\n",
    "X_test_feature = pd.concat([neighbourhood, tfidf_test_df], \n",
    "                           axis=1, join_axes=[X_test.index])\n",
    "\n",
    "feature_set = pd.concat([X_train_feature, X_test_feature]).fillna(0)"
   ]
  },
  {
   "cell_type": "code",
   "execution_count": 157,
   "metadata": {},
   "outputs": [],
   "source": [
    "feature_set['host_cluster']=df.host_cluster\n",
    "feature_set['super_host']=df.host_is_superhost"
   ]
  },
  {
   "cell_type": "code",
   "execution_count": 116,
   "metadata": {
    "scrolled": true
   },
   "outputs": [
    {
     "data": {
      "text/html": [
       "<div>\n",
       "<style scoped>\n",
       "    .dataframe tbody tr th:only-of-type {\n",
       "        vertical-align: middle;\n",
       "    }\n",
       "\n",
       "    .dataframe tbody tr th {\n",
       "        vertical-align: top;\n",
       "    }\n",
       "\n",
       "    .dataframe thead th {\n",
       "        text-align: right;\n",
       "    }\n",
       "</style>\n",
       "<table border=\"1\" class=\"dataframe\">\n",
       "  <thead>\n",
       "    <tr style=\"text-align: right;\">\n",
       "      <th></th>\n",
       "      <th>Alésia</th>\n",
       "      <th>Austerlitz</th>\n",
       "      <th>Auteuil</th>\n",
       "      <th>Bastille</th>\n",
       "      <th>Batignolles</th>\n",
       "      <th>Bercy</th>\n",
       "      <th>Buttes-Chaumont - Belleville</th>\n",
       "      <th>Canal Saint-Martin</th>\n",
       "      <th>Champs-Elysées</th>\n",
       "      <th>Châtelet - Les Halles - Beaubourg</th>\n",
       "      <th>...</th>\n",
       "      <th>zenith</th>\n",
       "      <th>zero</th>\n",
       "      <th>zinc</th>\n",
       "      <th>zola</th>\n",
       "      <th>zona</th>\n",
       "      <th>zone</th>\n",
       "      <th>zones</th>\n",
       "      <th>zoo</th>\n",
       "      <th>host_cluster</th>\n",
       "      <th>super_host</th>\n",
       "    </tr>\n",
       "  </thead>\n",
       "  <tbody>\n",
       "    <tr>\n",
       "      <th>36623</th>\n",
       "      <td>0</td>\n",
       "      <td>0</td>\n",
       "      <td>0</td>\n",
       "      <td>0</td>\n",
       "      <td>0</td>\n",
       "      <td>0</td>\n",
       "      <td>0</td>\n",
       "      <td>0</td>\n",
       "      <td>0</td>\n",
       "      <td>0</td>\n",
       "      <td>...</td>\n",
       "      <td>0.0</td>\n",
       "      <td>0.0</td>\n",
       "      <td>0.0</td>\n",
       "      <td>0.0</td>\n",
       "      <td>0.0</td>\n",
       "      <td>0.0</td>\n",
       "      <td>0.0</td>\n",
       "      <td>0.0</td>\n",
       "      <td>3</td>\n",
       "      <td>1</td>\n",
       "    </tr>\n",
       "    <tr>\n",
       "      <th>35621</th>\n",
       "      <td>0</td>\n",
       "      <td>0</td>\n",
       "      <td>0</td>\n",
       "      <td>0</td>\n",
       "      <td>0</td>\n",
       "      <td>0</td>\n",
       "      <td>0</td>\n",
       "      <td>0</td>\n",
       "      <td>0</td>\n",
       "      <td>0</td>\n",
       "      <td>...</td>\n",
       "      <td>0.0</td>\n",
       "      <td>0.0</td>\n",
       "      <td>0.0</td>\n",
       "      <td>0.0</td>\n",
       "      <td>0.0</td>\n",
       "      <td>0.0</td>\n",
       "      <td>0.0</td>\n",
       "      <td>0.0</td>\n",
       "      <td>0</td>\n",
       "      <td>0</td>\n",
       "    </tr>\n",
       "  </tbody>\n",
       "</table>\n",
       "<p>2 rows × 8561 columns</p>\n",
       "</div>"
      ],
      "text/plain": [
       "       Alésia  Austerlitz  Auteuil  Bastille  Batignolles  Bercy  \\\n",
       "36623       0           0        0         0            0      0   \n",
       "35621       0           0        0         0            0      0   \n",
       "\n",
       "       Buttes-Chaumont - Belleville  Canal Saint-Martin  Champs-Elysées  \\\n",
       "36623                             0                   0               0   \n",
       "35621                             0                   0               0   \n",
       "\n",
       "       Châtelet - Les Halles - Beaubourg     ...      zenith  zero  zinc  \\\n",
       "36623                                  0     ...         0.0   0.0   0.0   \n",
       "35621                                  0     ...         0.0   0.0   0.0   \n",
       "\n",
       "       zola  zona  zone  zones  zoo  host_cluster  super_host  \n",
       "36623   0.0   0.0   0.0    0.0  0.0             3           1  \n",
       "35621   0.0   0.0   0.0    0.0  0.0             0           0  \n",
       "\n",
       "[2 rows x 8561 columns]"
      ]
     },
     "execution_count": 116,
     "metadata": {},
     "output_type": "execute_result"
    }
   ],
   "source": [
    "feature_set.head(2)"
   ]
  },
  {
   "cell_type": "code",
   "execution_count": 106,
   "metadata": {
    "scrolled": true
   },
   "outputs": [
    {
     "data": {
      "text/plain": [
       "(42799, 8561)"
      ]
     },
     "execution_count": 106,
     "metadata": {},
     "output_type": "execute_result"
    }
   ],
   "source": [
    "feature_set.shape"
   ]
  },
  {
   "cell_type": "code",
   "execution_count": 117,
   "metadata": {},
   "outputs": [
    {
     "data": {
      "text/plain": [
       "(42799, 8561)"
      ]
     },
     "execution_count": 117,
     "metadata": {},
     "output_type": "execute_result"
    }
   ],
   "source": [
    "feature_set.shape"
   ]
  },
  {
   "cell_type": "markdown",
   "metadata": {},
   "source": [
    "## Balance Training Set"
   ]
  },
  {
   "cell_type": "markdown",
   "metadata": {},
   "source": [
    "### Smaller training set (2000x2000)"
   ]
  },
  {
   "cell_type": "code",
   "execution_count": 160,
   "metadata": {},
   "outputs": [],
   "source": [
    "# I have an imbalanced dataset. I will be balancing the training set. \n",
    "train_set_sm = pd.concat([feature_set.loc[feature_set.super_host==1][:2000], \n",
    "                         feature_set.loc[feature_set.super_host==0][:2000]])\n",
    "test_set_sm = pd.concat([feature_set.loc[feature_set.super_host==1][2000:], \n",
    "                        feature_set.loc[feature_set.super_host==0][2000:]])"
   ]
  },
  {
   "cell_type": "code",
   "execution_count": 161,
   "metadata": {},
   "outputs": [
    {
     "data": {
      "text/plain": [
       "(4000, 8561)"
      ]
     },
     "execution_count": 161,
     "metadata": {},
     "output_type": "execute_result"
    }
   ],
   "source": [
    "train_set.shape"
   ]
  },
  {
   "cell_type": "code",
   "execution_count": 162,
   "metadata": {},
   "outputs": [
    {
     "data": {
      "text/html": [
       "<div>\n",
       "<style scoped>\n",
       "    .dataframe tbody tr th:only-of-type {\n",
       "        vertical-align: middle;\n",
       "    }\n",
       "\n",
       "    .dataframe tbody tr th {\n",
       "        vertical-align: top;\n",
       "    }\n",
       "\n",
       "    .dataframe thead th {\n",
       "        text-align: right;\n",
       "    }\n",
       "</style>\n",
       "<table border=\"1\" class=\"dataframe\">\n",
       "  <thead>\n",
       "    <tr style=\"text-align: right;\">\n",
       "      <th></th>\n",
       "      <th>Alésia</th>\n",
       "      <th>Austerlitz</th>\n",
       "      <th>Auteuil</th>\n",
       "      <th>Bastille</th>\n",
       "      <th>Batignolles</th>\n",
       "      <th>Bercy</th>\n",
       "      <th>Buttes-Chaumont - Belleville</th>\n",
       "      <th>Canal Saint-Martin</th>\n",
       "      <th>Champs-Elysées</th>\n",
       "      <th>Châtelet - Les Halles - Beaubourg</th>\n",
       "      <th>...</th>\n",
       "      <th>zenith</th>\n",
       "      <th>zero</th>\n",
       "      <th>zinc</th>\n",
       "      <th>zola</th>\n",
       "      <th>zona</th>\n",
       "      <th>zone</th>\n",
       "      <th>zones</th>\n",
       "      <th>zoo</th>\n",
       "      <th>host_cluster</th>\n",
       "      <th>super_host</th>\n",
       "    </tr>\n",
       "  </thead>\n",
       "  <tbody>\n",
       "    <tr>\n",
       "      <th>36623</th>\n",
       "      <td>0</td>\n",
       "      <td>0</td>\n",
       "      <td>0</td>\n",
       "      <td>0</td>\n",
       "      <td>0</td>\n",
       "      <td>0</td>\n",
       "      <td>0</td>\n",
       "      <td>0</td>\n",
       "      <td>0</td>\n",
       "      <td>0</td>\n",
       "      <td>...</td>\n",
       "      <td>0.0</td>\n",
       "      <td>0.0</td>\n",
       "      <td>0.0</td>\n",
       "      <td>0.0</td>\n",
       "      <td>0.0</td>\n",
       "      <td>0.0</td>\n",
       "      <td>0.0</td>\n",
       "      <td>0.0</td>\n",
       "      <td>3</td>\n",
       "      <td>1</td>\n",
       "    </tr>\n",
       "    <tr>\n",
       "      <th>40228</th>\n",
       "      <td>0</td>\n",
       "      <td>0</td>\n",
       "      <td>0</td>\n",
       "      <td>0</td>\n",
       "      <td>0</td>\n",
       "      <td>0</td>\n",
       "      <td>0</td>\n",
       "      <td>0</td>\n",
       "      <td>0</td>\n",
       "      <td>0</td>\n",
       "      <td>...</td>\n",
       "      <td>0.0</td>\n",
       "      <td>0.0</td>\n",
       "      <td>0.0</td>\n",
       "      <td>0.0</td>\n",
       "      <td>0.0</td>\n",
       "      <td>0.0</td>\n",
       "      <td>0.0</td>\n",
       "      <td>0.0</td>\n",
       "      <td>2</td>\n",
       "      <td>1</td>\n",
       "    </tr>\n",
       "    <tr>\n",
       "      <th>32410</th>\n",
       "      <td>0</td>\n",
       "      <td>0</td>\n",
       "      <td>0</td>\n",
       "      <td>0</td>\n",
       "      <td>0</td>\n",
       "      <td>0</td>\n",
       "      <td>0</td>\n",
       "      <td>0</td>\n",
       "      <td>0</td>\n",
       "      <td>0</td>\n",
       "      <td>...</td>\n",
       "      <td>0.0</td>\n",
       "      <td>0.0</td>\n",
       "      <td>0.0</td>\n",
       "      <td>0.0</td>\n",
       "      <td>0.0</td>\n",
       "      <td>0.0</td>\n",
       "      <td>0.0</td>\n",
       "      <td>0.0</td>\n",
       "      <td>2</td>\n",
       "      <td>1</td>\n",
       "    </tr>\n",
       "    <tr>\n",
       "      <th>25919</th>\n",
       "      <td>0</td>\n",
       "      <td>0</td>\n",
       "      <td>0</td>\n",
       "      <td>0</td>\n",
       "      <td>0</td>\n",
       "      <td>0</td>\n",
       "      <td>0</td>\n",
       "      <td>0</td>\n",
       "      <td>0</td>\n",
       "      <td>0</td>\n",
       "      <td>...</td>\n",
       "      <td>0.0</td>\n",
       "      <td>0.0</td>\n",
       "      <td>0.0</td>\n",
       "      <td>0.0</td>\n",
       "      <td>0.0</td>\n",
       "      <td>0.0</td>\n",
       "      <td>0.0</td>\n",
       "      <td>0.0</td>\n",
       "      <td>2</td>\n",
       "      <td>1</td>\n",
       "    </tr>\n",
       "    <tr>\n",
       "      <th>52187</th>\n",
       "      <td>0</td>\n",
       "      <td>0</td>\n",
       "      <td>0</td>\n",
       "      <td>0</td>\n",
       "      <td>0</td>\n",
       "      <td>0</td>\n",
       "      <td>0</td>\n",
       "      <td>0</td>\n",
       "      <td>0</td>\n",
       "      <td>0</td>\n",
       "      <td>...</td>\n",
       "      <td>0.0</td>\n",
       "      <td>0.0</td>\n",
       "      <td>0.0</td>\n",
       "      <td>0.0</td>\n",
       "      <td>0.0</td>\n",
       "      <td>0.0</td>\n",
       "      <td>0.0</td>\n",
       "      <td>0.0</td>\n",
       "      <td>2</td>\n",
       "      <td>1</td>\n",
       "    </tr>\n",
       "  </tbody>\n",
       "</table>\n",
       "<p>5 rows × 8561 columns</p>\n",
       "</div>"
      ],
      "text/plain": [
       "       Alésia  Austerlitz  Auteuil  Bastille  Batignolles  Bercy  \\\n",
       "36623       0           0        0         0            0      0   \n",
       "40228       0           0        0         0            0      0   \n",
       "32410       0           0        0         0            0      0   \n",
       "25919       0           0        0         0            0      0   \n",
       "52187       0           0        0         0            0      0   \n",
       "\n",
       "       Buttes-Chaumont - Belleville  Canal Saint-Martin  Champs-Elysées  \\\n",
       "36623                             0                   0               0   \n",
       "40228                             0                   0               0   \n",
       "32410                             0                   0               0   \n",
       "25919                             0                   0               0   \n",
       "52187                             0                   0               0   \n",
       "\n",
       "       Châtelet - Les Halles - Beaubourg     ...      zenith  zero  zinc  \\\n",
       "36623                                  0     ...         0.0   0.0   0.0   \n",
       "40228                                  0     ...         0.0   0.0   0.0   \n",
       "32410                                  0     ...         0.0   0.0   0.0   \n",
       "25919                                  0     ...         0.0   0.0   0.0   \n",
       "52187                                  0     ...         0.0   0.0   0.0   \n",
       "\n",
       "       zola  zona  zone  zones  zoo  host_cluster  super_host  \n",
       "36623   0.0   0.0   0.0    0.0  0.0             3           1  \n",
       "40228   0.0   0.0   0.0    0.0  0.0             2           1  \n",
       "32410   0.0   0.0   0.0    0.0  0.0             2           1  \n",
       "25919   0.0   0.0   0.0    0.0  0.0             2           1  \n",
       "52187   0.0   0.0   0.0    0.0  0.0             2           1  \n",
       "\n",
       "[5 rows x 8561 columns]"
      ]
     },
     "execution_count": 162,
     "metadata": {},
     "output_type": "execute_result"
    }
   ],
   "source": [
    "train_set.head()"
   ]
  },
  {
   "cell_type": "code",
   "execution_count": 163,
   "metadata": {},
   "outputs": [],
   "source": [
    "X_train2 = train_set_sm.iloc[:,:8559]\n",
    "y_train2 = train_set_sm['host_cluster']\n",
    "y_train_sh = train_set_sm['super_host']\n",
    "\n",
    "X_test2 = test_set_sm.iloc[:,:8559]\n",
    "y_test2 = test_set_sm['host_cluster']\n",
    "y_test_sh = test_set_sm['super_host']\n"
   ]
  },
  {
   "cell_type": "code",
   "execution_count": 164,
   "metadata": {
    "scrolled": true
   },
   "outputs": [
    {
     "data": {
      "text/plain": [
       "(4000, 8559)"
      ]
     },
     "execution_count": 164,
     "metadata": {},
     "output_type": "execute_result"
    }
   ],
   "source": [
    "X_train2.shape"
   ]
  },
  {
   "cell_type": "code",
   "execution_count": 165,
   "metadata": {},
   "outputs": [
    {
     "data": {
      "text/plain": [
       "(38799, 8559)"
      ]
     },
     "execution_count": 165,
     "metadata": {},
     "output_type": "execute_result"
    }
   ],
   "source": [
    "X_test2.shape"
   ]
  },
  {
   "cell_type": "code",
   "execution_count": 166,
   "metadata": {},
   "outputs": [
    {
     "data": {
      "text/html": [
       "<div>\n",
       "<style scoped>\n",
       "    .dataframe tbody tr th:only-of-type {\n",
       "        vertical-align: middle;\n",
       "    }\n",
       "\n",
       "    .dataframe tbody tr th {\n",
       "        vertical-align: top;\n",
       "    }\n",
       "\n",
       "    .dataframe thead th {\n",
       "        text-align: right;\n",
       "    }\n",
       "</style>\n",
       "<table border=\"1\" class=\"dataframe\">\n",
       "  <thead>\n",
       "    <tr style=\"text-align: right;\">\n",
       "      <th></th>\n",
       "      <th>Alésia</th>\n",
       "      <th>Austerlitz</th>\n",
       "      <th>Auteuil</th>\n",
       "      <th>Bastille</th>\n",
       "      <th>Batignolles</th>\n",
       "      <th>Bercy</th>\n",
       "      <th>Buttes-Chaumont - Belleville</th>\n",
       "      <th>Canal Saint-Martin</th>\n",
       "      <th>Champs-Elysées</th>\n",
       "      <th>Châtelet - Les Halles - Beaubourg</th>\n",
       "      <th>...</th>\n",
       "      <th>zara</th>\n",
       "      <th>zen</th>\n",
       "      <th>zenith</th>\n",
       "      <th>zero</th>\n",
       "      <th>zinc</th>\n",
       "      <th>zola</th>\n",
       "      <th>zona</th>\n",
       "      <th>zone</th>\n",
       "      <th>zones</th>\n",
       "      <th>zoo</th>\n",
       "    </tr>\n",
       "  </thead>\n",
       "  <tbody>\n",
       "    <tr>\n",
       "      <th>36623</th>\n",
       "      <td>0</td>\n",
       "      <td>0</td>\n",
       "      <td>0</td>\n",
       "      <td>0</td>\n",
       "      <td>0</td>\n",
       "      <td>0</td>\n",
       "      <td>0</td>\n",
       "      <td>0</td>\n",
       "      <td>0</td>\n",
       "      <td>0</td>\n",
       "      <td>...</td>\n",
       "      <td>0.0</td>\n",
       "      <td>0.0</td>\n",
       "      <td>0.0</td>\n",
       "      <td>0.0</td>\n",
       "      <td>0.0</td>\n",
       "      <td>0.0</td>\n",
       "      <td>0.0</td>\n",
       "      <td>0.0</td>\n",
       "      <td>0.0</td>\n",
       "      <td>0.0</td>\n",
       "    </tr>\n",
       "    <tr>\n",
       "      <th>40228</th>\n",
       "      <td>0</td>\n",
       "      <td>0</td>\n",
       "      <td>0</td>\n",
       "      <td>0</td>\n",
       "      <td>0</td>\n",
       "      <td>0</td>\n",
       "      <td>0</td>\n",
       "      <td>0</td>\n",
       "      <td>0</td>\n",
       "      <td>0</td>\n",
       "      <td>...</td>\n",
       "      <td>0.0</td>\n",
       "      <td>0.0</td>\n",
       "      <td>0.0</td>\n",
       "      <td>0.0</td>\n",
       "      <td>0.0</td>\n",
       "      <td>0.0</td>\n",
       "      <td>0.0</td>\n",
       "      <td>0.0</td>\n",
       "      <td>0.0</td>\n",
       "      <td>0.0</td>\n",
       "    </tr>\n",
       "  </tbody>\n",
       "</table>\n",
       "<p>2 rows × 8559 columns</p>\n",
       "</div>"
      ],
      "text/plain": [
       "       Alésia  Austerlitz  Auteuil  Bastille  Batignolles  Bercy  \\\n",
       "36623       0           0        0         0            0      0   \n",
       "40228       0           0        0         0            0      0   \n",
       "\n",
       "       Buttes-Chaumont - Belleville  Canal Saint-Martin  Champs-Elysées  \\\n",
       "36623                             0                   0               0   \n",
       "40228                             0                   0               0   \n",
       "\n",
       "       Châtelet - Les Halles - Beaubourg ...   zara  zen  zenith  zero  zinc  \\\n",
       "36623                                  0 ...    0.0  0.0     0.0   0.0   0.0   \n",
       "40228                                  0 ...    0.0  0.0     0.0   0.0   0.0   \n",
       "\n",
       "       zola  zona  zone  zones  zoo  \n",
       "36623   0.0   0.0   0.0    0.0  0.0  \n",
       "40228   0.0   0.0   0.0    0.0  0.0  \n",
       "\n",
       "[2 rows x 8559 columns]"
      ]
     },
     "execution_count": 166,
     "metadata": {},
     "output_type": "execute_result"
    }
   ],
   "source": [
    "X_train2.head(2)"
   ]
  },
  {
   "cell_type": "markdown",
   "metadata": {},
   "source": [
    "### Predict Superhost"
   ]
  },
  {
   "cell_type": "code",
   "execution_count": 168,
   "metadata": {},
   "outputs": [
    {
     "name": "stdout",
     "output_type": "stream",
     "text": [
      "Training set score: 0.80925\n",
      "\n",
      "Test set score: 0.5696023093378695\n",
      "\n",
      "Crosstab for traing set:\n",
      " Predicted     0     1   All\n",
      "True                       \n",
      "0          1704   296  2000\n",
      "1           467  1533  2000\n",
      "All        2171  1829  4000\n",
      "\n",
      "Crosstab for test set:\n",
      " Predicted      0      1    All\n",
      "True                          \n",
      "0          20279  14176  34455\n",
      "1           2523   1821   4344\n",
      "All        22802  15997  38799\n"
     ]
    }
   ],
   "source": [
    "lsa_rfc_train = rfc.fit(X_train2, y_train_sh)\n",
    "\n",
    "print('Training set score:', rfc.score(X_train2, y_train_sh))\n",
    "print('\\nTest set score:', rfc.score(X_test2, y_test_sh))\n",
    "\n",
    "y_pred=rfc.predict(X_test2)\n",
    "y_pred_train=rfc.predict(X_train2)\n",
    "\n",
    "print('\\nCrosstab for traing set:\\n', pd.crosstab(y_train_sh, y_pred_train, rownames=['True'], \n",
    "                                            colnames=['Predicted'], margins=True))\n",
    "print('\\nCrosstab for test set:\\n', pd.crosstab(y_test_sh, y_pred,rownames=['True'], \n",
    "                                            colnames=['Predicted'], margins=True))"
   ]
  },
  {
   "cell_type": "code",
   "execution_count": 132,
   "metadata": {},
   "outputs": [
    {
     "name": "stdout",
     "output_type": "stream",
     "text": [
      "Type 1 Error:\n",
      "0.44643738209258454\n",
      "\n",
      "Type 2 Error:\n",
      "0.5398250460405156\n"
     ]
    }
   ],
   "source": [
    "print('Type 1 Error:')\n",
    "print(15382/34455)\n",
    "\n",
    "print('\\nType 2 Error:')\n",
    "print(2345/4344)"
   ]
  },
  {
   "cell_type": "markdown",
   "metadata": {},
   "source": [
    "### Predict Clusters - Small Training Set Score"
   ]
  },
  {
   "cell_type": "code",
   "execution_count": 169,
   "metadata": {
    "scrolled": false
   },
   "outputs": [
    {
     "name": "stdout",
     "output_type": "stream",
     "text": [
      "Training set score: 0.78125\n",
      "\n",
      "Test set score: 0.5173071470914199\n",
      "\n",
      "Crosstab for traing set:\n",
      " Predicted     0   1     2   3   All\n",
      "True                               \n",
      "0          1575   1   277   0  1853\n",
      "1            62  43    42   0   147\n",
      "2           390   1  1452   0  1843\n",
      "3            56   0    46  55   157\n",
      "All        2083  45  1817  55  4000\n",
      "\n",
      "Crosstab for test set:\n",
      " Predicted      0   1      2  3    All\n",
      "True                                 \n",
      "0          18390  52  13509  1  31952\n",
      "1           1417   5   1080  1   2503\n",
      "2           2277   6   1676  0   3959\n",
      "3            206   0    179  0    385\n",
      "All        22290  63  16444  2  38799\n"
     ]
    }
   ],
   "source": [
    "#training set 2000x2000\n",
    "lsa_rfc_train = rfc.fit(X_train2, y_train2)\n",
    "\n",
    "print('Training set score:', rfc.score(X_train2, y_train2))\n",
    "print('\\nTest set score:', rfc.score(X_test2, y_test2))\n",
    "\n",
    "y_pred=rfc.predict(X_test2)\n",
    "y_pred_train=rfc.predict(X_train2)\n",
    "\n",
    "print('\\nCrosstab for traing set:\\n', pd.crosstab(y_train2, y_pred_train,rownames=['True'], \n",
    "                                            colnames=['Predicted'], margins=True))\n",
    "print('\\nCrosstab for test set:\\n', pd.crosstab(y_test2, y_pred,rownames=['True'], \n",
    "                                            colnames=['Predicted'], margins=True))"
   ]
  },
  {
   "cell_type": "markdown",
   "metadata": {},
   "source": [
    "###  Larger training set (4000x4000)"
   ]
  },
  {
   "cell_type": "code",
   "execution_count": 170,
   "metadata": {},
   "outputs": [
    {
     "name": "stdout",
     "output_type": "stream",
     "text": [
      "(8000, 8559)\n",
      "(34799, 8559)\n"
     ]
    }
   ],
   "source": [
    "train_set_lg = pd.concat([feature_set.loc[df.host_is_superhost==1][:4000], \n",
    "                         feature_set.loc[df.host_is_superhost==0][:4000]])\n",
    "test_set_lg = pd.concat([feature_set.loc[df.host_is_superhost==1][4000:], \n",
    "                        feature_set.loc[df.host_is_superhost==0][4000:]])\n",
    "\n",
    "X_train2 = train_set_lg.iloc[:,:8559]\n",
    "y_train2 = train_set_lg['host_cluster']\n",
    "\n",
    "X_test2 = test_set_lg.iloc[:,:8559]\n",
    "y_test2 = test_set_lg['host_cluster']\n",
    "\n",
    "print(X_train2.shape)\n",
    "print(X_test2.shape)"
   ]
  },
  {
   "cell_type": "code",
   "execution_count": 137,
   "metadata": {
    "scrolled": true
   },
   "outputs": [
    {
     "name": "stdout",
     "output_type": "stream",
     "text": [
      "Training set score: 0.77575\n",
      "\n",
      "Test set score: 0.5187218023506422\n",
      "\n",
      "Crosstab for traing set:\n",
      " Predicted     0   1     2    3   All\n",
      "True                                \n",
      "0          3131   0   589    1  3721\n",
      "1           120  79    80    0   279\n",
      "2           785   0  2878    0  3663\n",
      "3           115   0   104  118   337\n",
      "All        4151  79  3651  119  8000\n",
      "\n",
      "Crosstab for test set:\n",
      " Predicted      0  1      2   3    All\n",
      "True                                 \n",
      "0          17127  2  12934  21  30084\n",
      "1           1288  1   1075   7   2371\n",
      "2           1215  1    922   1   2139\n",
      "3            103  0    101   1    205\n",
      "All        19733  4  15032  30  34799\n"
     ]
    }
   ],
   "source": [
    "# rfc with a training set 4000x4000\n",
    "lsa_rfc_train = rfc.fit(X_train2, y_train2)\n",
    "\n",
    "print('Training set score:', rfc.score(X_train2, y_train2))\n",
    "print('\\nTest set score:', rfc.score(X_test2, y_test2))\n",
    "\n",
    "y_pred=rfc.predict(X_test2)\n",
    "y_pred_train=rfc.predict(X_train2)\n",
    "\n",
    "print('\\nCrosstab for traing set:\\n', pd.crosstab(y_train2, y_pred_train,rownames=['True'], \n",
    "                                            colnames=['Predicted'], margins=True))\n",
    "print('\\nCrosstab for test set:\\n', pd.crosstab(y_test2, y_pred,rownames=['True'], \n",
    "                                            colnames=['Predicted'], margins=True))"
   ]
  },
  {
   "cell_type": "markdown",
   "metadata": {},
   "source": [
    "##  Add LSA to a training set (4000x4000)"
   ]
  },
  {
   "cell_type": "code",
   "execution_count": 146,
   "metadata": {},
   "outputs": [
    {
     "name": "stdout",
     "output_type": "stream",
     "text": [
      "(4000, 12560)\n",
      "(38799, 12560)\n"
     ]
    },
    {
     "data": {
      "text/html": [
       "<div>\n",
       "<style scoped>\n",
       "    .dataframe tbody tr th:only-of-type {\n",
       "        vertical-align: middle;\n",
       "    }\n",
       "\n",
       "    .dataframe tbody tr th {\n",
       "        vertical-align: top;\n",
       "    }\n",
       "\n",
       "    .dataframe thead th {\n",
       "        text-align: right;\n",
       "    }\n",
       "</style>\n",
       "<table border=\"1\" class=\"dataframe\">\n",
       "  <thead>\n",
       "    <tr style=\"text-align: right;\">\n",
       "      <th></th>\n",
       "      <th>Alésia</th>\n",
       "      <th>Austerlitz</th>\n",
       "      <th>Auteuil</th>\n",
       "      <th>Bastille</th>\n",
       "      <th>Batignolles</th>\n",
       "      <th>Bercy</th>\n",
       "      <th>Buttes-Chaumont - Belleville</th>\n",
       "      <th>Canal Saint-Martin</th>\n",
       "      <th>Champs-Elysées</th>\n",
       "      <th>Châtelet - Les Halles - Beaubourg</th>\n",
       "      <th>...</th>\n",
       "      <th>1991</th>\n",
       "      <th>1992</th>\n",
       "      <th>1993</th>\n",
       "      <th>1994</th>\n",
       "      <th>1995</th>\n",
       "      <th>1996</th>\n",
       "      <th>1997</th>\n",
       "      <th>1998</th>\n",
       "      <th>1999</th>\n",
       "      <th>host_cluster</th>\n",
       "    </tr>\n",
       "  </thead>\n",
       "  <tbody>\n",
       "    <tr>\n",
       "      <th>36623</th>\n",
       "      <td>0</td>\n",
       "      <td>0</td>\n",
       "      <td>0</td>\n",
       "      <td>0</td>\n",
       "      <td>0</td>\n",
       "      <td>0</td>\n",
       "      <td>0</td>\n",
       "      <td>0</td>\n",
       "      <td>0</td>\n",
       "      <td>0</td>\n",
       "      <td>...</td>\n",
       "      <td>0.0</td>\n",
       "      <td>0.0</td>\n",
       "      <td>0.0</td>\n",
       "      <td>0.0</td>\n",
       "      <td>0.0</td>\n",
       "      <td>0.0</td>\n",
       "      <td>0.0</td>\n",
       "      <td>0.0</td>\n",
       "      <td>0.0</td>\n",
       "      <td>3</td>\n",
       "    </tr>\n",
       "    <tr>\n",
       "      <th>40228</th>\n",
       "      <td>0</td>\n",
       "      <td>0</td>\n",
       "      <td>0</td>\n",
       "      <td>0</td>\n",
       "      <td>0</td>\n",
       "      <td>0</td>\n",
       "      <td>0</td>\n",
       "      <td>0</td>\n",
       "      <td>0</td>\n",
       "      <td>0</td>\n",
       "      <td>...</td>\n",
       "      <td>0.0</td>\n",
       "      <td>0.0</td>\n",
       "      <td>0.0</td>\n",
       "      <td>0.0</td>\n",
       "      <td>0.0</td>\n",
       "      <td>0.0</td>\n",
       "      <td>0.0</td>\n",
       "      <td>0.0</td>\n",
       "      <td>0.0</td>\n",
       "      <td>2</td>\n",
       "    </tr>\n",
       "    <tr>\n",
       "      <th>32410</th>\n",
       "      <td>0</td>\n",
       "      <td>0</td>\n",
       "      <td>0</td>\n",
       "      <td>0</td>\n",
       "      <td>0</td>\n",
       "      <td>0</td>\n",
       "      <td>0</td>\n",
       "      <td>0</td>\n",
       "      <td>0</td>\n",
       "      <td>0</td>\n",
       "      <td>...</td>\n",
       "      <td>0.0</td>\n",
       "      <td>0.0</td>\n",
       "      <td>0.0</td>\n",
       "      <td>0.0</td>\n",
       "      <td>0.0</td>\n",
       "      <td>0.0</td>\n",
       "      <td>0.0</td>\n",
       "      <td>0.0</td>\n",
       "      <td>0.0</td>\n",
       "      <td>2</td>\n",
       "    </tr>\n",
       "  </tbody>\n",
       "</table>\n",
       "<p>3 rows × 12560 columns</p>\n",
       "</div>"
      ],
      "text/plain": [
       "       Alésia  Austerlitz  Auteuil  Bastille  Batignolles  Bercy  \\\n",
       "36623       0           0        0         0            0      0   \n",
       "40228       0           0        0         0            0      0   \n",
       "32410       0           0        0         0            0      0   \n",
       "\n",
       "       Buttes-Chaumont - Belleville  Canal Saint-Martin  Champs-Elysées  \\\n",
       "36623                             0                   0               0   \n",
       "40228                             0                   0               0   \n",
       "32410                             0                   0               0   \n",
       "\n",
       "       Châtelet - Les Halles - Beaubourg      ...       1991  1992  1993  \\\n",
       "36623                                  0      ...        0.0   0.0   0.0   \n",
       "40228                                  0      ...        0.0   0.0   0.0   \n",
       "32410                                  0      ...        0.0   0.0   0.0   \n",
       "\n",
       "       1994  1995  1996  1997  1998  1999  host_cluster  \n",
       "36623   0.0   0.0   0.0   0.0   0.0   0.0             3  \n",
       "40228   0.0   0.0   0.0   0.0   0.0   0.0             2  \n",
       "32410   0.0   0.0   0.0   0.0   0.0   0.0             2  \n",
       "\n",
       "[3 rows x 12560 columns]"
      ]
     },
     "execution_count": 146,
     "metadata": {},
     "output_type": "execute_result"
    }
   ],
   "source": [
    "X_train_feature_lsa =  pd.DataFrame(desc_lsa_train)\n",
    "X_test_feature_lsa = pd.DataFrame(desc_lsa_test)\n",
    "\n",
    "\n",
    "X_train_feature = pd.concat([X_train_feature, X_train_feature_lsa], \n",
    "                            axis=1, join_axes=[X_train.index])\n",
    "X_test_feature = pd.concat([X_test_feature, X_test_feature_lsa], \n",
    "                           axis=1, join_axes=[X_test.index])\n",
    "\n",
    "feature_set = pd.concat([X_train_feature, X_test_feature]).fillna(0)\n",
    "feature_set['host_cluster']=df.host_cluster\n",
    "\n",
    "train_set = pd.concat([feature_set.loc[df.host_is_superhost==1][:2000], \n",
    "                         feature_set.loc[df.host_is_superhost==0][:2000]])\n",
    "test_set = pd.concat([feature_set.loc[df.host_is_superhost==1][2000:], \n",
    "                        feature_set.loc[df.host_is_superhost==0][2000:]])\n",
    "\n",
    "print(train_set.shape)\n",
    "print(test_set.shape)\n",
    "train_set.head(3)"
   ]
  },
  {
   "cell_type": "code",
   "execution_count": 148,
   "metadata": {},
   "outputs": [
    {
     "name": "stdout",
     "output_type": "stream",
     "text": [
      "(4000, 12559)\n",
      "(38799, 12559)\n"
     ]
    }
   ],
   "source": [
    "X_train3 = train_set.iloc[:,:12559]\n",
    "y_train3 = train_set['host_cluster']\n",
    "\n",
    "X_test3 = test_set.iloc[:,:12559]\n",
    "y_test3 = test_set['host_cluster']\n",
    "\n",
    "print(X_train3.shape)\n",
    "print(X_test3.shape)"
   ]
  },
  {
   "cell_type": "code",
   "execution_count": 149,
   "metadata": {},
   "outputs": [
    {
     "data": {
      "text/html": [
       "<div>\n",
       "<style scoped>\n",
       "    .dataframe tbody tr th:only-of-type {\n",
       "        vertical-align: middle;\n",
       "    }\n",
       "\n",
       "    .dataframe tbody tr th {\n",
       "        vertical-align: top;\n",
       "    }\n",
       "\n",
       "    .dataframe thead th {\n",
       "        text-align: right;\n",
       "    }\n",
       "</style>\n",
       "<table border=\"1\" class=\"dataframe\">\n",
       "  <thead>\n",
       "    <tr style=\"text-align: right;\">\n",
       "      <th></th>\n",
       "      <th>Alésia</th>\n",
       "      <th>Austerlitz</th>\n",
       "      <th>Auteuil</th>\n",
       "      <th>Bastille</th>\n",
       "      <th>Batignolles</th>\n",
       "      <th>Bercy</th>\n",
       "      <th>Buttes-Chaumont - Belleville</th>\n",
       "      <th>Canal Saint-Martin</th>\n",
       "      <th>Champs-Elysées</th>\n",
       "      <th>Châtelet - Les Halles - Beaubourg</th>\n",
       "      <th>...</th>\n",
       "      <th>zara</th>\n",
       "      <th>zen</th>\n",
       "      <th>zenith</th>\n",
       "      <th>zero</th>\n",
       "      <th>zinc</th>\n",
       "      <th>zola</th>\n",
       "      <th>zona</th>\n",
       "      <th>zone</th>\n",
       "      <th>zones</th>\n",
       "      <th>zoo</th>\n",
       "    </tr>\n",
       "  </thead>\n",
       "  <tbody>\n",
       "    <tr>\n",
       "      <th>36623</th>\n",
       "      <td>0</td>\n",
       "      <td>0</td>\n",
       "      <td>0</td>\n",
       "      <td>0</td>\n",
       "      <td>0</td>\n",
       "      <td>0</td>\n",
       "      <td>0</td>\n",
       "      <td>0</td>\n",
       "      <td>0</td>\n",
       "      <td>0</td>\n",
       "      <td>...</td>\n",
       "      <td>0.0</td>\n",
       "      <td>0.0</td>\n",
       "      <td>0.0</td>\n",
       "      <td>0.0</td>\n",
       "      <td>0.0</td>\n",
       "      <td>0.0</td>\n",
       "      <td>0.0</td>\n",
       "      <td>0.0</td>\n",
       "      <td>0.0</td>\n",
       "      <td>0.0</td>\n",
       "    </tr>\n",
       "    <tr>\n",
       "      <th>40228</th>\n",
       "      <td>0</td>\n",
       "      <td>0</td>\n",
       "      <td>0</td>\n",
       "      <td>0</td>\n",
       "      <td>0</td>\n",
       "      <td>0</td>\n",
       "      <td>0</td>\n",
       "      <td>0</td>\n",
       "      <td>0</td>\n",
       "      <td>0</td>\n",
       "      <td>...</td>\n",
       "      <td>0.0</td>\n",
       "      <td>0.0</td>\n",
       "      <td>0.0</td>\n",
       "      <td>0.0</td>\n",
       "      <td>0.0</td>\n",
       "      <td>0.0</td>\n",
       "      <td>0.0</td>\n",
       "      <td>0.0</td>\n",
       "      <td>0.0</td>\n",
       "      <td>0.0</td>\n",
       "    </tr>\n",
       "  </tbody>\n",
       "</table>\n",
       "<p>2 rows × 8559 columns</p>\n",
       "</div>"
      ],
      "text/plain": [
       "       Alésia  Austerlitz  Auteuil  Bastille  Batignolles  Bercy  \\\n",
       "36623       0           0        0         0            0      0   \n",
       "40228       0           0        0         0            0      0   \n",
       "\n",
       "       Buttes-Chaumont - Belleville  Canal Saint-Martin  Champs-Elysées  \\\n",
       "36623                             0                   0               0   \n",
       "40228                             0                   0               0   \n",
       "\n",
       "       Châtelet - Les Halles - Beaubourg ...   zara  zen  zenith  zero  zinc  \\\n",
       "36623                                  0 ...    0.0  0.0     0.0   0.0   0.0   \n",
       "40228                                  0 ...    0.0  0.0     0.0   0.0   0.0   \n",
       "\n",
       "       zola  zona  zone  zones  zoo  \n",
       "36623   0.0   0.0   0.0    0.0  0.0  \n",
       "40228   0.0   0.0   0.0    0.0  0.0  \n",
       "\n",
       "[2 rows x 8559 columns]"
      ]
     },
     "execution_count": 149,
     "metadata": {},
     "output_type": "execute_result"
    }
   ],
   "source": [
    "X_train2.head(2)"
   ]
  },
  {
   "cell_type": "code",
   "execution_count": 150,
   "metadata": {},
   "outputs": [
    {
     "name": "stdout",
     "output_type": "stream",
     "text": [
      "Training set score: 0.78225\n",
      "\n",
      "Test set score: 0.49240959818552027\n",
      "\n",
      "Crosstab for traing set:\n",
      " Predicted     0   1     2   3   All\n",
      "True                               \n",
      "0          1531   0   322   0  1853\n",
      "1            61  42    44   0   147\n",
      "2           347   0  1496   0  1843\n",
      "3            59   0    38  60   157\n",
      "All        1998  42  1900  60  4000\n",
      "\n",
      "Crosstab for test set:\n",
      " Predicted      0  1      2  3    All\n",
      "True                                \n",
      "0          17280  4  14665  3  31952\n",
      "1           1327  0   1175  1   2503\n",
      "2           2133  1   1825  0   3959\n",
      "3            202  0    183  0    385\n",
      "All        20942  5  17848  4  38799\n"
     ]
    }
   ],
   "source": [
    "lsa_rfc_train = rfc.fit(X_train3, y_train3)\n",
    "\n",
    "print('Training set score:', rfc.score(X_train3, y_train3))\n",
    "print('\\nTest set score:', rfc.score(X_test3, y_test3))\n",
    "\n",
    "y_pred=rfc.predict(X_test3)\n",
    "y_pred_train=rfc.predict(X_train3)\n",
    "\n",
    "print('\\nCrosstab for traing set:\\n', pd.crosstab(y_train3, y_pred_train,rownames=['True'], \n",
    "                                            colnames=['Predicted'], margins=True))\n",
    "print('\\nCrosstab for test set:\\n', pd.crosstab(y_test3, y_pred,rownames=['True'], \n",
    "                                            colnames=['Predicted'], margins=True))"
   ]
  },
  {
   "cell_type": "markdown",
   "metadata": {},
   "source": [
    "It seems like it's tough to predict host clusters with current dataset. It's interesting that adding LSA dropped the testing score. The best model seems to be the random forest using tf-idf and neighborhood as features."
   ]
  },
  {
   "cell_type": "markdown",
   "metadata": {},
   "source": [
    "# Does the discription determine the quality of listing?"
   ]
  },
  {
   "cell_type": "code",
   "execution_count": 181,
   "metadata": {},
   "outputs": [
    {
     "name": "stdout",
     "output_type": "stream",
     "text": [
      "Training set score: 0.7835\n",
      "\n",
      "Test set score: 0.5293177659218021\n",
      "\n",
      "Crosstab:\n",
      " Predicted      0  1      2  3    All\n",
      "True                                \n",
      "0          18893  4  13053  2  31952\n",
      "1           1454  0   1049  0   2503\n",
      "2           2314  1   1644  0   3959\n",
      "3            222  0    163  0    385\n",
      "All        22883  5  15909  2  38799\n"
     ]
    }
   ],
   "source": [
    "X_train2 = train_set_sm.iloc[:,:8559]\n",
    "X_test2 = test_set_sm.iloc[:,:8559]\n",
    "\n",
    "y_train2 = train_set_sm['host_cluster']\n",
    "y_test2 = test_set_sm['host_cluster']\n",
    "\n",
    "rfc_train_cluster = rfc.fit (X_train2, y_train2)\n",
    "rfc_ypred_cluster=rfc.predict(X_test2)\n",
    "y_pred_train=rfc.predict(X_train2)\n",
    "\n",
    "print('Training set score:', rfc.score(X_train2, y_train2))\n",
    "print('\\nTest set score:', rfc.score(X_test2, y_test2))\n",
    "\n",
    "print('\\nCrosstab:\\n', pd.crosstab(y_test2, rfc_ypred_cluster, rownames=['True'], \n",
    "                                            colnames=['Predicted'], margins=True))\n"
   ]
  },
  {
   "cell_type": "code",
   "execution_count": 182,
   "metadata": {},
   "outputs": [],
   "source": [
    "X_test2['rfc_predict']=rfc_ypred_cluster\n",
    "X_test2['final_cluster']=df['host_cluster']"
   ]
  },
  {
   "cell_type": "code",
   "execution_count": 183,
   "metadata": {},
   "outputs": [],
   "source": [
    "X_test2['reviews_per_month']=df['reviews_per_month']\n",
    "X_test2['review_scores_rating']=df['review_scores_rating']"
   ]
  },
  {
   "cell_type": "code",
   "execution_count": 187,
   "metadata": {
    "scrolled": false
   },
   "outputs": [
    {
     "data": {
      "text/html": [
       "<div>\n",
       "<style scoped>\n",
       "    .dataframe tbody tr th:only-of-type {\n",
       "        vertical-align: middle;\n",
       "    }\n",
       "\n",
       "    .dataframe tbody tr th {\n",
       "        vertical-align: top;\n",
       "    }\n",
       "\n",
       "    .dataframe thead th {\n",
       "        text-align: right;\n",
       "    }\n",
       "</style>\n",
       "<table border=\"1\" class=\"dataframe\">\n",
       "  <thead>\n",
       "    <tr style=\"text-align: right;\">\n",
       "      <th></th>\n",
       "      <th>reviews_per_month</th>\n",
       "      <th>final_cluster</th>\n",
       "      <th>review_scores_rating</th>\n",
       "    </tr>\n",
       "    <tr>\n",
       "      <th>rfc_predict</th>\n",
       "      <th></th>\n",
       "      <th></th>\n",
       "      <th></th>\n",
       "    </tr>\n",
       "  </thead>\n",
       "  <tbody>\n",
       "    <tr>\n",
       "      <th>0</th>\n",
       "      <td>1.091028</td>\n",
       "      <td>0.294891</td>\n",
       "      <td>92.815758</td>\n",
       "    </tr>\n",
       "    <tr>\n",
       "      <th>1</th>\n",
       "      <td>0.400000</td>\n",
       "      <td>0.400000</td>\n",
       "      <td>94.400000</td>\n",
       "    </tr>\n",
       "    <tr>\n",
       "      <th>2</th>\n",
       "      <td>1.094187</td>\n",
       "      <td>0.303350</td>\n",
       "      <td>92.732353</td>\n",
       "    </tr>\n",
       "    <tr>\n",
       "      <th>3</th>\n",
       "      <td>0.060000</td>\n",
       "      <td>0.000000</td>\n",
       "      <td>86.000000</td>\n",
       "    </tr>\n",
       "  </tbody>\n",
       "</table>\n",
       "</div>"
      ],
      "text/plain": [
       "             reviews_per_month  final_cluster  review_scores_rating\n",
       "rfc_predict                                                        \n",
       "0                     1.091028       0.294891             92.815758\n",
       "1                     0.400000       0.400000             94.400000\n",
       "2                     1.094187       0.303350             92.732353\n",
       "3                     0.060000       0.000000             86.000000"
      ]
     },
     "execution_count": 187,
     "metadata": {},
     "output_type": "execute_result"
    }
   ],
   "source": [
    "X_test2.groupby(by='rfc_predict')[['reviews_per_month', 'final_cluster','review_scores_rating']].mean()"
   ]
  },
  {
   "cell_type": "code",
   "execution_count": 200,
   "metadata": {},
   "outputs": [
    {
     "data": {
      "text/plain": [
       "rfc_predict\n",
       "0    22883\n",
       "1        5\n",
       "2    15909\n",
       "3        2\n",
       "Name: reviews_per_month, dtype: int64"
      ]
     },
     "execution_count": 200,
     "metadata": {},
     "output_type": "execute_result"
    }
   ],
   "source": [
    "X_test2.groupby(by='rfc_predict')['reviews_per_month'].count()"
   ]
  },
  {
   "cell_type": "code",
   "execution_count": 195,
   "metadata": {},
   "outputs": [],
   "source": [
    "import plotly.graph_objs as go\n",
    "import plotly.plotly as py\n",
    "plotly.tools.set_credentials_file(username='JinnyK', api_key='yuG6wYSbbPkHWB2voTbJ')"
   ]
  },
  {
   "cell_type": "code",
   "execution_count": 205,
   "metadata": {},
   "outputs": [],
   "source": [
    "cluster0=X_test2.loc[X_test2['rfc_predict']==0]\n",
    "cluster2=X_test2.loc[X_test2['rfc_predict']==2]"
   ]
  },
  {
   "cell_type": "code",
   "execution_count": 208,
   "metadata": {
    "scrolled": true
   },
   "outputs": [
    {
     "name": "stdout",
     "output_type": "stream",
     "text": [
      "The draw time for this plot will be slow for clients without much RAM.\n"
     ]
    },
    {
     "name": "stderr",
     "output_type": "stream",
     "text": [
      "/anaconda3/lib/python3.7/site-packages/chart_studio/api/v1/clientresp.py:44: UserWarning:\n",
      "\n",
      "Estimated Draw Time Slow\n",
      "\n",
      "/anaconda3/lib/python3.7/site-packages/IPython/core/display.py:689: UserWarning:\n",
      "\n",
      "Consider using IPython.display.IFrame instead\n",
      "\n"
     ]
    },
    {
     "data": {
      "text/html": [
       "<iframe id=\"igraph\" scrolling=\"no\" style=\"border:none;\" seamless=\"seamless\" src=\"https://plot.ly/~JinnyK/2.embed\" height=\"525px\" width=\"100%\"></iframe>"
      ],
      "text/plain": [
       "<chart_studio.tools.PlotlyDisplay object>"
      ]
     },
     "execution_count": 208,
     "metadata": {},
     "output_type": "execute_result"
    }
   ],
   "source": [
    "trace0 = go.Scatter(\n",
    "    y = cluster0['review_scores_rating'],\n",
    "    x = cluster0['reviews_per_month'],\n",
    "    name = 'Cluster 0',\n",
    "    mode = 'markers',\n",
    "    opacity=0.5,\n",
    "    marker = dict(\n",
    "        size = 10,\n",
    "        color = 70,\n",
    "        opacity=0.5,\n",
    "        line = dict(\n",
    "            width = 2,\n",
    "            color = 'rgb(0, 0, 0)'\n",
    "        )\n",
    "    )\n",
    ")\n",
    "\n",
    "trace1 = go.Scatter(\n",
    "    y = cluster2['review_scores_rating'],\n",
    "    x = cluster2['reviews_per_month'],\n",
    "    name = 'Cluster 2',\n",
    "    mode = 'markers',\n",
    "    opacity=0.5,\n",
    "    marker = dict(\n",
    "        size = 10,\n",
    "        color = 'rgb(231, 99, 250)',\n",
    "        opacity=0.5,\n",
    "        line = dict(\n",
    "            width = 2,\n",
    "            color = 'rgb(0, 0, 0)'\n",
    "        )\n",
    "    )\n",
    ")\n",
    "\n",
    "data = [trace0, trace1]\n",
    "\n",
    "py.iplot(data, filename='Airbnb Cluster')"
   ]
  },
  {
   "cell_type": "markdown",
   "metadata": {},
   "source": [
    "# Conclusion"
   ]
  },
  {
   "cell_type": "markdown",
   "metadata": {},
   "source": [
    "Airbnb offers great datasets about the city's available stays. Predicting the listing's quality and performance with the descriptions alone is challenging as we see the result above.\n",
    "\n",
    "In the future, I would like to do the followings to improve my model:\n",
    "- Combine with different datasets such as price, calendar, etc.\n",
    "- Train NLP models with larger corpus.\n",
    "- Use word2vec, spacy or tensor flow."
   ]
  },
  {
   "cell_type": "code",
   "execution_count": null,
   "metadata": {},
   "outputs": [],
   "source": []
  }
 ],
 "metadata": {
  "kernelspec": {
   "display_name": "Python 3",
   "language": "python",
   "name": "python3"
  },
  "language_info": {
   "codemirror_mode": {
    "name": "ipython",
    "version": 3
   },
   "file_extension": ".py",
   "mimetype": "text/x-python",
   "name": "python",
   "nbconvert_exporter": "python",
   "pygments_lexer": "ipython3",
   "version": "3.7.1"
  },
  "toc": {
   "base_numbering": 1,
   "nav_menu": {},
   "number_sections": true,
   "sideBar": true,
   "skip_h1_title": false,
   "title_cell": "Table of Contents",
   "title_sidebar": "Contents",
   "toc_cell": false,
   "toc_position": {
    "height": "calc(100% - 180px)",
    "left": "10px",
    "top": "150px",
    "width": "165px"
   },
   "toc_section_display": true,
   "toc_window_display": true
  }
 },
 "nbformat": 4,
 "nbformat_minor": 2
}
